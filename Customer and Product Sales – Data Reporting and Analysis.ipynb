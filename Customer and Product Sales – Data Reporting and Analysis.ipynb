{
    "metadata": {
        "kernelspec": {
            "name": "SQL",
            "display_name": "SQL",
            "language": "sql"
        },
        "language_info": {
            "name": "sql",
            "version": ""
        }
    },
    "nbformat_minor": 2,
    "nbformat": 4,
    "cells": [
        {
            "cell_type": "code",
            "source": [
                "USE master;\n",
                "GO\n",
                "\n",
                "IF EXISTS (SELECT 1 FROM sys.databases WHERE name = 'DataWarehouseAnalytics')\n",
                "BEGIN\n",
                "    ALTER DATABASE DataWarehouseAnalytics SET SINGLE_USER WITH ROLLBACK IMMEDIATE;\n",
                "    DROP DATABASE DataWarehouseAnalytics;\n",
                "END;\n",
                "GO\n",
                "\n",
                "CREATE DATABASE DataWarehouseAnalytics;\n",
                "GO\n",
                "\n",
                "USE DataWarehouseAnalytics;\n",
                "GO\n",
                "\n",
                "CREATE SCHEMA gold;\n",
                "GO\n",
                "\n",
                "CREATE TABLE gold.dim_customers(\n",
                "    customer_key int,\n",
                "    customer_id int,\n",
                "    customer_number nvarchar(50),\n",
                "    first_name nvarchar(50),\n",
                "    last_name nvarchar(50),\n",
                "    country nvarchar(50),\n",
                "    marital_status nvarchar(50),\n",
                "    gender nvarchar(50),\n",
                "    birthdate date,\n",
                "    create_date date\n",
                ");\n",
                "GO\n",
                "\n",
                "CREATE TABLE gold.dim_products(\n",
                "    product_key int,\n",
                "    product_id int,\n",
                "    product_number nvarchar(50),\n",
                "    product_name nvarchar(50),\n",
                "    category_id nvarchar(50),\n",
                "    category nvarchar(50),\n",
                "    subcategory nvarchar(50),\n",
                "    maintenance nvarchar(50),\n",
                "    cost int,\n",
                "    product_line nvarchar(50),\n",
                "    start_date date \n",
                ");\n",
                "GO\n",
                "\n",
                "CREATE TABLE gold.fact_sales(\n",
                "    order_number nvarchar(50),\n",
                "    product_key int,\n",
                "    customer_key int,\n",
                "    order_date date,\n",
                "    shipping_date date,\n",
                "    due_date date,\n",
                "    sales_amount int,\n",
                "    quantity tinyint,\n",
                "    price int \n",
                ");\n",
                "GO\n",
                "\n",
                "TRUNCATE TABLE gold.dim_customers;\n",
                "GO\n",
                "\n",
                "BULK INSERT gold.dim_customers\n",
                "FROM '/var/opt/mssql/data/gold.dim_customers.csv'\n",
                "WITH (\n",
                "    FIRSTROW = 2,\n",
                "    FIELDTERMINATOR = ',',\n",
                "    TABLOCK\n",
                ");\n",
                "GO\n",
                "\n",
                "TRUNCATE TABLE gold.dim_products;\n",
                "GO\n",
                "\n",
                "BULK INSERT gold.dim_products\n",
                "FROM '/var/opt/mssql/data/gold.dim_products.csv'\n",
                "WITH (\n",
                "    FIRSTROW = 2,\n",
                "    FIELDTERMINATOR = ',',\n",
                "    TABLOCK\n",
                ");\n",
                "GO\n",
                "\n",
                "TRUNCATE TABLE gold.fact_sales;\n",
                "GO\n",
                "\n",
                "BULK INSERT gold.fact_sales\n",
                "FROM '/var/opt/mssql/data/gold.fact_sales.csv'\n",
                "WITH (\n",
                "    FIRSTROW = 2,\n",
                "    FIELDTERMINATOR = ',',\n",
                "    TABLOCK\n",
                ");\n",
                "GO\n",
                "\n",
                "/*\n",
                "===============================================================================\n",
                "Change Over Time Analysis\n",
                "===============================================================================\n",
                "- Here, I'm analyzing how sales metrics like revenue, customer count, and quantity evolve month-to-month and year-to-year.\n",
                "- The goal is to spot trends, seasonal effects, and periods of growth or decline, which inform business strategy and forecasting.\n",
                "===============================================================================\n",
                "*/\n",
                "\n",
                "-- Sales performance grouped by year and month\n",
                "SELECT\n",
                "    YEAR(order_date) AS order_year,\n",
                "    MONTH(order_date) AS order_month,\n",
                "    SUM(sales_amount) AS total_sales,\n",
                "    COUNT(DISTINCT customer_key) AS total_customers,\n",
                "    SUM(quantity) AS total_quantity\n",
                "FROM gold.fact_sales\n",
                "WHERE order_date IS NOT NULL\n",
                "GROUP BY YEAR(order_date), MONTH(order_date)\n",
                "ORDER BY YEAR(order_date), MONTH(order_date);\n",
                "\n",
                "-- Sales aggregated by the first date of each month\n",
                "SELECT\n",
                "    DATEADD(MONTH, DATEDIFF(MONTH, 0, order_date), 0) AS order_month_start,\n",
                "    SUM(sales_amount) AS total_sales,\n",
                "    COUNT(DISTINCT customer_key) AS total_customers,\n",
                "    SUM(quantity) AS total_quantity\n",
                "FROM gold.fact_sales\n",
                "WHERE order_date IS NOT NULL\n",
                "GROUP BY DATEADD(MONTH, DATEDIFF(MONTH, 0, order_date), 0)\n",
                "ORDER BY DATEADD(MONTH, DATEDIFF(MONTH, 0, order_date), 0);\n",
                "\n",
                "-- Time series labels using year and short month name (SQL Server safe, no FORMAT)\n",
                "SELECT\n",
                "    CAST(YEAR(order_date) AS VARCHAR(4)) + '-' + LEFT(DATENAME(MONTH, order_date), 3) AS order_period,\n",
                "    SUM(sales_amount) AS total_sales,\n",
                "    COUNT(DISTINCT customer_key) AS total_customers,\n",
                "    SUM(quantity) AS total_quantity\n",
                "FROM gold.fact_sales\n",
                "WHERE order_date IS NOT NULL\n",
                "GROUP BY YEAR(order_date), MONTH(order_date), DATENAME(MONTH, order_date)\n",
                "ORDER BY YEAR(order_date), MONTH(order_date);\n",
                "\n",
                "\n",
                "\n",
                "/*\n",
                "===============================================================================\n",
                "Cumulative Analysis\n",
                "===============================================================================\n",
                "- In this section, I'm calculating running totals and moving averages for sales, grouped by year.\n",
                "- This helps me spot cumulative growth trends as well as smooth out short-term fluctuations for better performance visualization.\n",
                "===============================================================================\n",
                "*/\n",
                "\n",
                "-- Running total and moving average of sales by year\n",
                "SELECT\n",
                "    order_year,\n",
                "    total_sales,\n",
                "    SUM(total_sales) OVER (ORDER BY order_year) AS running_total_sales,\n",
                "    AVG(avg_price) OVER (ORDER BY order_year) AS moving_average_price\n",
                "FROM (\n",
                "    SELECT \n",
                "        YEAR(order_date) AS order_year,\n",
                "        SUM(sales_amount) AS total_sales,\n",
                "        AVG(price) AS avg_price\n",
                "    FROM gold.fact_sales\n",
                "    WHERE order_date IS NOT NULL\n",
                "    GROUP BY YEAR(order_date)\n",
                ") t;\n",
                "\n",
                "\n",
                "\n",
                "\n",
                "/*\n",
                "===============================================================================\n",
                "Performance Analysis (Year-over-Year, Month-over-Month)\n",
                "===============================================================================\n",
                "- Here, I'm benchmarking product sales by year, comparing each year's result to the product's historical average and previous year's value.\n",
                "- This lets me identify products that are improving, declining, or performing above/below their average.\n",
                "- It's a powerful way to track product lifecycles and spot top/bottom performers.\n",
                "===============================================================================\n",
                "*/\n",
                "\n",
                ";WITH yearly_product_sales AS (\n",
                "    SELECT\n",
                "        YEAR(f.order_date) AS order_year,\n",
                "        p.product_name,\n",
                "        SUM(f.sales_amount) AS current_sales\n",
                "    FROM gold.fact_sales f\n",
                "    LEFT JOIN gold.dim_products p\n",
                "        ON f.product_key = p.product_key\n",
                "    WHERE f.order_date IS NOT NULL\n",
                "    GROUP BY YEAR(f.order_date), p.product_name\n",
                ")\n",
                "SELECT\n",
                "    order_year,\n",
                "    product_name,\n",
                "    current_sales,\n",
                "    AVG(current_sales) OVER (PARTITION BY product_name) AS avg_sales,\n",
                "    current_sales - AVG(current_sales) OVER (PARTITION BY product_name) AS diff_avg,\n",
                "    -- Shows if sales are above/below historical average for each product\n",
                "    CASE \n",
                "        WHEN current_sales - AVG(current_sales) OVER (PARTITION BY product_name) > 0 THEN 'Above Avg'\n",
                "        WHEN current_sales - AVG(current_sales) OVER (PARTITION BY product_name) < 0 THEN 'Below Avg'\n",
                "        ELSE 'Avg'\n",
                "    END AS avg_change,\n",
                "    -- Year-over-year analysis for growth/decline tracking\n",
                "    LAG(current_sales) OVER (PARTITION BY product_name ORDER BY order_year) AS py_sales,\n",
                "    current_sales - LAG(current_sales) OVER (PARTITION BY product_name ORDER BY order_year) AS diff_py,\n",
                "    CASE \n",
                "        WHEN current_sales - LAG(current_sales) OVER (PARTITION BY product_name ORDER BY order_year) > 0 THEN 'Increase'\n",
                "        WHEN current_sales - LAG(current_sales) OVER (PARTITION BY product_name ORDER BY order_year) < 0 THEN 'Decrease'\n",
                "        ELSE 'No Change'\n",
                "    END AS py_change\n",
                "FROM yearly_product_sales\n",
                "ORDER BY product_name, order_year;\n",
                "\n",
                "\n",
                "\n",
                "\n",
                "/*\n",
                "===============================================================================\n",
                "Data Segmentation Analysis\n",
                "===============================================================================\n",
                "- In this section, I'm grouping products by cost ranges and customers by spending history and loyalty.\n",
                "- Product segmentation reveals pricing strategy impacts, while customer segmentation helps me design targeted marketing and retention activities.\n",
                "- These segments make my analytics more actionable and focused.\n",
                "===============================================================================\n",
                "*/\n",
                "\n",
                ";WITH product_segments AS (\n",
                "    SELECT\n",
                "        product_key,\n",
                "        product_name,\n",
                "        cost,\n",
                "        CASE \n",
                "            WHEN cost < 100 THEN 'Below 100'\n",
                "            WHEN cost BETWEEN 100 AND 500 THEN '100-500'\n",
                "            WHEN cost BETWEEN 500 AND 1000 THEN '500-1000'\n",
                "            ELSE 'Above 1000'\n",
                "        END AS cost_range\n",
                "    FROM gold.dim_products\n",
                ")\n",
                "SELECT \n",
                "    cost_range,\n",
                "    COUNT(product_key) AS total_products\n",
                "FROM product_segments\n",
                "GROUP BY cost_range\n",
                "ORDER BY total_products DESC;\n",
                "\n",
                ";WITH customer_spending AS (\n",
                "    SELECT\n",
                "        c.customer_key,\n",
                "        SUM(f.sales_amount) AS total_spending,\n",
                "        MIN(order_date) AS first_order,\n",
                "        MAX(order_date) AS last_order,\n",
                "        DATEDIFF(month, MIN(order_date), MAX(order_date)) AS lifespan\n",
                "    FROM gold.fact_sales f\n",
                "    LEFT JOIN gold.dim_customers c\n",
                "        ON f.customer_key = c.customer_key\n",
                "    GROUP BY c.customer_key\n",
                ")\n",
                "SELECT \n",
                "    customer_segment,\n",
                "    COUNT(customer_key) AS total_customers\n",
                "FROM (\n",
                "    SELECT \n",
                "        customer_key,\n",
                "        CASE \n",
                "            WHEN lifespan >= 12 AND total_spending > 5000 THEN 'VIP'\n",
                "            WHEN lifespan >= 12 AND total_spending <= 5000 THEN 'Regular'\n",
                "            ELSE 'New'\n",
                "        END AS customer_segment\n",
                "    FROM customer_spending\n",
                ") AS segmented_customers\n",
                "GROUP BY customer_segment\n",
                "ORDER BY total_customers DESC;\n",
                "\n",
                "\n",
                "\n",
                "\n",
                "/*\n",
                "===============================================================================\n",
                "Part-to-Whole Analysis\n",
                "===============================================================================\n",
                "- This part compares every product category's sales to the total sales, showing which categories are driving the business.\n",
                "- It helps me prioritize investment, marketing, and identify underperforming categories for review.\n",
                "===============================================================================\n",
                "*/\n",
                "\n",
                ";WITH category_sales AS (\n",
                "    SELECT\n",
                "        p.category,\n",
                "        SUM(f.sales_amount) AS total_sales\n",
                "    FROM gold.fact_sales f\n",
                "    LEFT JOIN gold.dim_products p\n",
                "        ON p.product_key = f.product_key\n",
                "    GROUP BY p.category\n",
                ")\n",
                "SELECT\n",
                "    category,\n",
                "    total_sales,\n",
                "    SUM(total_sales) OVER () AS overall_sales,\n",
                "    ROUND((CAST(total_sales AS FLOAT) / SUM(total_sales) OVER ()) * 100, 2) AS percentage_of_total\n",
                "FROM category_sales\n",
                "ORDER BY total_sales DESC;\n",
                "\n",
                "\n",
                "\n",
                "\n",
                "/*\n",
                "===============================================================================\n",
                "Customer Report\n",
                "===============================================================================\n",
                "- This section creates a summary report of customer activity and demographics for my analytics project.\n",
                "- It pulls together key fields, aggregates each customer's total orders, sales, quantity, and product diversity.\n",
                "- Customers are segmented by age group and loyalty (VIP, Regular, New), and KPIs like recency, average order value, and monthly spend are calculated.\n",
                "- This report helps me analyze engagement patterns, identify valuable customers, and understand retention.\n",
                "===============================================================================\n",
                "*/\n",
                "\n",
                "-- Drop the view if it exists; ensures the latest version is created\n",
                "IF OBJECT_ID('gold.report_customers', 'V') IS NOT NULL\n",
                "    DROP VIEW gold.report_customers;\n",
                "GO\n",
                "\n",
                "CREATE VIEW gold.report_customers AS\n",
                "WITH base_query AS (\n",
                "    SELECT\n",
                "        f.order_number,\n",
                "        f.product_key,\n",
                "        f.order_date,\n",
                "        f.sales_amount,\n",
                "        f.quantity,\n",
                "        c.customer_key,\n",
                "        c.customer_number,\n",
                "        CONCAT(c.first_name, ' ', c.last_name) AS customer_name,\n",
                "        DATEDIFF(year, c.birthdate, GETDATE()) AS age\n",
                "    FROM gold.fact_sales f\n",
                "    LEFT JOIN gold.dim_customers c\n",
                "        ON c.customer_key = f.customer_key\n",
                "    WHERE order_date IS NOT NULL\n",
                "),\n",
                "customer_aggregation AS (\n",
                "    SELECT \n",
                "        customer_key,\n",
                "        customer_number,\n",
                "        customer_name,\n",
                "        age,\n",
                "        COUNT(DISTINCT order_number) AS total_orders,\n",
                "        SUM(sales_amount) AS total_sales,\n",
                "        SUM(quantity) AS total_quantity,\n",
                "        COUNT(DISTINCT product_key) AS total_products,\n",
                "        MAX(order_date) AS last_order_date,\n",
                "        DATEDIFF(month, MIN(order_date), MAX(order_date)) AS lifespan\n",
                "    FROM base_query\n",
                "    GROUP BY \n",
                "        customer_key,\n",
                "        customer_number,\n",
                "        customer_name,\n",
                "        age\n",
                ")\n",
                "SELECT\n",
                "    customer_key,\n",
                "    customer_number,\n",
                "    customer_name,\n",
                "    age,\n",
                "    CASE \n",
                "        WHEN age < 20 THEN 'Under 20'\n",
                "        WHEN age BETWEEN 20 AND 29 THEN '20-29'\n",
                "        WHEN age BETWEEN 30 AND 39 THEN '30-39'\n",
                "        WHEN age BETWEEN 40 AND 49 THEN '40-49'\n",
                "        ELSE '50 and above'\n",
                "    END AS age_group,\n",
                "    CASE \n",
                "        WHEN lifespan >= 12 AND total_sales > 5000 THEN 'VIP'\n",
                "        WHEN lifespan >= 12 AND total_sales <= 5000 THEN 'Regular'\n",
                "        ELSE 'New'\n",
                "    END AS customer_segment,\n",
                "    last_order_date,\n",
                "    DATEDIFF(month, last_order_date, GETDATE()) AS recency,\n",
                "    total_orders,\n",
                "    total_sales,\n",
                "    total_quantity,\n",
                "    total_products,\n",
                "    lifespan,\n",
                "    -- Compute average order value (AOV)\n",
                "    CASE WHEN total_orders = 0 THEN 0 ELSE total_sales / total_orders END AS avg_order_value,\n",
                "    -- Compute average monthly spend\n",
                "    CASE WHEN lifespan = 0 THEN total_sales ELSE total_sales / lifespan END AS avg_monthly_spend\n",
                "FROM customer_aggregation;\n",
                "GO\n",
                "\n",
                "/*\n",
                "===============================================================================\n",
                "Product Report\n",
                "===============================================================================\n",
                "- Here, I'm creating a product report to summarize performance metrics for each item in my catalog.\n",
                "- I track orders, sales, quantity, customer base, recency, and segment products by their sales performance.\n",
                "- This lets me spot bestsellers, underperformers, and monitor how products evolve over time.\n",
                "===============================================================================\n",
                "*/\n",
                "\n",
                ";IF OBJECT_ID('gold.report_products', 'V') IS NOT NULL\n",
                "    DROP VIEW gold.report_products;\n",
                "GO\n",
                "\n",
                "CREATE VIEW gold.report_products AS\n",
                "WITH base_query AS (\n",
                "    SELECT\n",
                "        f.order_number,\n",
                "        f.order_date,\n",
                "        f.customer_key,\n",
                "        f.sales_amount,\n",
                "        f.quantity,\n",
                "        p.product_key,\n",
                "        p.product_name,\n",
                "        p.category,\n",
                "        p.subcategory,\n",
                "        p.cost\n",
                "    FROM gold.fact_sales f\n",
                "    LEFT JOIN gold.dim_products p\n",
                "        ON f.product_key = p.product_key\n",
                "    WHERE order_date IS NOT NULL\n",
                "),\n",
                "product_aggregations AS (\n",
                "    SELECT\n",
                "        product_key,\n",
                "        product_name,\n",
                "        category,\n",
                "        subcategory,\n",
                "        cost,\n",
                "        DATEDIFF(MONTH, MIN(order_date), MAX(order_date)) AS lifespan,\n",
                "        MAX(order_date) AS last_sale_date,\n",
                "        COUNT(DISTINCT order_number) AS total_orders,\n",
                "        COUNT(DISTINCT customer_key) AS total_customers,\n",
                "        SUM(sales_amount) AS total_sales,\n",
                "        SUM(quantity) AS total_quantity,\n",
                "        ROUND(AVG(CAST(sales_amount AS FLOAT) / NULLIF(quantity, 0)),1) AS avg_selling_price\n",
                "    FROM base_query\n",
                "    GROUP BY product_key, product_name, category, subcategory, cost\n",
                ")\n",
                "SELECT \n",
                "    product_key,\n",
                "    product_name,\n",
                "    category,\n",
                "    subcategory,\n",
                "    cost,\n",
                "    last_sale_date,\n",
                "    DATEDIFF(MONTH, last_sale_date, GETDATE()) AS recency_in_months,\n",
                "    CASE\n",
                "        WHEN total_sales > 50000 THEN 'High-Performer'\n",
                "        WHEN total_sales >= 10000 THEN 'Mid-Range'\n",
                "        ELSE 'Low-Performer'\n",
                "    END AS product_segment,\n",
                "    lifespan,\n",
                "    total_orders,\n",
                "    total_sales,\n",
                "    total_quantity,\n",
                "    total_customers,\n",
                "    avg_selling_price,\n",
                "    CASE WHEN total_orders = 0 THEN 0 ELSE total_sales / total_orders END AS avg_order_revenue,\n",
                "    CASE WHEN lifespan = 0 THEN total_sales ELSE total_sales / lifespan END AS avg_monthly_revenue\n",
                "FROM product_aggregations\n",
                "GO"
            ],
            "metadata": {
                "azdata_cell_guid": "c0b8e26b-f46b-42da-85ce-4f59744878f5",
                "language": "sql"
            },
            "outputs": [
                {
                    "output_type": "display_data",
                    "data": {
                        "text/html": "Commands completed successfully."
                    },
                    "metadata": {}
                },
                {
                    "output_type": "display_data",
                    "data": {
                        "text/html": "Commands completed successfully."
                    },
                    "metadata": {}
                },
                {
                    "output_type": "display_data",
                    "data": {
                        "text/html": "Commands completed successfully."
                    },
                    "metadata": {}
                },
                {
                    "output_type": "display_data",
                    "data": {
                        "text/html": "Commands completed successfully."
                    },
                    "metadata": {}
                },
                {
                    "output_type": "display_data",
                    "data": {
                        "text/html": "Commands completed successfully."
                    },
                    "metadata": {}
                },
                {
                    "output_type": "display_data",
                    "data": {
                        "text/html": "Commands completed successfully."
                    },
                    "metadata": {}
                },
                {
                    "output_type": "display_data",
                    "data": {
                        "text/html": "Commands completed successfully."
                    },
                    "metadata": {}
                },
                {
                    "output_type": "display_data",
                    "data": {
                        "text/html": "Commands completed successfully."
                    },
                    "metadata": {}
                },
                {
                    "output_type": "display_data",
                    "data": {
                        "text/html": "Commands completed successfully."
                    },
                    "metadata": {}
                },
                {
                    "output_type": "display_data",
                    "data": {
                        "text/html": "(18484 rows affected)"
                    },
                    "metadata": {}
                },
                {
                    "output_type": "display_data",
                    "data": {
                        "text/html": "Commands completed successfully."
                    },
                    "metadata": {}
                },
                {
                    "output_type": "display_data",
                    "data": {
                        "text/html": "(295 rows affected)"
                    },
                    "metadata": {}
                },
                {
                    "output_type": "display_data",
                    "data": {
                        "text/html": "Commands completed successfully."
                    },
                    "metadata": {}
                },
                {
                    "output_type": "display_data",
                    "data": {
                        "text/html": "(60398 rows affected)"
                    },
                    "metadata": {}
                },
                {
                    "output_type": "display_data",
                    "data": {
                        "text/html": "(38 rows affected)"
                    },
                    "metadata": {}
                },
                {
                    "output_type": "display_data",
                    "data": {
                        "text/html": "(38 rows affected)"
                    },
                    "metadata": {}
                },
                {
                    "output_type": "display_data",
                    "data": {
                        "text/html": "(38 rows affected)"
                    },
                    "metadata": {}
                },
                {
                    "output_type": "display_data",
                    "data": {
                        "text/html": "(5 rows affected)"
                    },
                    "metadata": {}
                },
                {
                    "output_type": "display_data",
                    "data": {
                        "text/html": "(271 rows affected)"
                    },
                    "metadata": {}
                },
                {
                    "output_type": "display_data",
                    "data": {
                        "text/html": "(4 rows affected)"
                    },
                    "metadata": {}
                },
                {
                    "output_type": "display_data",
                    "data": {
                        "text/html": "Warning: Null value is eliminated by an aggregate or other SET operation."
                    },
                    "metadata": {}
                },
                {
                    "output_type": "display_data",
                    "data": {
                        "text/html": "(3 rows affected)"
                    },
                    "metadata": {}
                },
                {
                    "output_type": "display_data",
                    "data": {
                        "text/html": "(3 rows affected)"
                    },
                    "metadata": {}
                },
                {
                    "output_type": "display_data",
                    "data": {
                        "text/html": "Commands completed successfully."
                    },
                    "metadata": {}
                },
                {
                    "output_type": "display_data",
                    "data": {
                        "text/html": "Commands completed successfully."
                    },
                    "metadata": {}
                },
                {
                    "output_type": "display_data",
                    "data": {
                        "text/html": "Commands completed successfully."
                    },
                    "metadata": {}
                },
                {
                    "output_type": "display_data",
                    "data": {
                        "text/html": "Total execution time: 00:00:01.469"
                    },
                    "metadata": {}
                },
                {
                    "output_type": "execute_result",
                    "metadata": {},
                    "execution_count": 2,
                    "data": {
                        "application/vnd.dataresource+json": {
                            "schema": {
                                "fields": [
                                    {
                                        "name": "order_year"
                                    },
                                    {
                                        "name": "order_month"
                                    },
                                    {
                                        "name": "total_sales"
                                    },
                                    {
                                        "name": "total_customers"
                                    },
                                    {
                                        "name": "total_quantity"
                                    }
                                ]
                            },
                            "data": [
                                {
                                    "order_year": "2010",
                                    "order_month": "12",
                                    "total_sales": "43419",
                                    "total_customers": "14",
                                    "total_quantity": "14"
                                },
                                {
                                    "order_year": "2011",
                                    "order_month": "1",
                                    "total_sales": "469795",
                                    "total_customers": "144",
                                    "total_quantity": "144"
                                },
                                {
                                    "order_year": "2011",
                                    "order_month": "2",
                                    "total_sales": "466307",
                                    "total_customers": "144",
                                    "total_quantity": "144"
                                },
                                {
                                    "order_year": "2011",
                                    "order_month": "3",
                                    "total_sales": "485165",
                                    "total_customers": "150",
                                    "total_quantity": "150"
                                },
                                {
                                    "order_year": "2011",
                                    "order_month": "4",
                                    "total_sales": "502042",
                                    "total_customers": "157",
                                    "total_quantity": "157"
                                },
                                {
                                    "order_year": "2011",
                                    "order_month": "5",
                                    "total_sales": "561647",
                                    "total_customers": "174",
                                    "total_quantity": "174"
                                },
                                {
                                    "order_year": "2011",
                                    "order_month": "6",
                                    "total_sales": "737793",
                                    "total_customers": "230",
                                    "total_quantity": "230"
                                },
                                {
                                    "order_year": "2011",
                                    "order_month": "7",
                                    "total_sales": "596710",
                                    "total_customers": "188",
                                    "total_quantity": "188"
                                },
                                {
                                    "order_year": "2011",
                                    "order_month": "8",
                                    "total_sales": "614516",
                                    "total_customers": "193",
                                    "total_quantity": "193"
                                },
                                {
                                    "order_year": "2011",
                                    "order_month": "9",
                                    "total_sales": "603047",
                                    "total_customers": "185",
                                    "total_quantity": "185"
                                },
                                {
                                    "order_year": "2011",
                                    "order_month": "10",
                                    "total_sales": "708164",
                                    "total_customers": "221",
                                    "total_quantity": "221"
                                },
                                {
                                    "order_year": "2011",
                                    "order_month": "11",
                                    "total_sales": "660507",
                                    "total_customers": "208",
                                    "total_quantity": "208"
                                },
                                {
                                    "order_year": "2011",
                                    "order_month": "12",
                                    "total_sales": "669395",
                                    "total_customers": "222",
                                    "total_quantity": "222"
                                },
                                {
                                    "order_year": "2012",
                                    "order_month": "1",
                                    "total_sales": "495363",
                                    "total_customers": "252",
                                    "total_quantity": "252"
                                },
                                {
                                    "order_year": "2012",
                                    "order_month": "2",
                                    "total_sales": "506992",
                                    "total_customers": "260",
                                    "total_quantity": "260"
                                },
                                {
                                    "order_year": "2012",
                                    "order_month": "3",
                                    "total_sales": "373478",
                                    "total_customers": "212",
                                    "total_quantity": "212"
                                },
                                {
                                    "order_year": "2012",
                                    "order_month": "4",
                                    "total_sales": "400324",
                                    "total_customers": "219",
                                    "total_quantity": "219"
                                },
                                {
                                    "order_year": "2012",
                                    "order_month": "5",
                                    "total_sales": "358866",
                                    "total_customers": "207",
                                    "total_quantity": "207"
                                },
                                {
                                    "order_year": "2012",
                                    "order_month": "6",
                                    "total_sales": "555142",
                                    "total_customers": "318",
                                    "total_quantity": "318"
                                },
                                {
                                    "order_year": "2012",
                                    "order_month": "7",
                                    "total_sales": "444533",
                                    "total_customers": "246",
                                    "total_quantity": "246"
                                },
                                {
                                    "order_year": "2012",
                                    "order_month": "8",
                                    "total_sales": "523887",
                                    "total_customers": "294",
                                    "total_quantity": "294"
                                },
                                {
                                    "order_year": "2012",
                                    "order_month": "9",
                                    "total_sales": "486149",
                                    "total_customers": "269",
                                    "total_quantity": "269"
                                },
                                {
                                    "order_year": "2012",
                                    "order_month": "10",
                                    "total_sales": "535125",
                                    "total_customers": "313",
                                    "total_quantity": "313"
                                },
                                {
                                    "order_year": "2012",
                                    "order_month": "11",
                                    "total_sales": "537918",
                                    "total_customers": "324",
                                    "total_quantity": "324"
                                },
                                {
                                    "order_year": "2012",
                                    "order_month": "12",
                                    "total_sales": "624454",
                                    "total_customers": "354",
                                    "total_quantity": "483"
                                },
                                {
                                    "order_year": "2013",
                                    "order_month": "1",
                                    "total_sales": "857758",
                                    "total_customers": "627",
                                    "total_quantity": "1677"
                                },
                                {
                                    "order_year": "2013",
                                    "order_month": "2",
                                    "total_sales": "771218",
                                    "total_customers": "1373",
                                    "total_quantity": "3454"
                                },
                                {
                                    "order_year": "2013",
                                    "order_month": "3",
                                    "total_sales": "1049732",
                                    "total_customers": "1631",
                                    "total_quantity": "4087"
                                },
                                {
                                    "order_year": "2013",
                                    "order_month": "4",
                                    "total_sales": "1045860",
                                    "total_customers": "1564",
                                    "total_quantity": "3979"
                                },
                                {
                                    "order_year": "2013",
                                    "order_month": "5",
                                    "total_sales": "1284456",
                                    "total_customers": "1719",
                                    "total_quantity": "4400"
                                },
                                {
                                    "order_year": "2013",
                                    "order_month": "6",
                                    "total_sales": "1642948",
                                    "total_customers": "1948",
                                    "total_quantity": "5025"
                                },
                                {
                                    "order_year": "2013",
                                    "order_month": "7",
                                    "total_sales": "1371595",
                                    "total_customers": "1796",
                                    "total_quantity": "4673"
                                },
                                {
                                    "order_year": "2013",
                                    "order_month": "8",
                                    "total_sales": "1545910",
                                    "total_customers": "1898",
                                    "total_quantity": "4848"
                                },
                                {
                                    "order_year": "2013",
                                    "order_month": "9",
                                    "total_sales": "1447324",
                                    "total_customers": "1832",
                                    "total_quantity": "4616"
                                },
                                {
                                    "order_year": "2013",
                                    "order_month": "10",
                                    "total_sales": "1673261",
                                    "total_customers": "2073",
                                    "total_quantity": "5304"
                                },
                                {
                                    "order_year": "2013",
                                    "order_month": "11",
                                    "total_sales": "1780688",
                                    "total_customers": "2036",
                                    "total_quantity": "5224"
                                },
                                {
                                    "order_year": "2013",
                                    "order_month": "12",
                                    "total_sales": "1874128",
                                    "total_customers": "2133",
                                    "total_quantity": "5520"
                                },
                                {
                                    "order_year": "2014",
                                    "order_month": "1",
                                    "total_sales": "45642",
                                    "total_customers": "834",
                                    "total_quantity": "1970"
                                }
                            ]
                        },
                        "text/html": [
                            "<table>",
                            "<tr><th>order_year</th><th>order_month</th><th>total_sales</th><th>total_customers</th><th>total_quantity</th></tr>",
                            "<tr><td>2010</td><td>12</td><td>43419</td><td>14</td><td>14</td></tr>",
                            "<tr><td>2011</td><td>1</td><td>469795</td><td>144</td><td>144</td></tr>",
                            "<tr><td>2011</td><td>2</td><td>466307</td><td>144</td><td>144</td></tr>",
                            "<tr><td>2011</td><td>3</td><td>485165</td><td>150</td><td>150</td></tr>",
                            "<tr><td>2011</td><td>4</td><td>502042</td><td>157</td><td>157</td></tr>",
                            "<tr><td>2011</td><td>5</td><td>561647</td><td>174</td><td>174</td></tr>",
                            "<tr><td>2011</td><td>6</td><td>737793</td><td>230</td><td>230</td></tr>",
                            "<tr><td>2011</td><td>7</td><td>596710</td><td>188</td><td>188</td></tr>",
                            "<tr><td>2011</td><td>8</td><td>614516</td><td>193</td><td>193</td></tr>",
                            "<tr><td>2011</td><td>9</td><td>603047</td><td>185</td><td>185</td></tr>",
                            "<tr><td>2011</td><td>10</td><td>708164</td><td>221</td><td>221</td></tr>",
                            "<tr><td>2011</td><td>11</td><td>660507</td><td>208</td><td>208</td></tr>",
                            "<tr><td>2011</td><td>12</td><td>669395</td><td>222</td><td>222</td></tr>",
                            "<tr><td>2012</td><td>1</td><td>495363</td><td>252</td><td>252</td></tr>",
                            "<tr><td>2012</td><td>2</td><td>506992</td><td>260</td><td>260</td></tr>",
                            "<tr><td>2012</td><td>3</td><td>373478</td><td>212</td><td>212</td></tr>",
                            "<tr><td>2012</td><td>4</td><td>400324</td><td>219</td><td>219</td></tr>",
                            "<tr><td>2012</td><td>5</td><td>358866</td><td>207</td><td>207</td></tr>",
                            "<tr><td>2012</td><td>6</td><td>555142</td><td>318</td><td>318</td></tr>",
                            "<tr><td>2012</td><td>7</td><td>444533</td><td>246</td><td>246</td></tr>",
                            "<tr><td>2012</td><td>8</td><td>523887</td><td>294</td><td>294</td></tr>",
                            "<tr><td>2012</td><td>9</td><td>486149</td><td>269</td><td>269</td></tr>",
                            "<tr><td>2012</td><td>10</td><td>535125</td><td>313</td><td>313</td></tr>",
                            "<tr><td>2012</td><td>11</td><td>537918</td><td>324</td><td>324</td></tr>",
                            "<tr><td>2012</td><td>12</td><td>624454</td><td>354</td><td>483</td></tr>",
                            "<tr><td>2013</td><td>1</td><td>857758</td><td>627</td><td>1677</td></tr>",
                            "<tr><td>2013</td><td>2</td><td>771218</td><td>1373</td><td>3454</td></tr>",
                            "<tr><td>2013</td><td>3</td><td>1049732</td><td>1631</td><td>4087</td></tr>",
                            "<tr><td>2013</td><td>4</td><td>1045860</td><td>1564</td><td>3979</td></tr>",
                            "<tr><td>2013</td><td>5</td><td>1284456</td><td>1719</td><td>4400</td></tr>",
                            "<tr><td>2013</td><td>6</td><td>1642948</td><td>1948</td><td>5025</td></tr>",
                            "<tr><td>2013</td><td>7</td><td>1371595</td><td>1796</td><td>4673</td></tr>",
                            "<tr><td>2013</td><td>8</td><td>1545910</td><td>1898</td><td>4848</td></tr>",
                            "<tr><td>2013</td><td>9</td><td>1447324</td><td>1832</td><td>4616</td></tr>",
                            "<tr><td>2013</td><td>10</td><td>1673261</td><td>2073</td><td>5304</td></tr>",
                            "<tr><td>2013</td><td>11</td><td>1780688</td><td>2036</td><td>5224</td></tr>",
                            "<tr><td>2013</td><td>12</td><td>1874128</td><td>2133</td><td>5520</td></tr>",
                            "<tr><td>2014</td><td>1</td><td>45642</td><td>834</td><td>1970</td></tr>",
                            "</table>"
                        ]
                    }
                },
                {
                    "output_type": "execute_result",
                    "metadata": {},
                    "execution_count": 2,
                    "data": {
                        "application/vnd.dataresource+json": {
                            "schema": {
                                "fields": [
                                    {
                                        "name": "order_month_start"
                                    },
                                    {
                                        "name": "total_sales"
                                    },
                                    {
                                        "name": "total_customers"
                                    },
                                    {
                                        "name": "total_quantity"
                                    }
                                ]
                            },
                            "data": [
                                {
                                    "order_month_start": "2010-12-01 00:00:00.000",
                                    "total_sales": "43419",
                                    "total_customers": "14",
                                    "total_quantity": "14"
                                },
                                {
                                    "order_month_start": "2011-01-01 00:00:00.000",
                                    "total_sales": "469795",
                                    "total_customers": "144",
                                    "total_quantity": "144"
                                },
                                {
                                    "order_month_start": "2011-02-01 00:00:00.000",
                                    "total_sales": "466307",
                                    "total_customers": "144",
                                    "total_quantity": "144"
                                },
                                {
                                    "order_month_start": "2011-03-01 00:00:00.000",
                                    "total_sales": "485165",
                                    "total_customers": "150",
                                    "total_quantity": "150"
                                },
                                {
                                    "order_month_start": "2011-04-01 00:00:00.000",
                                    "total_sales": "502042",
                                    "total_customers": "157",
                                    "total_quantity": "157"
                                },
                                {
                                    "order_month_start": "2011-05-01 00:00:00.000",
                                    "total_sales": "561647",
                                    "total_customers": "174",
                                    "total_quantity": "174"
                                },
                                {
                                    "order_month_start": "2011-06-01 00:00:00.000",
                                    "total_sales": "737793",
                                    "total_customers": "230",
                                    "total_quantity": "230"
                                },
                                {
                                    "order_month_start": "2011-07-01 00:00:00.000",
                                    "total_sales": "596710",
                                    "total_customers": "188",
                                    "total_quantity": "188"
                                },
                                {
                                    "order_month_start": "2011-08-01 00:00:00.000",
                                    "total_sales": "614516",
                                    "total_customers": "193",
                                    "total_quantity": "193"
                                },
                                {
                                    "order_month_start": "2011-09-01 00:00:00.000",
                                    "total_sales": "603047",
                                    "total_customers": "185",
                                    "total_quantity": "185"
                                },
                                {
                                    "order_month_start": "2011-10-01 00:00:00.000",
                                    "total_sales": "708164",
                                    "total_customers": "221",
                                    "total_quantity": "221"
                                },
                                {
                                    "order_month_start": "2011-11-01 00:00:00.000",
                                    "total_sales": "660507",
                                    "total_customers": "208",
                                    "total_quantity": "208"
                                },
                                {
                                    "order_month_start": "2011-12-01 00:00:00.000",
                                    "total_sales": "669395",
                                    "total_customers": "222",
                                    "total_quantity": "222"
                                },
                                {
                                    "order_month_start": "2012-01-01 00:00:00.000",
                                    "total_sales": "495363",
                                    "total_customers": "252",
                                    "total_quantity": "252"
                                },
                                {
                                    "order_month_start": "2012-02-01 00:00:00.000",
                                    "total_sales": "506992",
                                    "total_customers": "260",
                                    "total_quantity": "260"
                                },
                                {
                                    "order_month_start": "2012-03-01 00:00:00.000",
                                    "total_sales": "373478",
                                    "total_customers": "212",
                                    "total_quantity": "212"
                                },
                                {
                                    "order_month_start": "2012-04-01 00:00:00.000",
                                    "total_sales": "400324",
                                    "total_customers": "219",
                                    "total_quantity": "219"
                                },
                                {
                                    "order_month_start": "2012-05-01 00:00:00.000",
                                    "total_sales": "358866",
                                    "total_customers": "207",
                                    "total_quantity": "207"
                                },
                                {
                                    "order_month_start": "2012-06-01 00:00:00.000",
                                    "total_sales": "555142",
                                    "total_customers": "318",
                                    "total_quantity": "318"
                                },
                                {
                                    "order_month_start": "2012-07-01 00:00:00.000",
                                    "total_sales": "444533",
                                    "total_customers": "246",
                                    "total_quantity": "246"
                                },
                                {
                                    "order_month_start": "2012-08-01 00:00:00.000",
                                    "total_sales": "523887",
                                    "total_customers": "294",
                                    "total_quantity": "294"
                                },
                                {
                                    "order_month_start": "2012-09-01 00:00:00.000",
                                    "total_sales": "486149",
                                    "total_customers": "269",
                                    "total_quantity": "269"
                                },
                                {
                                    "order_month_start": "2012-10-01 00:00:00.000",
                                    "total_sales": "535125",
                                    "total_customers": "313",
                                    "total_quantity": "313"
                                },
                                {
                                    "order_month_start": "2012-11-01 00:00:00.000",
                                    "total_sales": "537918",
                                    "total_customers": "324",
                                    "total_quantity": "324"
                                },
                                {
                                    "order_month_start": "2012-12-01 00:00:00.000",
                                    "total_sales": "624454",
                                    "total_customers": "354",
                                    "total_quantity": "483"
                                },
                                {
                                    "order_month_start": "2013-01-01 00:00:00.000",
                                    "total_sales": "857758",
                                    "total_customers": "627",
                                    "total_quantity": "1677"
                                },
                                {
                                    "order_month_start": "2013-02-01 00:00:00.000",
                                    "total_sales": "771218",
                                    "total_customers": "1373",
                                    "total_quantity": "3454"
                                },
                                {
                                    "order_month_start": "2013-03-01 00:00:00.000",
                                    "total_sales": "1049732",
                                    "total_customers": "1631",
                                    "total_quantity": "4087"
                                },
                                {
                                    "order_month_start": "2013-04-01 00:00:00.000",
                                    "total_sales": "1045860",
                                    "total_customers": "1564",
                                    "total_quantity": "3979"
                                },
                                {
                                    "order_month_start": "2013-05-01 00:00:00.000",
                                    "total_sales": "1284456",
                                    "total_customers": "1719",
                                    "total_quantity": "4400"
                                },
                                {
                                    "order_month_start": "2013-06-01 00:00:00.000",
                                    "total_sales": "1642948",
                                    "total_customers": "1948",
                                    "total_quantity": "5025"
                                },
                                {
                                    "order_month_start": "2013-07-01 00:00:00.000",
                                    "total_sales": "1371595",
                                    "total_customers": "1796",
                                    "total_quantity": "4673"
                                },
                                {
                                    "order_month_start": "2013-08-01 00:00:00.000",
                                    "total_sales": "1545910",
                                    "total_customers": "1898",
                                    "total_quantity": "4848"
                                },
                                {
                                    "order_month_start": "2013-09-01 00:00:00.000",
                                    "total_sales": "1447324",
                                    "total_customers": "1832",
                                    "total_quantity": "4616"
                                },
                                {
                                    "order_month_start": "2013-10-01 00:00:00.000",
                                    "total_sales": "1673261",
                                    "total_customers": "2073",
                                    "total_quantity": "5304"
                                },
                                {
                                    "order_month_start": "2013-11-01 00:00:00.000",
                                    "total_sales": "1780688",
                                    "total_customers": "2036",
                                    "total_quantity": "5224"
                                },
                                {
                                    "order_month_start": "2013-12-01 00:00:00.000",
                                    "total_sales": "1874128",
                                    "total_customers": "2133",
                                    "total_quantity": "5520"
                                },
                                {
                                    "order_month_start": "2014-01-01 00:00:00.000",
                                    "total_sales": "45642",
                                    "total_customers": "834",
                                    "total_quantity": "1970"
                                }
                            ]
                        },
                        "text/html": [
                            "<table>",
                            "<tr><th>order_month_start</th><th>total_sales</th><th>total_customers</th><th>total_quantity</th></tr>",
                            "<tr><td>2010-12-01 00:00:00.000</td><td>43419</td><td>14</td><td>14</td></tr>",
                            "<tr><td>2011-01-01 00:00:00.000</td><td>469795</td><td>144</td><td>144</td></tr>",
                            "<tr><td>2011-02-01 00:00:00.000</td><td>466307</td><td>144</td><td>144</td></tr>",
                            "<tr><td>2011-03-01 00:00:00.000</td><td>485165</td><td>150</td><td>150</td></tr>",
                            "<tr><td>2011-04-01 00:00:00.000</td><td>502042</td><td>157</td><td>157</td></tr>",
                            "<tr><td>2011-05-01 00:00:00.000</td><td>561647</td><td>174</td><td>174</td></tr>",
                            "<tr><td>2011-06-01 00:00:00.000</td><td>737793</td><td>230</td><td>230</td></tr>",
                            "<tr><td>2011-07-01 00:00:00.000</td><td>596710</td><td>188</td><td>188</td></tr>",
                            "<tr><td>2011-08-01 00:00:00.000</td><td>614516</td><td>193</td><td>193</td></tr>",
                            "<tr><td>2011-09-01 00:00:00.000</td><td>603047</td><td>185</td><td>185</td></tr>",
                            "<tr><td>2011-10-01 00:00:00.000</td><td>708164</td><td>221</td><td>221</td></tr>",
                            "<tr><td>2011-11-01 00:00:00.000</td><td>660507</td><td>208</td><td>208</td></tr>",
                            "<tr><td>2011-12-01 00:00:00.000</td><td>669395</td><td>222</td><td>222</td></tr>",
                            "<tr><td>2012-01-01 00:00:00.000</td><td>495363</td><td>252</td><td>252</td></tr>",
                            "<tr><td>2012-02-01 00:00:00.000</td><td>506992</td><td>260</td><td>260</td></tr>",
                            "<tr><td>2012-03-01 00:00:00.000</td><td>373478</td><td>212</td><td>212</td></tr>",
                            "<tr><td>2012-04-01 00:00:00.000</td><td>400324</td><td>219</td><td>219</td></tr>",
                            "<tr><td>2012-05-01 00:00:00.000</td><td>358866</td><td>207</td><td>207</td></tr>",
                            "<tr><td>2012-06-01 00:00:00.000</td><td>555142</td><td>318</td><td>318</td></tr>",
                            "<tr><td>2012-07-01 00:00:00.000</td><td>444533</td><td>246</td><td>246</td></tr>",
                            "<tr><td>2012-08-01 00:00:00.000</td><td>523887</td><td>294</td><td>294</td></tr>",
                            "<tr><td>2012-09-01 00:00:00.000</td><td>486149</td><td>269</td><td>269</td></tr>",
                            "<tr><td>2012-10-01 00:00:00.000</td><td>535125</td><td>313</td><td>313</td></tr>",
                            "<tr><td>2012-11-01 00:00:00.000</td><td>537918</td><td>324</td><td>324</td></tr>",
                            "<tr><td>2012-12-01 00:00:00.000</td><td>624454</td><td>354</td><td>483</td></tr>",
                            "<tr><td>2013-01-01 00:00:00.000</td><td>857758</td><td>627</td><td>1677</td></tr>",
                            "<tr><td>2013-02-01 00:00:00.000</td><td>771218</td><td>1373</td><td>3454</td></tr>",
                            "<tr><td>2013-03-01 00:00:00.000</td><td>1049732</td><td>1631</td><td>4087</td></tr>",
                            "<tr><td>2013-04-01 00:00:00.000</td><td>1045860</td><td>1564</td><td>3979</td></tr>",
                            "<tr><td>2013-05-01 00:00:00.000</td><td>1284456</td><td>1719</td><td>4400</td></tr>",
                            "<tr><td>2013-06-01 00:00:00.000</td><td>1642948</td><td>1948</td><td>5025</td></tr>",
                            "<tr><td>2013-07-01 00:00:00.000</td><td>1371595</td><td>1796</td><td>4673</td></tr>",
                            "<tr><td>2013-08-01 00:00:00.000</td><td>1545910</td><td>1898</td><td>4848</td></tr>",
                            "<tr><td>2013-09-01 00:00:00.000</td><td>1447324</td><td>1832</td><td>4616</td></tr>",
                            "<tr><td>2013-10-01 00:00:00.000</td><td>1673261</td><td>2073</td><td>5304</td></tr>",
                            "<tr><td>2013-11-01 00:00:00.000</td><td>1780688</td><td>2036</td><td>5224</td></tr>",
                            "<tr><td>2013-12-01 00:00:00.000</td><td>1874128</td><td>2133</td><td>5520</td></tr>",
                            "<tr><td>2014-01-01 00:00:00.000</td><td>45642</td><td>834</td><td>1970</td></tr>",
                            "</table>"
                        ]
                    }
                },
                {
                    "output_type": "execute_result",
                    "metadata": {},
                    "execution_count": 2,
                    "data": {
                        "application/vnd.dataresource+json": {
                            "schema": {
                                "fields": [
                                    {
                                        "name": "order_period"
                                    },
                                    {
                                        "name": "total_sales"
                                    },
                                    {
                                        "name": "total_customers"
                                    },
                                    {
                                        "name": "total_quantity"
                                    }
                                ]
                            },
                            "data": [
                                {
                                    "order_period": "2010-Dec",
                                    "total_sales": "43419",
                                    "total_customers": "14",
                                    "total_quantity": "14"
                                },
                                {
                                    "order_period": "2011-Jan",
                                    "total_sales": "469795",
                                    "total_customers": "144",
                                    "total_quantity": "144"
                                },
                                {
                                    "order_period": "2011-Feb",
                                    "total_sales": "466307",
                                    "total_customers": "144",
                                    "total_quantity": "144"
                                },
                                {
                                    "order_period": "2011-Mar",
                                    "total_sales": "485165",
                                    "total_customers": "150",
                                    "total_quantity": "150"
                                },
                                {
                                    "order_period": "2011-Apr",
                                    "total_sales": "502042",
                                    "total_customers": "157",
                                    "total_quantity": "157"
                                },
                                {
                                    "order_period": "2011-May",
                                    "total_sales": "561647",
                                    "total_customers": "174",
                                    "total_quantity": "174"
                                },
                                {
                                    "order_period": "2011-Jun",
                                    "total_sales": "737793",
                                    "total_customers": "230",
                                    "total_quantity": "230"
                                },
                                {
                                    "order_period": "2011-Jul",
                                    "total_sales": "596710",
                                    "total_customers": "188",
                                    "total_quantity": "188"
                                },
                                {
                                    "order_period": "2011-Aug",
                                    "total_sales": "614516",
                                    "total_customers": "193",
                                    "total_quantity": "193"
                                },
                                {
                                    "order_period": "2011-Sep",
                                    "total_sales": "603047",
                                    "total_customers": "185",
                                    "total_quantity": "185"
                                },
                                {
                                    "order_period": "2011-Oct",
                                    "total_sales": "708164",
                                    "total_customers": "221",
                                    "total_quantity": "221"
                                },
                                {
                                    "order_period": "2011-Nov",
                                    "total_sales": "660507",
                                    "total_customers": "208",
                                    "total_quantity": "208"
                                },
                                {
                                    "order_period": "2011-Dec",
                                    "total_sales": "669395",
                                    "total_customers": "222",
                                    "total_quantity": "222"
                                },
                                {
                                    "order_period": "2012-Jan",
                                    "total_sales": "495363",
                                    "total_customers": "252",
                                    "total_quantity": "252"
                                },
                                {
                                    "order_period": "2012-Feb",
                                    "total_sales": "506992",
                                    "total_customers": "260",
                                    "total_quantity": "260"
                                },
                                {
                                    "order_period": "2012-Mar",
                                    "total_sales": "373478",
                                    "total_customers": "212",
                                    "total_quantity": "212"
                                },
                                {
                                    "order_period": "2012-Apr",
                                    "total_sales": "400324",
                                    "total_customers": "219",
                                    "total_quantity": "219"
                                },
                                {
                                    "order_period": "2012-May",
                                    "total_sales": "358866",
                                    "total_customers": "207",
                                    "total_quantity": "207"
                                },
                                {
                                    "order_period": "2012-Jun",
                                    "total_sales": "555142",
                                    "total_customers": "318",
                                    "total_quantity": "318"
                                },
                                {
                                    "order_period": "2012-Jul",
                                    "total_sales": "444533",
                                    "total_customers": "246",
                                    "total_quantity": "246"
                                },
                                {
                                    "order_period": "2012-Aug",
                                    "total_sales": "523887",
                                    "total_customers": "294",
                                    "total_quantity": "294"
                                },
                                {
                                    "order_period": "2012-Sep",
                                    "total_sales": "486149",
                                    "total_customers": "269",
                                    "total_quantity": "269"
                                },
                                {
                                    "order_period": "2012-Oct",
                                    "total_sales": "535125",
                                    "total_customers": "313",
                                    "total_quantity": "313"
                                },
                                {
                                    "order_period": "2012-Nov",
                                    "total_sales": "537918",
                                    "total_customers": "324",
                                    "total_quantity": "324"
                                },
                                {
                                    "order_period": "2012-Dec",
                                    "total_sales": "624454",
                                    "total_customers": "354",
                                    "total_quantity": "483"
                                },
                                {
                                    "order_period": "2013-Jan",
                                    "total_sales": "857758",
                                    "total_customers": "627",
                                    "total_quantity": "1677"
                                },
                                {
                                    "order_period": "2013-Feb",
                                    "total_sales": "771218",
                                    "total_customers": "1373",
                                    "total_quantity": "3454"
                                },
                                {
                                    "order_period": "2013-Mar",
                                    "total_sales": "1049732",
                                    "total_customers": "1631",
                                    "total_quantity": "4087"
                                },
                                {
                                    "order_period": "2013-Apr",
                                    "total_sales": "1045860",
                                    "total_customers": "1564",
                                    "total_quantity": "3979"
                                },
                                {
                                    "order_period": "2013-May",
                                    "total_sales": "1284456",
                                    "total_customers": "1719",
                                    "total_quantity": "4400"
                                },
                                {
                                    "order_period": "2013-Jun",
                                    "total_sales": "1642948",
                                    "total_customers": "1948",
                                    "total_quantity": "5025"
                                },
                                {
                                    "order_period": "2013-Jul",
                                    "total_sales": "1371595",
                                    "total_customers": "1796",
                                    "total_quantity": "4673"
                                },
                                {
                                    "order_period": "2013-Aug",
                                    "total_sales": "1545910",
                                    "total_customers": "1898",
                                    "total_quantity": "4848"
                                },
                                {
                                    "order_period": "2013-Sep",
                                    "total_sales": "1447324",
                                    "total_customers": "1832",
                                    "total_quantity": "4616"
                                },
                                {
                                    "order_period": "2013-Oct",
                                    "total_sales": "1673261",
                                    "total_customers": "2073",
                                    "total_quantity": "5304"
                                },
                                {
                                    "order_period": "2013-Nov",
                                    "total_sales": "1780688",
                                    "total_customers": "2036",
                                    "total_quantity": "5224"
                                },
                                {
                                    "order_period": "2013-Dec",
                                    "total_sales": "1874128",
                                    "total_customers": "2133",
                                    "total_quantity": "5520"
                                },
                                {
                                    "order_period": "2014-Jan",
                                    "total_sales": "45642",
                                    "total_customers": "834",
                                    "total_quantity": "1970"
                                }
                            ]
                        },
                        "text/html": [
                            "<table>",
                            "<tr><th>order_period</th><th>total_sales</th><th>total_customers</th><th>total_quantity</th></tr>",
                            "<tr><td>2010-Dec</td><td>43419</td><td>14</td><td>14</td></tr>",
                            "<tr><td>2011-Jan</td><td>469795</td><td>144</td><td>144</td></tr>",
                            "<tr><td>2011-Feb</td><td>466307</td><td>144</td><td>144</td></tr>",
                            "<tr><td>2011-Mar</td><td>485165</td><td>150</td><td>150</td></tr>",
                            "<tr><td>2011-Apr</td><td>502042</td><td>157</td><td>157</td></tr>",
                            "<tr><td>2011-May</td><td>561647</td><td>174</td><td>174</td></tr>",
                            "<tr><td>2011-Jun</td><td>737793</td><td>230</td><td>230</td></tr>",
                            "<tr><td>2011-Jul</td><td>596710</td><td>188</td><td>188</td></tr>",
                            "<tr><td>2011-Aug</td><td>614516</td><td>193</td><td>193</td></tr>",
                            "<tr><td>2011-Sep</td><td>603047</td><td>185</td><td>185</td></tr>",
                            "<tr><td>2011-Oct</td><td>708164</td><td>221</td><td>221</td></tr>",
                            "<tr><td>2011-Nov</td><td>660507</td><td>208</td><td>208</td></tr>",
                            "<tr><td>2011-Dec</td><td>669395</td><td>222</td><td>222</td></tr>",
                            "<tr><td>2012-Jan</td><td>495363</td><td>252</td><td>252</td></tr>",
                            "<tr><td>2012-Feb</td><td>506992</td><td>260</td><td>260</td></tr>",
                            "<tr><td>2012-Mar</td><td>373478</td><td>212</td><td>212</td></tr>",
                            "<tr><td>2012-Apr</td><td>400324</td><td>219</td><td>219</td></tr>",
                            "<tr><td>2012-May</td><td>358866</td><td>207</td><td>207</td></tr>",
                            "<tr><td>2012-Jun</td><td>555142</td><td>318</td><td>318</td></tr>",
                            "<tr><td>2012-Jul</td><td>444533</td><td>246</td><td>246</td></tr>",
                            "<tr><td>2012-Aug</td><td>523887</td><td>294</td><td>294</td></tr>",
                            "<tr><td>2012-Sep</td><td>486149</td><td>269</td><td>269</td></tr>",
                            "<tr><td>2012-Oct</td><td>535125</td><td>313</td><td>313</td></tr>",
                            "<tr><td>2012-Nov</td><td>537918</td><td>324</td><td>324</td></tr>",
                            "<tr><td>2012-Dec</td><td>624454</td><td>354</td><td>483</td></tr>",
                            "<tr><td>2013-Jan</td><td>857758</td><td>627</td><td>1677</td></tr>",
                            "<tr><td>2013-Feb</td><td>771218</td><td>1373</td><td>3454</td></tr>",
                            "<tr><td>2013-Mar</td><td>1049732</td><td>1631</td><td>4087</td></tr>",
                            "<tr><td>2013-Apr</td><td>1045860</td><td>1564</td><td>3979</td></tr>",
                            "<tr><td>2013-May</td><td>1284456</td><td>1719</td><td>4400</td></tr>",
                            "<tr><td>2013-Jun</td><td>1642948</td><td>1948</td><td>5025</td></tr>",
                            "<tr><td>2013-Jul</td><td>1371595</td><td>1796</td><td>4673</td></tr>",
                            "<tr><td>2013-Aug</td><td>1545910</td><td>1898</td><td>4848</td></tr>",
                            "<tr><td>2013-Sep</td><td>1447324</td><td>1832</td><td>4616</td></tr>",
                            "<tr><td>2013-Oct</td><td>1673261</td><td>2073</td><td>5304</td></tr>",
                            "<tr><td>2013-Nov</td><td>1780688</td><td>2036</td><td>5224</td></tr>",
                            "<tr><td>2013-Dec</td><td>1874128</td><td>2133</td><td>5520</td></tr>",
                            "<tr><td>2014-Jan</td><td>45642</td><td>834</td><td>1970</td></tr>",
                            "</table>"
                        ]
                    }
                },
                {
                    "output_type": "execute_result",
                    "metadata": {},
                    "execution_count": 2,
                    "data": {
                        "application/vnd.dataresource+json": {
                            "schema": {
                                "fields": [
                                    {
                                        "name": "order_year"
                                    },
                                    {
                                        "name": "total_sales"
                                    },
                                    {
                                        "name": "running_total_sales"
                                    },
                                    {
                                        "name": "moving_average_price"
                                    }
                                ]
                            },
                            "data": [
                                {
                                    "order_year": "2010",
                                    "total_sales": "43419",
                                    "running_total_sales": "43419",
                                    "moving_average_price": "3101"
                                },
                                {
                                    "order_year": "2011",
                                    "total_sales": "7075088",
                                    "running_total_sales": "7118507",
                                    "moving_average_price": "3146"
                                },
                                {
                                    "order_year": "2012",
                                    "total_sales": "5842231",
                                    "running_total_sales": "12960738",
                                    "moving_average_price": "2670"
                                },
                                {
                                    "order_year": "2013",
                                    "total_sales": "16344878",
                                    "running_total_sales": "29305616",
                                    "moving_average_price": "2080"
                                },
                                {
                                    "order_year": "2014",
                                    "total_sales": "45642",
                                    "running_total_sales": "29351258",
                                    "moving_average_price": "1668"
                                }
                            ]
                        },
                        "text/html": [
                            "<table>",
                            "<tr><th>order_year</th><th>total_sales</th><th>running_total_sales</th><th>moving_average_price</th></tr>",
                            "<tr><td>2010</td><td>43419</td><td>43419</td><td>3101</td></tr>",
                            "<tr><td>2011</td><td>7075088</td><td>7118507</td><td>3146</td></tr>",
                            "<tr><td>2012</td><td>5842231</td><td>12960738</td><td>2670</td></tr>",
                            "<tr><td>2013</td><td>16344878</td><td>29305616</td><td>2080</td></tr>",
                            "<tr><td>2014</td><td>45642</td><td>29351258</td><td>1668</td></tr>",
                            "</table>"
                        ]
                    }
                },
                {
                    "output_type": "execute_result",
                    "metadata": {},
                    "execution_count": 2,
                    "data": {
                        "application/vnd.dataresource+json": {
                            "schema": {
                                "fields": [
                                    {
                                        "name": "order_year"
                                    },
                                    {
                                        "name": "product_name"
                                    },
                                    {
                                        "name": "current_sales"
                                    },
                                    {
                                        "name": "avg_sales"
                                    },
                                    {
                                        "name": "diff_avg"
                                    },
                                    {
                                        "name": "avg_change"
                                    },
                                    {
                                        "name": "py_sales"
                                    },
                                    {
                                        "name": "diff_py"
                                    },
                                    {
                                        "name": "py_change"
                                    }
                                ]
                            },
                            "data": [
                                {
                                    "order_year": "2012",
                                    "product_name": "All-Purpose Bike Stand",
                                    "current_sales": "159",
                                    "avg_sales": "13197",
                                    "diff_avg": "-13038",
                                    "avg_change": "Below Avg",
                                    "py_sales": "NULL",
                                    "diff_py": "NULL",
                                    "py_change": "No Change"
                                },
                                {
                                    "order_year": "2013",
                                    "product_name": "All-Purpose Bike Stand",
                                    "current_sales": "37683",
                                    "avg_sales": "13197",
                                    "diff_avg": "24486",
                                    "avg_change": "Above Avg",
                                    "py_sales": "159",
                                    "diff_py": "37524",
                                    "py_change": "Increase"
                                },
                                {
                                    "order_year": "2014",
                                    "product_name": "All-Purpose Bike Stand",
                                    "current_sales": "1749",
                                    "avg_sales": "13197",
                                    "diff_avg": "-11448",
                                    "avg_change": "Below Avg",
                                    "py_sales": "37683",
                                    "diff_py": "-35934",
                                    "py_change": "Decrease"
                                },
                                {
                                    "order_year": "2012",
                                    "product_name": "AWC Logo Cap",
                                    "current_sales": "72",
                                    "avg_sales": "6570",
                                    "diff_avg": "-6498",
                                    "avg_change": "Below Avg",
                                    "py_sales": "NULL",
                                    "diff_py": "NULL",
                                    "py_change": "No Change"
                                },
                                {
                                    "order_year": "2013",
                                    "product_name": "AWC Logo Cap",
                                    "current_sales": "18891",
                                    "avg_sales": "6570",
                                    "diff_avg": "12321",
                                    "avg_change": "Above Avg",
                                    "py_sales": "72",
                                    "diff_py": "18819",
                                    "py_change": "Increase"
                                },
                                {
                                    "order_year": "2014",
                                    "product_name": "AWC Logo Cap",
                                    "current_sales": "747",
                                    "avg_sales": "6570",
                                    "diff_avg": "-5823",
                                    "avg_change": "Below Avg",
                                    "py_sales": "18891",
                                    "diff_py": "-18144",
                                    "py_change": "Decrease"
                                },
                                {
                                    "order_year": "2013",
                                    "product_name": "Bike Wash - Dissolver",
                                    "current_sales": "6960",
                                    "avg_sales": "3636",
                                    "diff_avg": "3324",
                                    "avg_change": "Above Avg",
                                    "py_sales": "NULL",
                                    "diff_py": "NULL",
                                    "py_change": "No Change"
                                },
                                {
                                    "order_year": "2014",
                                    "product_name": "Bike Wash - Dissolver",
                                    "current_sales": "312",
                                    "avg_sales": "3636",
                                    "diff_avg": "-3324",
                                    "avg_change": "Below Avg",
                                    "py_sales": "6960",
                                    "diff_py": "-6648",
                                    "py_change": "Decrease"
                                },
                                {
                                    "order_year": "2013",
                                    "product_name": "Classic Vest- L",
                                    "current_sales": "11968",
                                    "avg_sales": "6240",
                                    "diff_avg": "5728",
                                    "avg_change": "Above Avg",
                                    "py_sales": "NULL",
                                    "diff_py": "NULL",
                                    "py_change": "No Change"
                                },
                                {
                                    "order_year": "2014",
                                    "product_name": "Classic Vest- L",
                                    "current_sales": "512",
                                    "avg_sales": "6240",
                                    "diff_avg": "-5728",
                                    "avg_change": "Below Avg",
                                    "py_sales": "11968",
                                    "diff_py": "-11456",
                                    "py_change": "Decrease"
                                },
                                {
                                    "order_year": "2013",
                                    "product_name": "Classic Vest- M",
                                    "current_sales": "11840",
                                    "avg_sales": "6368",
                                    "diff_avg": "5472",
                                    "avg_change": "Above Avg",
                                    "py_sales": "NULL",
                                    "diff_py": "NULL",
                                    "py_change": "No Change"
                                },
                                {
                                    "order_year": "2014",
                                    "product_name": "Classic Vest- M",
                                    "current_sales": "896",
                                    "avg_sales": "6368",
                                    "diff_avg": "-5472",
                                    "avg_change": "Below Avg",
                                    "py_sales": "11840",
                                    "diff_py": "-10944",
                                    "py_change": "Decrease"
                                },
                                {
                                    "order_year": "2012",
                                    "product_name": "Classic Vest- S",
                                    "current_sales": "64",
                                    "avg_sales": "3648",
                                    "diff_avg": "-3584",
                                    "avg_change": "Below Avg",
                                    "py_sales": "NULL",
                                    "diff_py": "NULL",
                                    "py_change": "No Change"
                                },
                                {
                                    "order_year": "2013",
                                    "product_name": "Classic Vest- S",
                                    "current_sales": "10368",
                                    "avg_sales": "3648",
                                    "diff_avg": "6720",
                                    "avg_change": "Above Avg",
                                    "py_sales": "64",
                                    "diff_py": "10304",
                                    "py_change": "Increase"
                                },
                                {
                                    "order_year": "2014",
                                    "product_name": "Classic Vest- S",
                                    "current_sales": "512",
                                    "avg_sales": "3648",
                                    "diff_avg": "-3136",
                                    "avg_change": "Below Avg",
                                    "py_sales": "10368",
                                    "diff_py": "-9856",
                                    "py_change": "Decrease"
                                },
                                {
                                    "order_year": "2012",
                                    "product_name": "Fender Set - Mountain",
                                    "current_sales": "110",
                                    "avg_sales": "15554",
                                    "diff_avg": "-15444",
                                    "avg_change": "Below Avg",
                                    "py_sales": "NULL",
                                    "diff_py": "NULL",
                                    "py_change": "No Change"
                                },
                                {
                                    "order_year": "2013",
                                    "product_name": "Fender Set - Mountain",
                                    "current_sales": "44484",
                                    "avg_sales": "15554",
                                    "diff_avg": "28930",
                                    "avg_change": "Above Avg",
                                    "py_sales": "110",
                                    "diff_py": "44374",
                                    "py_change": "Increase"
                                },
                                {
                                    "order_year": "2014",
                                    "product_name": "Fender Set - Mountain",
                                    "current_sales": "2068",
                                    "avg_sales": "15554",
                                    "diff_avg": "-13486",
                                    "avg_change": "Below Avg",
                                    "py_sales": "44484",
                                    "diff_py": "-42416",
                                    "py_change": "Decrease"
                                },
                                {
                                    "order_year": "2012",
                                    "product_name": "Half-Finger Gloves- L",
                                    "current_sales": "24",
                                    "avg_sales": "3544",
                                    "diff_avg": "-3520",
                                    "avg_change": "Below Avg",
                                    "py_sales": "NULL",
                                    "diff_py": "NULL",
                                    "py_change": "No Change"
                                },
                                {
                                    "order_year": "2013",
                                    "product_name": "Half-Finger Gloves- L",
                                    "current_sales": "10248",
                                    "avg_sales": "3544",
                                    "diff_avg": "6704",
                                    "avg_change": "Above Avg",
                                    "py_sales": "24",
                                    "diff_py": "10224",
                                    "py_change": "Increase"
                                },
                                {
                                    "order_year": "2014",
                                    "product_name": "Half-Finger Gloves- L",
                                    "current_sales": "360",
                                    "avg_sales": "3544",
                                    "diff_avg": "-3184",
                                    "avg_change": "Below Avg",
                                    "py_sales": "10248",
                                    "diff_py": "-9888",
                                    "py_change": "Decrease"
                                },
                                {
                                    "order_year": "2012",
                                    "product_name": "Half-Finger Gloves- M",
                                    "current_sales": "24",
                                    "avg_sales": "3992",
                                    "diff_avg": "-3968",
                                    "avg_change": "Below Avg",
                                    "py_sales": "NULL",
                                    "diff_py": "NULL",
                                    "py_change": "No Change"
                                },
                                {
                                    "order_year": "2013",
                                    "product_name": "Half-Finger Gloves- M",
                                    "current_sales": "11376",
                                    "avg_sales": "3992",
                                    "diff_avg": "7384",
                                    "avg_change": "Above Avg",
                                    "py_sales": "24",
                                    "diff_py": "11352",
                                    "py_change": "Increase"
                                },
                                {
                                    "order_year": "2014",
                                    "product_name": "Half-Finger Gloves- M",
                                    "current_sales": "576",
                                    "avg_sales": "3992",
                                    "diff_avg": "-3416",
                                    "avg_change": "Below Avg",
                                    "py_sales": "11376",
                                    "diff_py": "-10800",
                                    "py_change": "Decrease"
                                },
                                {
                                    "order_year": "2012",
                                    "product_name": "Half-Finger Gloves- S",
                                    "current_sales": "24",
                                    "avg_sales": "3896",
                                    "diff_avg": "-3872",
                                    "avg_change": "Below Avg",
                                    "py_sales": "NULL",
                                    "diff_py": "NULL",
                                    "py_change": "No Change"
                                },
                                {
                                    "order_year": "2013",
                                    "product_name": "Half-Finger Gloves- S",
                                    "current_sales": "11064",
                                    "avg_sales": "3896",
                                    "diff_avg": "7168",
                                    "avg_change": "Above Avg",
                                    "py_sales": "24",
                                    "diff_py": "11040",
                                    "py_change": "Increase"
                                },
                                {
                                    "order_year": "2014",
                                    "product_name": "Half-Finger Gloves- S",
                                    "current_sales": "600",
                                    "avg_sales": "3896",
                                    "diff_avg": "-3296",
                                    "avg_change": "Below Avg",
                                    "py_sales": "11064",
                                    "diff_py": "-10464",
                                    "py_change": "Decrease"
                                },
                                {
                                    "order_year": "2013",
                                    "product_name": "Hitch Rack - 4-Bike",
                                    "current_sales": "36840",
                                    "avg_sales": "19620",
                                    "diff_avg": "17220",
                                    "avg_change": "Above Avg",
                                    "py_sales": "NULL",
                                    "diff_py": "NULL",
                                    "py_change": "No Change"
                                },
                                {
                                    "order_year": "2014",
                                    "product_name": "Hitch Rack - 4-Bike",
                                    "current_sales": "2400",
                                    "avg_sales": "19620",
                                    "diff_avg": "-17220",
                                    "avg_change": "Below Avg",
                                    "py_sales": "36840",
                                    "diff_py": "-34440",
                                    "py_change": "Decrease"
                                },
                                {
                                    "order_year": "2012",
                                    "product_name": "HL Mountain Tire",
                                    "current_sales": "140",
                                    "avg_sales": "16286",
                                    "diff_avg": "-16146",
                                    "avg_change": "Below Avg",
                                    "py_sales": "NULL",
                                    "diff_py": "NULL",
                                    "py_change": "No Change"
                                },
                                {
                                    "order_year": "2013",
                                    "product_name": "HL Mountain Tire",
                                    "current_sales": "46935",
                                    "avg_sales": "16286",
                                    "diff_avg": "30649",
                                    "avg_change": "Above Avg",
                                    "py_sales": "140",
                                    "diff_py": "46795",
                                    "py_change": "Increase"
                                },
                                {
                                    "order_year": "2014",
                                    "product_name": "HL Mountain Tire",
                                    "current_sales": "1785",
                                    "avg_sales": "16286",
                                    "diff_avg": "-14501",
                                    "avg_change": "Below Avg",
                                    "py_sales": "46935",
                                    "diff_py": "-45150",
                                    "py_change": "Decrease"
                                },
                                {
                                    "order_year": "2012",
                                    "product_name": "HL Road Tire",
                                    "current_sales": "132",
                                    "avg_sales": "9438",
                                    "diff_avg": "-9306",
                                    "avg_change": "Below Avg",
                                    "py_sales": "NULL",
                                    "diff_py": "NULL",
                                    "py_change": "No Change"
                                },
                                {
                                    "order_year": "2013",
                                    "product_name": "HL Road Tire",
                                    "current_sales": "26532",
                                    "avg_sales": "9438",
                                    "diff_avg": "17094",
                                    "avg_change": "Above Avg",
                                    "py_sales": "132",
                                    "diff_py": "26400",
                                    "py_change": "Increase"
                                },
                                {
                                    "order_year": "2014",
                                    "product_name": "HL Road Tire",
                                    "current_sales": "1650",
                                    "avg_sales": "9438",
                                    "diff_avg": "-7788",
                                    "avg_change": "Below Avg",
                                    "py_sales": "26532",
                                    "diff_py": "-24882",
                                    "py_change": "Decrease"
                                },
                                {
                                    "order_year": "2012",
                                    "product_name": "Hydration Pack - 70 oz.",
                                    "current_sales": "110",
                                    "avg_sales": "13438",
                                    "diff_avg": "-13328",
                                    "avg_change": "Below Avg",
                                    "py_sales": "NULL",
                                    "diff_py": "NULL",
                                    "py_change": "No Change"
                                },
                                {
                                    "order_year": "2013",
                                    "product_name": "Hydration Pack - 70 oz.",
                                    "current_sales": "38940",
                                    "avg_sales": "13438",
                                    "diff_avg": "25502",
                                    "avg_change": "Above Avg",
                                    "py_sales": "110",
                                    "diff_py": "38830",
                                    "py_change": "Increase"
                                },
                                {
                                    "order_year": "2014",
                                    "product_name": "Hydration Pack - 70 oz.",
                                    "current_sales": "1265",
                                    "avg_sales": "13438",
                                    "diff_avg": "-12173",
                                    "avg_change": "Below Avg",
                                    "py_sales": "38940",
                                    "diff_py": "-37675",
                                    "py_change": "Decrease"
                                },
                                {
                                    "order_year": "2013",
                                    "product_name": "LL Mountain Tire",
                                    "current_sales": "20125",
                                    "avg_sales": "10775",
                                    "diff_avg": "9350",
                                    "avg_change": "Above Avg",
                                    "py_sales": "NULL",
                                    "diff_py": "NULL",
                                    "py_change": "No Change"
                                },
                                {
                                    "order_year": "2014",
                                    "product_name": "LL Mountain Tire",
                                    "current_sales": "1425",
                                    "avg_sales": "10775",
                                    "diff_avg": "-9350",
                                    "avg_change": "Below Avg",
                                    "py_sales": "20125",
                                    "diff_py": "-18700",
                                    "py_change": "Decrease"
                                },
                                {
                                    "order_year": "2012",
                                    "product_name": "LL Road Tire",
                                    "current_sales": "105",
                                    "avg_sales": "7301",
                                    "diff_avg": "-7196",
                                    "avg_change": "Below Avg",
                                    "py_sales": "NULL",
                                    "diff_py": "NULL",
                                    "py_change": "No Change"
                                },
                                {
                                    "order_year": "2013",
                                    "product_name": "LL Road Tire",
                                    "current_sales": "20622",
                                    "avg_sales": "7301",
                                    "diff_avg": "13321",
                                    "avg_change": "Above Avg",
                                    "py_sales": "105",
                                    "diff_py": "20517",
                                    "py_change": "Increase"
                                },
                                {
                                    "order_year": "2014",
                                    "product_name": "LL Road Tire",
                                    "current_sales": "1176",
                                    "avg_sales": "7301",
                                    "diff_avg": "-6125",
                                    "avg_change": "Below Avg",
                                    "py_sales": "20622",
                                    "diff_py": "-19446",
                                    "py_change": "Decrease"
                                },
                                {
                                    "order_year": "2012",
                                    "product_name": "Long-Sleeve Logo Jersey- L",
                                    "current_sales": "150",
                                    "avg_sales": "7550",
                                    "diff_avg": "-7400",
                                    "avg_change": "Below Avg",
                                    "py_sales": "NULL",
                                    "diff_py": "NULL",
                                    "py_change": "No Change"
                                },
                                {
                                    "order_year": "2013",
                                    "product_name": "Long-Sleeve Logo Jersey- L",
                                    "current_sales": "21550",
                                    "avg_sales": "7550",
                                    "diff_avg": "14000",
                                    "avg_change": "Above Avg",
                                    "py_sales": "150",
                                    "diff_py": "21400",
                                    "py_change": "Increase"
                                },
                                {
                                    "order_year": "2014",
                                    "product_name": "Long-Sleeve Logo Jersey- L",
                                    "current_sales": "950",
                                    "avg_sales": "7550",
                                    "diff_avg": "-6600",
                                    "avg_change": "Below Avg",
                                    "py_sales": "21550",
                                    "diff_py": "-20600",
                                    "py_change": "Decrease"
                                },
                                {
                                    "order_year": "2012",
                                    "product_name": "Long-Sleeve Logo Jersey- M",
                                    "current_sales": "50",
                                    "avg_sales": "7366",
                                    "diff_avg": "-7316",
                                    "avg_change": "Below Avg",
                                    "py_sales": "NULL",
                                    "diff_py": "NULL",
                                    "py_change": "No Change"
                                },
                                {
                                    "order_year": "2013",
                                    "product_name": "Long-Sleeve Logo Jersey- M",
                                    "current_sales": "20850",
                                    "avg_sales": "7366",
                                    "diff_avg": "13484",
                                    "avg_change": "Above Avg",
                                    "py_sales": "50",
                                    "diff_py": "20800",
                                    "py_change": "Increase"
                                },
                                {
                                    "order_year": "2014",
                                    "product_name": "Long-Sleeve Logo Jersey- M",
                                    "current_sales": "1200",
                                    "avg_sales": "7366",
                                    "diff_avg": "-6166",
                                    "avg_change": "Below Avg",
                                    "py_sales": "20850",
                                    "diff_py": "-19650",
                                    "py_change": "Decrease"
                                },
                                {
                                    "order_year": "2013",
                                    "product_name": "Long-Sleeve Logo Jersey- S",
                                    "current_sales": "20350",
                                    "avg_sales": "10725",
                                    "diff_avg": "9625",
                                    "avg_change": "Above Avg",
                                    "py_sales": "NULL",
                                    "diff_py": "NULL",
                                    "py_change": "No Change"
                                },
                                {
                                    "order_year": "2014",
                                    "product_name": "Long-Sleeve Logo Jersey- S",
                                    "current_sales": "1100",
                                    "avg_sales": "10725",
                                    "diff_avg": "-9625",
                                    "avg_change": "Below Avg",
                                    "py_sales": "20350",
                                    "diff_py": "-19250",
                                    "py_change": "Decrease"
                                },
                                {
                                    "order_year": "2013",
                                    "product_name": "Long-Sleeve Logo Jersey- XL",
                                    "current_sales": "19850",
                                    "avg_sales": "10350",
                                    "diff_avg": "9500",
                                    "avg_change": "Above Avg",
                                    "py_sales": "NULL",
                                    "diff_py": "NULL",
                                    "py_change": "No Change"
                                },
                                {
                                    "order_year": "2014",
                                    "product_name": "Long-Sleeve Logo Jersey- XL",
                                    "current_sales": "850",
                                    "avg_sales": "10350",
                                    "diff_avg": "-9500",
                                    "avg_change": "Below Avg",
                                    "py_sales": "19850",
                                    "diff_py": "-19000",
                                    "py_change": "Decrease"
                                },
                                {
                                    "order_year": "2012",
                                    "product_name": "ML Mountain Tire",
                                    "current_sales": "30",
                                    "avg_sales": "11600",
                                    "diff_avg": "-11570",
                                    "avg_change": "Below Avg",
                                    "py_sales": "NULL",
                                    "diff_py": "NULL",
                                    "py_change": "No Change"
                                },
                                {
                                    "order_year": "2013",
                                    "product_name": "ML Mountain Tire",
                                    "current_sales": "32580",
                                    "avg_sales": "11600",
                                    "diff_avg": "20980",
                                    "avg_change": "Above Avg",
                                    "py_sales": "30",
                                    "diff_py": "32550",
                                    "py_change": "Increase"
                                },
                                {
                                    "order_year": "2014",
                                    "product_name": "ML Mountain Tire",
                                    "current_sales": "2190",
                                    "avg_sales": "11600",
                                    "diff_avg": "-9410",
                                    "avg_change": "Below Avg",
                                    "py_sales": "32580",
                                    "diff_py": "-30390",
                                    "py_change": "Decrease"
                                },
                                {
                                    "order_year": "2012",
                                    "product_name": "ML Road Tire",
                                    "current_sales": "50",
                                    "avg_sales": "7708",
                                    "diff_avg": "-7658",
                                    "avg_change": "Below Avg",
                                    "py_sales": "NULL",
                                    "diff_py": "NULL",
                                    "py_change": "No Change"
                                },
                                {
                                    "order_year": "2013",
                                    "product_name": "ML Road Tire",
                                    "current_sales": "22275",
                                    "avg_sales": "7708",
                                    "diff_avg": "14567",
                                    "avg_change": "Above Avg",
                                    "py_sales": "50",
                                    "diff_py": "22225",
                                    "py_change": "Increase"
                                },
                                {
                                    "order_year": "2014",
                                    "product_name": "ML Road Tire",
                                    "current_sales": "800",
                                    "avg_sales": "7708",
                                    "diff_avg": "-6908",
                                    "avg_change": "Below Avg",
                                    "py_sales": "22275",
                                    "diff_py": "-21475",
                                    "py_change": "Decrease"
                                },
                                {
                                    "order_year": "2012",
                                    "product_name": "Mountain Bottle Cage",
                                    "current_sales": "110",
                                    "avg_sales": "6780",
                                    "diff_avg": "-6670",
                                    "avg_change": "Below Avg",
                                    "py_sales": "NULL",
                                    "diff_py": "NULL",
                                    "py_change": "No Change"
                                },
                                {
                                    "order_year": "2013",
                                    "product_name": "Mountain Bottle Cage",
                                    "current_sales": "19530",
                                    "avg_sales": "6780",
                                    "diff_avg": "12750",
                                    "avg_change": "Above Avg",
                                    "py_sales": "110",
                                    "diff_py": "19420",
                                    "py_change": "Increase"
                                },
                                {
                                    "order_year": "2014",
                                    "product_name": "Mountain Bottle Cage",
                                    "current_sales": "700",
                                    "avg_sales": "6780",
                                    "diff_avg": "-6080",
                                    "avg_change": "Below Avg",
                                    "py_sales": "19530",
                                    "diff_py": "-18830",
                                    "py_change": "Decrease"
                                },
                                {
                                    "order_year": "2012",
                                    "product_name": "Mountain Tire Tube",
                                    "current_sales": "15",
                                    "avg_sales": "5155",
                                    "diff_avg": "-5140",
                                    "avg_change": "Below Avg",
                                    "py_sales": "NULL",
                                    "diff_py": "NULL",
                                    "py_change": "No Change"
                                },
                                {
                                    "order_year": "2013",
                                    "product_name": "Mountain Tire Tube",
                                    "current_sales": "14620",
                                    "avg_sales": "5155",
                                    "diff_avg": "9465",
                                    "avg_change": "Above Avg",
                                    "py_sales": "15",
                                    "diff_py": "14605",
                                    "py_change": "Increase"
                                },
                                {
                                    "order_year": "2014",
                                    "product_name": "Mountain Tire Tube",
                                    "current_sales": "830",
                                    "avg_sales": "5155",
                                    "diff_avg": "-4325",
                                    "avg_change": "Below Avg",
                                    "py_sales": "14620",
                                    "diff_py": "-13790",
                                    "py_change": "Decrease"
                                },
                                {
                                    "order_year": "2011",
                                    "product_name": "Mountain-100 Black- 38",
                                    "current_sales": "165375",
                                    "avg_sales": "165375",
                                    "diff_avg": "0",
                                    "avg_change": "Avg",
                                    "py_sales": "NULL",
                                    "diff_py": "NULL",
                                    "py_change": "No Change"
                                },
                                {
                                    "order_year": "2011",
                                    "product_name": "Mountain-100 Black- 42",
                                    "current_sales": "151875",
                                    "avg_sales": "151875",
                                    "diff_avg": "0",
                                    "avg_change": "Avg",
                                    "py_sales": "NULL",
                                    "diff_py": "NULL",
                                    "py_change": "No Change"
                                },
                                {
                                    "order_year": "2011",
                                    "product_name": "Mountain-100 Black- 44",
                                    "current_sales": "202500",
                                    "avg_sales": "202500",
                                    "diff_avg": "0",
                                    "avg_change": "Avg",
                                    "py_sales": "NULL",
                                    "diff_py": "NULL",
                                    "py_change": "No Change"
                                },
                                {
                                    "order_year": "2010",
                                    "product_name": "Mountain-100 Black- 48",
                                    "current_sales": "3375",
                                    "avg_sales": "96187",
                                    "diff_avg": "-92812",
                                    "avg_change": "Below Avg",
                                    "py_sales": "NULL",
                                    "diff_py": "NULL",
                                    "py_change": "No Change"
                                },
                                {
                                    "order_year": "2011",
                                    "product_name": "Mountain-100 Black- 48",
                                    "current_sales": "189000",
                                    "avg_sales": "96187",
                                    "diff_avg": "92813",
                                    "avg_change": "Above Avg",
                                    "py_sales": "3375",
                                    "diff_py": "185625",
                                    "py_change": "Increase"
                                },
                                {
                                    "order_year": "2010",
                                    "product_name": "Mountain-100 Silver- 38",
                                    "current_sales": "3400",
                                    "avg_sales": "98600",
                                    "diff_avg": "-95200",
                                    "avg_change": "Below Avg",
                                    "py_sales": "NULL",
                                    "diff_py": "NULL",
                                    "py_change": "No Change"
                                },
                                {
                                    "order_year": "2011",
                                    "product_name": "Mountain-100 Silver- 38",
                                    "current_sales": "193800",
                                    "avg_sales": "98600",
                                    "diff_avg": "95200",
                                    "avg_change": "Above Avg",
                                    "py_sales": "3400",
                                    "diff_py": "190400",
                                    "py_change": "Increase"
                                },
                                {
                                    "order_year": "2011",
                                    "product_name": "Mountain-100 Silver- 42",
                                    "current_sales": "142800",
                                    "avg_sales": "142800",
                                    "diff_avg": "0",
                                    "avg_change": "Avg",
                                    "py_sales": "NULL",
                                    "diff_py": "NULL",
                                    "py_change": "No Change"
                                },
                                {
                                    "order_year": "2010",
                                    "product_name": "Mountain-100 Silver- 44",
                                    "current_sales": "10200",
                                    "avg_sales": "83300",
                                    "diff_avg": "-73100",
                                    "avg_change": "Below Avg",
                                    "py_sales": "NULL",
                                    "diff_py": "NULL",
                                    "py_change": "No Change"
                                },
                                {
                                    "order_year": "2011",
                                    "product_name": "Mountain-100 Silver- 44",
                                    "current_sales": "156400",
                                    "avg_sales": "83300",
                                    "diff_avg": "73100",
                                    "avg_change": "Above Avg",
                                    "py_sales": "10200",
                                    "diff_py": "146200",
                                    "py_change": "Increase"
                                },
                                {
                                    "order_year": "2011",
                                    "product_name": "Mountain-100 Silver- 48",
                                    "current_sales": "122400",
                                    "avg_sales": "122400",
                                    "diff_avg": "0",
                                    "avg_change": "Avg",
                                    "py_sales": "NULL",
                                    "diff_py": "NULL",
                                    "py_change": "No Change"
                                },
                                {
                                    "order_year": "2011",
                                    "product_name": "Mountain-200 Black- 38",
                                    "current_sales": "4098",
                                    "avg_sales": "430853",
                                    "diff_avg": "-426755",
                                    "avg_change": "Below Avg",
                                    "py_sales": "NULL",
                                    "diff_py": "NULL",
                                    "py_change": "No Change"
                                },
                                {
                                    "order_year": "2012",
                                    "product_name": "Mountain-200 Black- 38",
                                    "current_sales": "342921",
                                    "avg_sales": "430853",
                                    "diff_avg": "-87932",
                                    "avg_change": "Below Avg",
                                    "py_sales": "4098",
                                    "diff_py": "338823",
                                    "py_change": "Increase"
                                },
                                {
                                    "order_year": "2013",
                                    "product_name": "Mountain-200 Black- 38",
                                    "current_sales": "945540",
                                    "avg_sales": "430853",
                                    "diff_avg": "514687",
                                    "avg_change": "Above Avg",
                                    "py_sales": "342921",
                                    "diff_py": "602619",
                                    "py_change": "Increase"
                                },
                                {
                                    "order_year": "2012",
                                    "product_name": "Mountain-200 Black- 42",
                                    "current_sales": "392343",
                                    "avg_sales": "681564",
                                    "diff_avg": "-289221",
                                    "avg_change": "Below Avg",
                                    "py_sales": "NULL",
                                    "diff_py": "NULL",
                                    "py_change": "No Change"
                                },
                                {
                                    "order_year": "2013",
                                    "product_name": "Mountain-200 Black- 42",
                                    "current_sales": "970785",
                                    "avg_sales": "681564",
                                    "diff_avg": "289221",
                                    "avg_change": "Above Avg",
                                    "py_sales": "392343",
                                    "diff_py": "578442",
                                    "py_change": "Increase"
                                },
                                {
                                    "order_year": "2011",
                                    "product_name": "Mountain-200 Black- 46",
                                    "current_sales": "2049",
                                    "avg_sales": "457818",
                                    "diff_avg": "-455769",
                                    "avg_change": "Below Avg",
                                    "py_sales": "NULL",
                                    "diff_py": "NULL",
                                    "py_change": "No Change"
                                },
                                {
                                    "order_year": "2012",
                                    "product_name": "Mountain-200 Black- 46",
                                    "current_sales": "423570",
                                    "avg_sales": "457818",
                                    "diff_avg": "-34248",
                                    "avg_change": "Below Avg",
                                    "py_sales": "2049",
                                    "diff_py": "421521",
                                    "py_change": "Increase"
                                },
                                {
                                    "order_year": "2013",
                                    "product_name": "Mountain-200 Black- 46",
                                    "current_sales": "947835",
                                    "avg_sales": "457818",
                                    "diff_avg": "490017",
                                    "avg_change": "Above Avg",
                                    "py_sales": "423570",
                                    "diff_py": "524265",
                                    "py_change": "Increase"
                                },
                                {
                                    "order_year": "2012",
                                    "product_name": "Mountain-200 Silver- 38",
                                    "current_sales": "371954",
                                    "avg_sales": "669697",
                                    "diff_avg": "-297743",
                                    "avg_change": "Below Avg",
                                    "py_sales": "NULL",
                                    "diff_py": "NULL",
                                    "py_change": "No Change"
                                },
                                {
                                    "order_year": "2013",
                                    "product_name": "Mountain-200 Silver- 38",
                                    "current_sales": "967440",
                                    "avg_sales": "669697",
                                    "diff_avg": "297743",
                                    "avg_change": "Above Avg",
                                    "py_sales": "371954",
                                    "diff_py": "595486",
                                    "py_change": "Increase"
                                },
                                {
                                    "order_year": "2011",
                                    "product_name": "Mountain-200 Silver- 42",
                                    "current_sales": "2071",
                                    "avg_sales": "419122",
                                    "diff_avg": "-417051",
                                    "avg_change": "Below Avg",
                                    "py_sales": "NULL",
                                    "diff_py": "NULL",
                                    "py_change": "No Change"
                                },
                                {
                                    "order_year": "2012",
                                    "product_name": "Mountain-200 Silver- 42",
                                    "current_sales": "352817",
                                    "avg_sales": "419122",
                                    "diff_avg": "-66305",
                                    "avg_change": "Below Avg",
                                    "py_sales": "2071",
                                    "diff_py": "350746",
                                    "py_change": "Increase"
                                },
                                {
                                    "order_year": "2013",
                                    "product_name": "Mountain-200 Silver- 42",
                                    "current_sales": "902480",
                                    "avg_sales": "419122",
                                    "diff_avg": "483358",
                                    "avg_change": "Above Avg",
                                    "py_sales": "352817",
                                    "diff_py": "549663",
                                    "py_change": "Increase"
                                },
                                {
                                    "order_year": "2012",
                                    "product_name": "Mountain-200 Silver- 46",
                                    "current_sales": "377669",
                                    "avg_sales": "649354",
                                    "diff_avg": "-271685",
                                    "avg_change": "Below Avg",
                                    "py_sales": "NULL",
                                    "diff_py": "NULL",
                                    "py_change": "No Change"
                                },
                                {
                                    "order_year": "2013",
                                    "product_name": "Mountain-200 Silver- 46",
                                    "current_sales": "921040",
                                    "avg_sales": "649354",
                                    "diff_avg": "271686",
                                    "avg_change": "Above Avg",
                                    "py_sales": "377669",
                                    "diff_py": "543371",
                                    "py_change": "Increase"
                                },
                                {
                                    "order_year": "2013",
                                    "product_name": "Mountain-400-W Silver- 38",
                                    "current_sales": "113812",
                                    "avg_sales": "113812",
                                    "diff_avg": "0",
                                    "avg_change": "Avg",
                                    "py_sales": "NULL",
                                    "diff_py": "NULL",
                                    "py_change": "No Change"
                                },
                                {
                                    "order_year": "2012",
                                    "product_name": "Mountain-400-W Silver- 40",
                                    "current_sales": "769",
                                    "avg_sales": "49216",
                                    "diff_avg": "-48447",
                                    "avg_change": "Below Avg",
                                    "py_sales": "NULL",
                                    "diff_py": "NULL",
                                    "py_change": "No Change"
                                },
                                {
                                    "order_year": "2013",
                                    "product_name": "Mountain-400-W Silver- 40",
                                    "current_sales": "97663",
                                    "avg_sales": "49216",
                                    "diff_avg": "48447",
                                    "avg_change": "Above Avg",
                                    "py_sales": "769",
                                    "diff_py": "96894",
                                    "py_change": "Increase"
                                },
                                {
                                    "order_year": "2013",
                                    "product_name": "Mountain-400-W Silver- 42",
                                    "current_sales": "99201",
                                    "avg_sales": "99201",
                                    "diff_avg": "0",
                                    "avg_change": "Avg",
                                    "py_sales": "NULL",
                                    "diff_py": "NULL",
                                    "py_change": "No Change"
                                },
                                {
                                    "order_year": "2013",
                                    "product_name": "Mountain-400-W Silver- 46",
                                    "current_sales": "106122",
                                    "avg_sales": "106122",
                                    "diff_avg": "0",
                                    "avg_change": "Avg",
                                    "py_sales": "NULL",
                                    "diff_py": "NULL",
                                    "py_change": "No Change"
                                },
                                {
                                    "order_year": "2012",
                                    "product_name": "Mountain-500 Black- 40",
                                    "current_sales": "540",
                                    "avg_sales": "12960",
                                    "diff_avg": "-12420",
                                    "avg_change": "Below Avg",
                                    "py_sales": "NULL",
                                    "diff_py": "NULL",
                                    "py_change": "No Change"
                                },
                                {
                                    "order_year": "2013",
                                    "product_name": "Mountain-500 Black- 40",
                                    "current_sales": "25380",
                                    "avg_sales": "12960",
                                    "diff_avg": "12420",
                                    "avg_change": "Above Avg",
                                    "py_sales": "540",
                                    "diff_py": "24840",
                                    "py_change": "Increase"
                                },
                                {
                                    "order_year": "2013",
                                    "product_name": "Mountain-500 Black- 42",
                                    "current_sales": "26460",
                                    "avg_sales": "26460",
                                    "diff_avg": "0",
                                    "avg_change": "Avg",
                                    "py_sales": "NULL",
                                    "diff_py": "NULL",
                                    "py_change": "No Change"
                                },
                                {
                                    "order_year": "2013",
                                    "product_name": "Mountain-500 Black- 44",
                                    "current_sales": "31320",
                                    "avg_sales": "31320",
                                    "diff_avg": "0",
                                    "avg_change": "Avg",
                                    "py_sales": "NULL",
                                    "diff_py": "NULL",
                                    "py_change": "No Change"
                                },
                                {
                                    "order_year": "2013",
                                    "product_name": "Mountain-500 Black- 48",
                                    "current_sales": "30240",
                                    "avg_sales": "30240",
                                    "diff_avg": "0",
                                    "avg_change": "Avg",
                                    "py_sales": "NULL",
                                    "diff_py": "NULL",
                                    "py_change": "No Change"
                                },
                                {
                                    "order_year": "2013",
                                    "product_name": "Mountain-500 Black- 52",
                                    "current_sales": "22140",
                                    "avg_sales": "22140",
                                    "diff_avg": "0",
                                    "avg_change": "Avg",
                                    "py_sales": "NULL",
                                    "diff_py": "NULL",
                                    "py_change": "No Change"
                                },
                                {
                                    "order_year": "2013",
                                    "product_name": "Mountain-500 Silver- 40",
                                    "current_sales": "25425",
                                    "avg_sales": "25425",
                                    "diff_avg": "0",
                                    "avg_change": "Avg",
                                    "py_sales": "NULL",
                                    "diff_py": "NULL",
                                    "py_change": "No Change"
                                },
                                {
                                    "order_year": "2013",
                                    "product_name": "Mountain-500 Silver- 42",
                                    "current_sales": "25425",
                                    "avg_sales": "25425",
                                    "diff_avg": "0",
                                    "avg_change": "Avg",
                                    "py_sales": "NULL",
                                    "diff_py": "NULL",
                                    "py_change": "No Change"
                                },
                                {
                                    "order_year": "2012",
                                    "product_name": "Mountain-500 Silver- 44",
                                    "current_sales": "565",
                                    "avg_sales": "11017",
                                    "diff_avg": "-10452",
                                    "avg_change": "Below Avg",
                                    "py_sales": "NULL",
                                    "diff_py": "NULL",
                                    "py_change": "No Change"
                                },
                                {
                                    "order_year": "2013",
                                    "product_name": "Mountain-500 Silver- 44",
                                    "current_sales": "21470",
                                    "avg_sales": "11017",
                                    "diff_avg": "10453",
                                    "avg_change": "Above Avg",
                                    "py_sales": "565",
                                    "diff_py": "20905",
                                    "py_change": "Increase"
                                },
                                {
                                    "order_year": "2013",
                                    "product_name": "Mountain-500 Silver- 48",
                                    "current_sales": "28250",
                                    "avg_sales": "28250",
                                    "diff_avg": "0",
                                    "avg_change": "Avg",
                                    "py_sales": "NULL",
                                    "diff_py": "NULL",
                                    "py_change": "No Change"
                                },
                                {
                                    "order_year": "2013",
                                    "product_name": "Mountain-500 Silver- 52",
                                    "current_sales": "27120",
                                    "avg_sales": "27120",
                                    "diff_avg": "0",
                                    "avg_change": "Avg",
                                    "py_sales": "NULL",
                                    "diff_py": "NULL",
                                    "py_change": "No Change"
                                },
                                {
                                    "order_year": "2012",
                                    "product_name": "Patch Kit/8 Patches",
                                    "current_sales": "8",
                                    "avg_sales": "2126",
                                    "diff_avg": "-2118",
                                    "avg_change": "Below Avg",
                                    "py_sales": "NULL",
                                    "diff_py": "NULL",
                                    "py_change": "No Change"
                                },
                                {
                                    "order_year": "2013",
                                    "product_name": "Patch Kit/8 Patches",
                                    "current_sales": "6048",
                                    "avg_sales": "2126",
                                    "diff_avg": "3922",
                                    "avg_change": "Above Avg",
                                    "py_sales": "8",
                                    "diff_py": "6040",
                                    "py_change": "Increase"
                                },
                                {
                                    "order_year": "2014",
                                    "product_name": "Patch Kit/8 Patches",
                                    "current_sales": "322",
                                    "avg_sales": "2126",
                                    "diff_avg": "-1804",
                                    "avg_change": "Below Avg",
                                    "py_sales": "6048",
                                    "diff_py": "-5726",
                                    "py_change": "Decrease"
                                },
                                {
                                    "order_year": "2012",
                                    "product_name": "Racing Socks- L",
                                    "current_sales": "18",
                                    "avg_sales": "810",
                                    "diff_avg": "-792",
                                    "avg_change": "Below Avg",
                                    "py_sales": "NULL",
                                    "diff_py": "NULL",
                                    "py_change": "No Change"
                                },
                                {
                                    "order_year": "2013",
                                    "product_name": "Racing Socks- L",
                                    "current_sales": "2340",
                                    "avg_sales": "810",
                                    "diff_avg": "1530",
                                    "avg_change": "Above Avg",
                                    "py_sales": "18",
                                    "diff_py": "2322",
                                    "py_change": "Increase"
                                },
                                {
                                    "order_year": "2014",
                                    "product_name": "Racing Socks- L",
                                    "current_sales": "72",
                                    "avg_sales": "810",
                                    "diff_avg": "-738",
                                    "avg_change": "Below Avg",
                                    "py_sales": "2340",
                                    "diff_py": "-2268",
                                    "py_change": "Decrease"
                                },
                                {
                                    "order_year": "2013",
                                    "product_name": "Racing Socks- M",
                                    "current_sales": "2529",
                                    "avg_sales": "1341",
                                    "diff_avg": "1188",
                                    "avg_change": "Above Avg",
                                    "py_sales": "NULL",
                                    "diff_py": "NULL",
                                    "py_change": "No Change"
                                },
                                {
                                    "order_year": "2014",
                                    "product_name": "Racing Socks- M",
                                    "current_sales": "153",
                                    "avg_sales": "1341",
                                    "diff_avg": "-1188",
                                    "avg_change": "Below Avg",
                                    "py_sales": "2529",
                                    "diff_py": "-2376",
                                    "py_change": "Decrease"
                                },
                                {
                                    "order_year": "2012",
                                    "product_name": "Road Bottle Cage",
                                    "current_sales": "81",
                                    "avg_sales": "5133",
                                    "diff_avg": "-5052",
                                    "avg_change": "Below Avg",
                                    "py_sales": "NULL",
                                    "diff_py": "NULL",
                                    "py_change": "No Change"
                                },
                                {
                                    "order_year": "2013",
                                    "product_name": "Road Bottle Cage",
                                    "current_sales": "15237",
                                    "avg_sales": "5133",
                                    "diff_avg": "10104",
                                    "avg_change": "Above Avg",
                                    "py_sales": "81",
                                    "diff_py": "15156",
                                    "py_change": "Increase"
                                },
                                {
                                    "order_year": "2014",
                                    "product_name": "Road Bottle Cage",
                                    "current_sales": "81",
                                    "avg_sales": "5133",
                                    "diff_avg": "-5052",
                                    "avg_change": "Below Avg",
                                    "py_sales": "15237",
                                    "diff_py": "-15156",
                                    "py_change": "Decrease"
                                },
                                {
                                    "order_year": "2012",
                                    "product_name": "Road Tire Tube",
                                    "current_sales": "28",
                                    "avg_sales": "3166",
                                    "diff_avg": "-3138",
                                    "avg_change": "Below Avg",
                                    "py_sales": "NULL",
                                    "diff_py": "NULL",
                                    "py_change": "No Change"
                                },
                                {
                                    "order_year": "2013",
                                    "product_name": "Road Tire Tube",
                                    "current_sales": "8888",
                                    "avg_sales": "3166",
                                    "diff_avg": "5722",
                                    "avg_change": "Above Avg",
                                    "py_sales": "28",
                                    "diff_py": "8860",
                                    "py_change": "Increase"
                                },
                                {
                                    "order_year": "2014",
                                    "product_name": "Road Tire Tube",
                                    "current_sales": "584",
                                    "avg_sales": "3166",
                                    "diff_avg": "-2582",
                                    "avg_change": "Below Avg",
                                    "py_sales": "8888",
                                    "diff_py": "-8304",
                                    "py_change": "Decrease"
                                },
                                {
                                    "order_year": "2010",
                                    "product_name": "Road-150 Red- 44",
                                    "current_sales": "3578",
                                    "avg_sales": "502709",
                                    "diff_avg": "-499131",
                                    "avg_change": "Below Avg",
                                    "py_sales": "NULL",
                                    "diff_py": "NULL",
                                    "py_change": "No Change"
                                },
                                {
                                    "order_year": "2011",
                                    "product_name": "Road-150 Red- 44",
                                    "current_sales": "1001840",
                                    "avg_sales": "502709",
                                    "diff_avg": "499131",
                                    "avg_change": "Above Avg",
                                    "py_sales": "3578",
                                    "diff_py": "998262",
                                    "py_change": "Increase"
                                },
                                {
                                    "order_year": "2010",
                                    "product_name": "Road-150 Red- 48",
                                    "current_sales": "7156",
                                    "avg_sales": "602893",
                                    "diff_avg": "-595737",
                                    "avg_change": "Below Avg",
                                    "py_sales": "NULL",
                                    "diff_py": "NULL",
                                    "py_change": "No Change"
                                },
                                {
                                    "order_year": "2011",
                                    "product_name": "Road-150 Red- 48",
                                    "current_sales": "1198630",
                                    "avg_sales": "602893",
                                    "diff_avg": "595737",
                                    "avg_change": "Above Avg",
                                    "py_sales": "7156",
                                    "diff_py": "1191474",
                                    "py_change": "Increase"
                                },
                                {
                                    "order_year": "2010",
                                    "product_name": "Road-150 Red- 52",
                                    "current_sales": "3578",
                                    "avg_sales": "540278",
                                    "diff_avg": "-536700",
                                    "avg_change": "Below Avg",
                                    "py_sales": "NULL",
                                    "diff_py": "NULL",
                                    "py_change": "No Change"
                                },
                                {
                                    "order_year": "2011",
                                    "product_name": "Road-150 Red- 52",
                                    "current_sales": "1076978",
                                    "avg_sales": "540278",
                                    "diff_avg": "536700",
                                    "avg_change": "Above Avg",
                                    "py_sales": "3578",
                                    "diff_py": "1073400",
                                    "py_change": "Increase"
                                },
                                {
                                    "order_year": "2010",
                                    "product_name": "Road-150 Red- 56",
                                    "current_sales": "3578",
                                    "avg_sales": "527755",
                                    "diff_avg": "-524177",
                                    "avg_change": "Below Avg",
                                    "py_sales": "NULL",
                                    "diff_py": "NULL",
                                    "py_change": "No Change"
                                },
                                {
                                    "order_year": "2011",
                                    "product_name": "Road-150 Red- 56",
                                    "current_sales": "1051932",
                                    "avg_sales": "527755",
                                    "diff_avg": "524177",
                                    "avg_change": "Above Avg",
                                    "py_sales": "3578",
                                    "diff_py": "1048354",
                                    "py_change": "Increase"
                                },
                                {
                                    "order_year": "2010",
                                    "product_name": "Road-150 Red- 62",
                                    "current_sales": "7156",
                                    "avg_sales": "601104",
                                    "diff_avg": "-593948",
                                    "avg_change": "Below Avg",
                                    "py_sales": "NULL",
                                    "diff_py": "NULL",
                                    "py_change": "No Change"
                                },
                                {
                                    "order_year": "2011",
                                    "product_name": "Road-150 Red- 62",
                                    "current_sales": "1195052",
                                    "avg_sales": "601104",
                                    "diff_avg": "593948",
                                    "avg_change": "Above Avg",
                                    "py_sales": "7156",
                                    "diff_py": "1187896",
                                    "py_change": "Increase"
                                },
                                {
                                    "order_year": "2011",
                                    "product_name": "Road-250 Black- 44",
                                    "current_sales": "6546",
                                    "avg_sales": "209461",
                                    "diff_avg": "-202915",
                                    "avg_change": "Below Avg",
                                    "py_sales": "NULL",
                                    "diff_py": "NULL",
                                    "py_change": "No Change"
                                },
                                {
                                    "order_year": "2012",
                                    "product_name": "Road-250 Black- 44",
                                    "current_sales": "279818",
                                    "avg_sales": "209461",
                                    "diff_avg": "70357",
                                    "avg_change": "Above Avg",
                                    "py_sales": "6546",
                                    "diff_py": "273272",
                                    "py_change": "Increase"
                                },
                                {
                                    "order_year": "2013",
                                    "product_name": "Road-250 Black- 44",
                                    "current_sales": "342020",
                                    "avg_sales": "209461",
                                    "diff_avg": "132559",
                                    "avg_change": "Above Avg",
                                    "py_sales": "279818",
                                    "diff_py": "62202",
                                    "py_change": "Increase"
                                },
                                {
                                    "order_year": "2012",
                                    "product_name": "Road-250 Black- 48",
                                    "current_sales": "310105",
                                    "avg_sales": "345606",
                                    "diff_avg": "-35501",
                                    "avg_change": "Below Avg",
                                    "py_sales": "NULL",
                                    "diff_py": "NULL",
                                    "py_change": "No Change"
                                },
                                {
                                    "order_year": "2013",
                                    "product_name": "Road-250 Black- 48",
                                    "current_sales": "381108",
                                    "avg_sales": "345606",
                                    "diff_avg": "35502",
                                    "avg_change": "Above Avg",
                                    "py_sales": "310105",
                                    "diff_py": "71003",
                                    "py_change": "Increase"
                                },
                                {
                                    "order_year": "2011",
                                    "product_name": "Road-250 Black- 52",
                                    "current_sales": "4364",
                                    "avg_sales": "244808",
                                    "diff_avg": "-240444",
                                    "avg_change": "Below Avg",
                                    "py_sales": "NULL",
                                    "diff_py": "NULL",
                                    "py_change": "No Change"
                                },
                                {
                                    "order_year": "2012",
                                    "product_name": "Road-250 Black- 52",
                                    "current_sales": "378269",
                                    "avg_sales": "244808",
                                    "diff_avg": "133461",
                                    "avg_change": "Above Avg",
                                    "py_sales": "4364",
                                    "diff_py": "373905",
                                    "py_change": "Increase"
                                },
                                {
                                    "order_year": "2013",
                                    "product_name": "Road-250 Black- 52",
                                    "current_sales": "351792",
                                    "avg_sales": "244808",
                                    "diff_avg": "106984",
                                    "avg_change": "Above Avg",
                                    "py_sales": "378269",
                                    "diff_py": "-26477",
                                    "py_change": "Decrease"
                                },
                                {
                                    "order_year": "2011",
                                    "product_name": "Road-250 Black- 58",
                                    "current_sales": "2182",
                                    "avg_sales": "207342",
                                    "diff_avg": "-205160",
                                    "avg_change": "Below Avg",
                                    "py_sales": "NULL",
                                    "diff_py": "NULL",
                                    "py_change": "No Change"
                                },
                                {
                                    "order_year": "2012",
                                    "product_name": "Road-250 Black- 58",
                                    "current_sales": "316912",
                                    "avg_sales": "207342",
                                    "diff_avg": "109570",
                                    "avg_change": "Above Avg",
                                    "py_sales": "2182",
                                    "diff_py": "314730",
                                    "py_change": "Increase"
                                },
                                {
                                    "order_year": "2013",
                                    "product_name": "Road-250 Black- 58",
                                    "current_sales": "302932",
                                    "avg_sales": "207342",
                                    "diff_avg": "95590",
                                    "avg_change": "Above Avg",
                                    "py_sales": "316912",
                                    "diff_py": "-13980",
                                    "py_change": "Decrease"
                                },
                                {
                                    "order_year": "2011",
                                    "product_name": "Road-250 Red- 44",
                                    "current_sales": "4886",
                                    "avg_sales": "175896",
                                    "diff_avg": "-171010",
                                    "avg_change": "Below Avg",
                                    "py_sales": "NULL",
                                    "diff_py": "NULL",
                                    "py_change": "No Change"
                                },
                                {
                                    "order_year": "2012",
                                    "product_name": "Road-250 Red- 44",
                                    "current_sales": "346906",
                                    "avg_sales": "175896",
                                    "diff_avg": "171010",
                                    "avg_change": "Above Avg",
                                    "py_sales": "4886",
                                    "diff_py": "342020",
                                    "py_change": "Increase"
                                },
                                {
                                    "order_year": "2011",
                                    "product_name": "Road-250 Red- 48",
                                    "current_sales": "7329",
                                    "avg_sales": "197883",
                                    "diff_avg": "-190554",
                                    "avg_change": "Below Avg",
                                    "py_sales": "NULL",
                                    "diff_py": "NULL",
                                    "py_change": "No Change"
                                },
                                {
                                    "order_year": "2012",
                                    "product_name": "Road-250 Red- 48",
                                    "current_sales": "388437",
                                    "avg_sales": "197883",
                                    "diff_avg": "190554",
                                    "avg_change": "Above Avg",
                                    "py_sales": "7329",
                                    "diff_py": "381108",
                                    "py_change": "Increase"
                                },
                                {
                                    "order_year": "2011",
                                    "product_name": "Road-250 Red- 52",
                                    "current_sales": "2443",
                                    "avg_sales": "162459",
                                    "diff_avg": "-160016",
                                    "avg_change": "Below Avg",
                                    "py_sales": "NULL",
                                    "diff_py": "NULL",
                                    "py_change": "No Change"
                                },
                                {
                                    "order_year": "2012",
                                    "product_name": "Road-250 Red- 52",
                                    "current_sales": "322476",
                                    "avg_sales": "162459",
                                    "diff_avg": "160017",
                                    "avg_change": "Above Avg",
                                    "py_sales": "2443",
                                    "diff_py": "320033",
                                    "py_change": "Increase"
                                },
                                {
                                    "order_year": "2011",
                                    "product_name": "Road-250 Red- 58",
                                    "current_sales": "6546",
                                    "avg_sales": "234222",
                                    "diff_avg": "-227676",
                                    "avg_change": "Below Avg",
                                    "py_sales": "NULL",
                                    "diff_py": "NULL",
                                    "py_change": "No Change"
                                },
                                {
                                    "order_year": "2012",
                                    "product_name": "Road-250 Red- 58",
                                    "current_sales": "376087",
                                    "avg_sales": "234222",
                                    "diff_avg": "141865",
                                    "avg_change": "Above Avg",
                                    "py_sales": "6546",
                                    "diff_py": "369541",
                                    "py_change": "Increase"
                                },
                                {
                                    "order_year": "2013",
                                    "product_name": "Road-250 Red- 58",
                                    "current_sales": "320033",
                                    "avg_sales": "234222",
                                    "diff_avg": "85811",
                                    "avg_change": "Above Avg",
                                    "py_sales": "376087",
                                    "diff_py": "-56054",
                                    "py_change": "Decrease"
                                },
                                {
                                    "order_year": "2012",
                                    "product_name": "Road-350-W Yellow- 40",
                                    "current_sales": "1701",
                                    "avg_sales": "209223",
                                    "diff_avg": "-207522",
                                    "avg_change": "Below Avg",
                                    "py_sales": "NULL",
                                    "diff_py": "NULL",
                                    "py_change": "No Change"
                                },
                                {
                                    "order_year": "2013",
                                    "product_name": "Road-350-W Yellow- 40",
                                    "current_sales": "416745",
                                    "avg_sales": "209223",
                                    "diff_avg": "207522",
                                    "avg_change": "Above Avg",
                                    "py_sales": "1701",
                                    "diff_py": "415044",
                                    "py_change": "Increase"
                                },
                                {
                                    "order_year": "2012",
                                    "product_name": "Road-350-W Yellow- 42",
                                    "current_sales": "5103",
                                    "avg_sales": "199867",
                                    "diff_avg": "-194764",
                                    "avg_change": "Below Avg",
                                    "py_sales": "NULL",
                                    "diff_py": "NULL",
                                    "py_change": "No Change"
                                },
                                {
                                    "order_year": "2013",
                                    "product_name": "Road-350-W Yellow- 42",
                                    "current_sales": "394632",
                                    "avg_sales": "199867",
                                    "diff_avg": "194765",
                                    "avg_change": "Above Avg",
                                    "py_sales": "5103",
                                    "diff_py": "389529",
                                    "py_change": "Increase"
                                },
                                {
                                    "order_year": "2013",
                                    "product_name": "Road-350-W Yellow- 44",
                                    "current_sales": "367416",
                                    "avg_sales": "367416",
                                    "diff_avg": "0",
                                    "avg_change": "Avg",
                                    "py_sales": "NULL",
                                    "diff_py": "NULL",
                                    "py_change": "No Change"
                                },
                                {
                                    "order_year": "2012",
                                    "product_name": "Road-350-W Yellow- 48",
                                    "current_sales": "1701",
                                    "avg_sales": "197316",
                                    "diff_avg": "-195615",
                                    "avg_change": "Below Avg",
                                    "py_sales": "NULL",
                                    "diff_py": "NULL",
                                    "py_change": "No Change"
                                },
                                {
                                    "order_year": "2013",
                                    "product_name": "Road-350-W Yellow- 48",
                                    "current_sales": "392931",
                                    "avg_sales": "197316",
                                    "diff_avg": "195615",
                                    "avg_change": "Above Avg",
                                    "py_sales": "1701",
                                    "diff_py": "391230",
                                    "py_change": "Increase"
                                },
                                {
                                    "order_year": "2011",
                                    "product_name": "Road-550-W Yellow- 38",
                                    "current_sales": "1000",
                                    "avg_sales": "97920",
                                    "diff_avg": "-96920",
                                    "avg_change": "Below Avg",
                                    "py_sales": "NULL",
                                    "diff_py": "NULL",
                                    "py_change": "No Change"
                                },
                                {
                                    "order_year": "2012",
                                    "product_name": "Road-550-W Yellow- 38",
                                    "current_sales": "71000",
                                    "avg_sales": "97920",
                                    "diff_avg": "-26920",
                                    "avg_change": "Below Avg",
                                    "py_sales": "1000",
                                    "diff_py": "70000",
                                    "py_change": "Increase"
                                },
                                {
                                    "order_year": "2013",
                                    "product_name": "Road-550-W Yellow- 38",
                                    "current_sales": "221760",
                                    "avg_sales": "97920",
                                    "diff_avg": "123840",
                                    "avg_change": "Above Avg",
                                    "py_sales": "71000",
                                    "diff_py": "150760",
                                    "py_change": "Increase"
                                },
                                {
                                    "order_year": "2012",
                                    "product_name": "Road-550-W Yellow- 40",
                                    "current_sales": "68120",
                                    "avg_sales": "144940",
                                    "diff_avg": "-76820",
                                    "avg_change": "Below Avg",
                                    "py_sales": "NULL",
                                    "diff_py": "NULL",
                                    "py_change": "No Change"
                                },
                                {
                                    "order_year": "2013",
                                    "product_name": "Road-550-W Yellow- 40",
                                    "current_sales": "221760",
                                    "avg_sales": "144940",
                                    "diff_avg": "76820",
                                    "avg_change": "Above Avg",
                                    "py_sales": "68120",
                                    "diff_py": "153640",
                                    "py_change": "Increase"
                                },
                                {
                                    "order_year": "2011",
                                    "product_name": "Road-550-W Yellow- 42",
                                    "current_sales": "1000",
                                    "avg_sales": "111480",
                                    "diff_avg": "-110480",
                                    "avg_change": "Below Avg",
                                    "py_sales": "NULL",
                                    "diff_py": "NULL",
                                    "py_change": "No Change"
                                },
                                {
                                    "order_year": "2012",
                                    "product_name": "Road-550-W Yellow- 42",
                                    "current_sales": "68000",
                                    "avg_sales": "111480",
                                    "diff_avg": "-43480",
                                    "avg_change": "Below Avg",
                                    "py_sales": "1000",
                                    "diff_py": "67000",
                                    "py_change": "Increase"
                                },
                                {
                                    "order_year": "2013",
                                    "product_name": "Road-550-W Yellow- 42",
                                    "current_sales": "265440",
                                    "avg_sales": "111480",
                                    "diff_avg": "153960",
                                    "avg_change": "Above Avg",
                                    "py_sales": "68000",
                                    "diff_py": "197440",
                                    "py_change": "Increase"
                                },
                                {
                                    "order_year": "2012",
                                    "product_name": "Road-550-W Yellow- 44",
                                    "current_sales": "78120",
                                    "avg_sales": "156100",
                                    "diff_avg": "-77980",
                                    "avg_change": "Below Avg",
                                    "py_sales": "NULL",
                                    "diff_py": "NULL",
                                    "py_change": "No Change"
                                },
                                {
                                    "order_year": "2013",
                                    "product_name": "Road-550-W Yellow- 44",
                                    "current_sales": "234080",
                                    "avg_sales": "156100",
                                    "diff_avg": "77980",
                                    "avg_change": "Above Avg",
                                    "py_sales": "78120",
                                    "diff_py": "155960",
                                    "py_change": "Increase"
                                },
                                {
                                    "order_year": "2012",
                                    "product_name": "Road-550-W Yellow- 48",
                                    "current_sales": "74240",
                                    "avg_sales": "141840",
                                    "diff_avg": "-67600",
                                    "avg_change": "Below Avg",
                                    "py_sales": "NULL",
                                    "diff_py": "NULL",
                                    "py_change": "No Change"
                                },
                                {
                                    "order_year": "2013",
                                    "product_name": "Road-550-W Yellow- 48",
                                    "current_sales": "209440",
                                    "avg_sales": "141840",
                                    "diff_avg": "67600",
                                    "avg_change": "Above Avg",
                                    "py_sales": "74240",
                                    "diff_py": "135200",
                                    "py_change": "Increase"
                                },
                                {
                                    "order_year": "2011",
                                    "product_name": "Road-650 Black- 44",
                                    "current_sales": "14679",
                                    "avg_sales": "23782",
                                    "diff_avg": "-9103",
                                    "avg_change": "Below Avg",
                                    "py_sales": "NULL",
                                    "diff_py": "NULL",
                                    "py_change": "No Change"
                                },
                                {
                                    "order_year": "2012",
                                    "product_name": "Road-650 Black- 44",
                                    "current_sales": "32886",
                                    "avg_sales": "23782",
                                    "diff_avg": "9104",
                                    "avg_change": "Above Avg",
                                    "py_sales": "14679",
                                    "diff_py": "18207",
                                    "py_change": "Increase"
                                },
                                {
                                    "order_year": "2011",
                                    "product_name": "Road-650 Black- 48",
                                    "current_sales": "11883",
                                    "avg_sales": "22776",
                                    "diff_avg": "-10893",
                                    "avg_change": "Below Avg",
                                    "py_sales": "NULL",
                                    "diff_py": "NULL",
                                    "py_change": "No Change"
                                },
                                {
                                    "order_year": "2012",
                                    "product_name": "Road-650 Black- 48",
                                    "current_sales": "33669",
                                    "avg_sales": "22776",
                                    "diff_avg": "10893",
                                    "avg_change": "Above Avg",
                                    "py_sales": "11883",
                                    "diff_py": "21786",
                                    "py_change": "Increase"
                                },
                                {
                                    "order_year": "2011",
                                    "product_name": "Road-650 Black- 52",
                                    "current_sales": "23067",
                                    "avg_sales": "33457",
                                    "diff_avg": "-10390",
                                    "avg_change": "Below Avg",
                                    "py_sales": "NULL",
                                    "diff_py": "NULL",
                                    "py_change": "No Change"
                                },
                                {
                                    "order_year": "2012",
                                    "product_name": "Road-650 Black- 52",
                                    "current_sales": "43848",
                                    "avg_sales": "33457",
                                    "diff_avg": "10391",
                                    "avg_change": "Above Avg",
                                    "py_sales": "23067",
                                    "diff_py": "20781",
                                    "py_change": "Increase"
                                },
                                {
                                    "order_year": "2011",
                                    "product_name": "Road-650 Black- 58",
                                    "current_sales": "12582",
                                    "avg_sales": "28998",
                                    "diff_avg": "-16416",
                                    "avg_change": "Below Avg",
                                    "py_sales": "NULL",
                                    "diff_py": "NULL",
                                    "py_change": "No Change"
                                },
                                {
                                    "order_year": "2012",
                                    "product_name": "Road-650 Black- 58",
                                    "current_sales": "45414",
                                    "avg_sales": "28998",
                                    "diff_avg": "16416",
                                    "avg_change": "Above Avg",
                                    "py_sales": "12582",
                                    "diff_py": "32832",
                                    "py_change": "Increase"
                                },
                                {
                                    "order_year": "2011",
                                    "product_name": "Road-650 Black- 60",
                                    "current_sales": "19572",
                                    "avg_sales": "28578",
                                    "diff_avg": "-9006",
                                    "avg_change": "Below Avg",
                                    "py_sales": "NULL",
                                    "diff_py": "NULL",
                                    "py_change": "No Change"
                                },
                                {
                                    "order_year": "2012",
                                    "product_name": "Road-650 Black- 60",
                                    "current_sales": "37584",
                                    "avg_sales": "28578",
                                    "diff_avg": "9006",
                                    "avg_change": "Above Avg",
                                    "py_sales": "19572",
                                    "diff_py": "18012",
                                    "py_change": "Increase"
                                },
                                {
                                    "order_year": "2010",
                                    "product_name": "Road-650 Black- 62",
                                    "current_sales": "699",
                                    "avg_sales": "16349",
                                    "diff_avg": "-15650",
                                    "avg_change": "Below Avg",
                                    "py_sales": "NULL",
                                    "diff_py": "NULL",
                                    "py_change": "No Change"
                                },
                                {
                                    "order_year": "2011",
                                    "product_name": "Road-650 Black- 62",
                                    "current_sales": "14679",
                                    "avg_sales": "16349",
                                    "diff_avg": "-1670",
                                    "avg_change": "Below Avg",
                                    "py_sales": "699",
                                    "diff_py": "13980",
                                    "py_change": "Increase"
                                },
                                {
                                    "order_year": "2012",
                                    "product_name": "Road-650 Black- 62",
                                    "current_sales": "33669",
                                    "avg_sales": "16349",
                                    "diff_avg": "17320",
                                    "avg_change": "Above Avg",
                                    "py_sales": "14679",
                                    "diff_py": "18990",
                                    "py_change": "Increase"
                                },
                                {
                                    "order_year": "2011",
                                    "product_name": "Road-650 Red- 44",
                                    "current_sales": "15378",
                                    "avg_sales": "27264",
                                    "diff_avg": "-11886",
                                    "avg_change": "Below Avg",
                                    "py_sales": "NULL",
                                    "diff_py": "NULL",
                                    "py_change": "No Change"
                                },
                                {
                                    "order_year": "2012",
                                    "product_name": "Road-650 Red- 44",
                                    "current_sales": "39150",
                                    "avg_sales": "27264",
                                    "diff_avg": "11886",
                                    "avg_change": "Above Avg",
                                    "py_sales": "15378",
                                    "diff_py": "23772",
                                    "py_change": "Increase"
                                },
                                {
                                    "order_year": "2011",
                                    "product_name": "Road-650 Red- 48",
                                    "current_sales": "18957",
                                    "avg_sales": "33360",
                                    "diff_avg": "-14403",
                                    "avg_change": "Below Avg",
                                    "py_sales": "NULL",
                                    "diff_py": "NULL",
                                    "py_change": "No Change"
                                },
                                {
                                    "order_year": "2012",
                                    "product_name": "Road-650 Red- 48",
                                    "current_sales": "47763",
                                    "avg_sales": "33360",
                                    "diff_avg": "14403",
                                    "avg_change": "Above Avg",
                                    "py_sales": "18957",
                                    "diff_py": "28806",
                                    "py_change": "Increase"
                                },
                                {
                                    "order_year": "2010",
                                    "product_name": "Road-650 Red- 52",
                                    "current_sales": "699",
                                    "avg_sales": "15361",
                                    "diff_avg": "-14662",
                                    "avg_change": "Below Avg",
                                    "py_sales": "NULL",
                                    "diff_py": "NULL",
                                    "py_change": "No Change"
                                },
                                {
                                    "order_year": "2011",
                                    "product_name": "Road-650 Red- 52",
                                    "current_sales": "14064",
                                    "avg_sales": "15361",
                                    "diff_avg": "-1297",
                                    "avg_change": "Below Avg",
                                    "py_sales": "699",
                                    "diff_py": "13365",
                                    "py_change": "Increase"
                                },
                                {
                                    "order_year": "2012",
                                    "product_name": "Road-650 Red- 52",
                                    "current_sales": "31320",
                                    "avg_sales": "15361",
                                    "diff_avg": "15959",
                                    "avg_change": "Above Avg",
                                    "py_sales": "14064",
                                    "diff_py": "17256",
                                    "py_change": "Increase"
                                },
                                {
                                    "order_year": "2011",
                                    "product_name": "Road-650 Red- 58",
                                    "current_sales": "13281",
                                    "avg_sales": "28173",
                                    "diff_avg": "-14892",
                                    "avg_change": "Below Avg",
                                    "py_sales": "NULL",
                                    "diff_py": "NULL",
                                    "py_change": "No Change"
                                },
                                {
                                    "order_year": "2012",
                                    "product_name": "Road-650 Red- 58",
                                    "current_sales": "43065",
                                    "avg_sales": "28173",
                                    "diff_avg": "14892",
                                    "avg_change": "Above Avg",
                                    "py_sales": "13281",
                                    "diff_py": "29784",
                                    "py_change": "Increase"
                                },
                                {
                                    "order_year": "2011",
                                    "product_name": "Road-650 Red- 60",
                                    "current_sales": "11883",
                                    "avg_sales": "20035",
                                    "diff_avg": "-8152",
                                    "avg_change": "Below Avg",
                                    "py_sales": "NULL",
                                    "diff_py": "NULL",
                                    "py_change": "No Change"
                                },
                                {
                                    "order_year": "2012",
                                    "product_name": "Road-650 Red- 60",
                                    "current_sales": "28188",
                                    "avg_sales": "20035",
                                    "diff_avg": "8153",
                                    "avg_change": "Above Avg",
                                    "py_sales": "11883",
                                    "diff_py": "16305",
                                    "py_change": "Increase"
                                },
                                {
                                    "order_year": "2011",
                                    "product_name": "Road-650 Red- 62",
                                    "current_sales": "11967",
                                    "avg_sales": "28690",
                                    "diff_avg": "-16723",
                                    "avg_change": "Below Avg",
                                    "py_sales": "NULL",
                                    "diff_py": "NULL",
                                    "py_change": "No Change"
                                },
                                {
                                    "order_year": "2012",
                                    "product_name": "Road-650 Red- 62",
                                    "current_sales": "45414",
                                    "avg_sales": "28690",
                                    "diff_avg": "16724",
                                    "avg_change": "Above Avg",
                                    "py_sales": "11967",
                                    "diff_py": "33447",
                                    "py_change": "Increase"
                                },
                                {
                                    "order_year": "2012",
                                    "product_name": "Road-750 Black- 44",
                                    "current_sales": "1620",
                                    "avg_sales": "97200",
                                    "diff_avg": "-95580",
                                    "avg_change": "Below Avg",
                                    "py_sales": "NULL",
                                    "diff_py": "NULL",
                                    "py_change": "No Change"
                                },
                                {
                                    "order_year": "2013",
                                    "product_name": "Road-750 Black- 44",
                                    "current_sales": "192780",
                                    "avg_sales": "97200",
                                    "diff_avg": "95580",
                                    "avg_change": "Above Avg",
                                    "py_sales": "1620",
                                    "diff_py": "191160",
                                    "py_change": "Increase"
                                },
                                {
                                    "order_year": "2012",
                                    "product_name": "Road-750 Black- 48",
                                    "current_sales": "1080",
                                    "avg_sales": "98010",
                                    "diff_avg": "-96930",
                                    "avg_change": "Below Avg",
                                    "py_sales": "NULL",
                                    "diff_py": "NULL",
                                    "py_change": "No Change"
                                },
                                {
                                    "order_year": "2013",
                                    "product_name": "Road-750 Black- 48",
                                    "current_sales": "194940",
                                    "avg_sales": "98010",
                                    "diff_avg": "96930",
                                    "avg_change": "Above Avg",
                                    "py_sales": "1080",
                                    "diff_py": "193860",
                                    "py_change": "Increase"
                                },
                                {
                                    "order_year": "2012",
                                    "product_name": "Road-750 Black- 52",
                                    "current_sales": "2160",
                                    "avg_sales": "104220",
                                    "diff_avg": "-102060",
                                    "avg_change": "Below Avg",
                                    "py_sales": "NULL",
                                    "diff_py": "NULL",
                                    "py_change": "No Change"
                                },
                                {
                                    "order_year": "2013",
                                    "product_name": "Road-750 Black- 52",
                                    "current_sales": "206280",
                                    "avg_sales": "104220",
                                    "diff_avg": "102060",
                                    "avg_change": "Above Avg",
                                    "py_sales": "2160",
                                    "diff_py": "204120",
                                    "py_change": "Increase"
                                },
                                {
                                    "order_year": "2012",
                                    "product_name": "Road-750 Black- 58",
                                    "current_sales": "1080",
                                    "avg_sales": "90180",
                                    "diff_avg": "-89100",
                                    "avg_change": "Below Avg",
                                    "py_sales": "NULL",
                                    "diff_py": "NULL",
                                    "py_change": "No Change"
                                },
                                {
                                    "order_year": "2013",
                                    "product_name": "Road-750 Black- 58",
                                    "current_sales": "179280",
                                    "avg_sales": "90180",
                                    "diff_avg": "89100",
                                    "avg_change": "Above Avg",
                                    "py_sales": "1080",
                                    "diff_py": "178200",
                                    "py_change": "Increase"
                                },
                                {
                                    "order_year": "2012",
                                    "product_name": "Short-Sleeve Classic Jersey- L",
                                    "current_sales": "108",
                                    "avg_sales": "6732",
                                    "diff_avg": "-6624",
                                    "avg_change": "Below Avg",
                                    "py_sales": "NULL",
                                    "diff_py": "NULL",
                                    "py_change": "No Change"
                                },
                                {
                                    "order_year": "2013",
                                    "product_name": "Short-Sleeve Classic Jersey- L",
                                    "current_sales": "19764",
                                    "avg_sales": "6732",
                                    "diff_avg": "13032",
                                    "avg_change": "Above Avg",
                                    "py_sales": "108",
                                    "diff_py": "19656",
                                    "py_change": "Increase"
                                },
                                {
                                    "order_year": "2014",
                                    "product_name": "Short-Sleeve Classic Jersey- L",
                                    "current_sales": "324",
                                    "avg_sales": "6732",
                                    "diff_avg": "-6408",
                                    "avg_change": "Below Avg",
                                    "py_sales": "19764",
                                    "diff_py": "-19440",
                                    "py_change": "Decrease"
                                },
                                {
                                    "order_year": "2012",
                                    "product_name": "Short-Sleeve Classic Jersey- M",
                                    "current_sales": "54",
                                    "avg_sales": "7326",
                                    "diff_avg": "-7272",
                                    "avg_change": "Below Avg",
                                    "py_sales": "NULL",
                                    "diff_py": "NULL",
                                    "py_change": "No Change"
                                },
                                {
                                    "order_year": "2013",
                                    "product_name": "Short-Sleeve Classic Jersey- M",
                                    "current_sales": "20790",
                                    "avg_sales": "7326",
                                    "diff_avg": "13464",
                                    "avg_change": "Above Avg",
                                    "py_sales": "54",
                                    "diff_py": "20736",
                                    "py_change": "Increase"
                                },
                                {
                                    "order_year": "2014",
                                    "product_name": "Short-Sleeve Classic Jersey- M",
                                    "current_sales": "1134",
                                    "avg_sales": "7326",
                                    "diff_avg": "-6192",
                                    "avg_change": "Below Avg",
                                    "py_sales": "20790",
                                    "diff_py": "-19656",
                                    "py_change": "Decrease"
                                },
                                {
                                    "order_year": "2012",
                                    "product_name": "Short-Sleeve Classic Jersey- S",
                                    "current_sales": "54",
                                    "avg_sales": "7308",
                                    "diff_avg": "-7254",
                                    "avg_change": "Below Avg",
                                    "py_sales": "NULL",
                                    "diff_py": "NULL",
                                    "py_change": "No Change"
                                },
                                {
                                    "order_year": "2013",
                                    "product_name": "Short-Sleeve Classic Jersey- S",
                                    "current_sales": "21384",
                                    "avg_sales": "7308",
                                    "diff_avg": "14076",
                                    "avg_change": "Above Avg",
                                    "py_sales": "54",
                                    "diff_py": "21330",
                                    "py_change": "Increase"
                                },
                                {
                                    "order_year": "2014",
                                    "product_name": "Short-Sleeve Classic Jersey- S",
                                    "current_sales": "486",
                                    "avg_sales": "7308",
                                    "diff_avg": "-6822",
                                    "avg_change": "Below Avg",
                                    "py_sales": "21384",
                                    "diff_py": "-20898",
                                    "py_change": "Decrease"
                                },
                                {
                                    "order_year": "2013",
                                    "product_name": "Short-Sleeve Classic Jersey- XL",
                                    "current_sales": "21168",
                                    "avg_sales": "11043",
                                    "diff_avg": "10125",
                                    "avg_change": "Above Avg",
                                    "py_sales": "NULL",
                                    "diff_py": "NULL",
                                    "py_change": "No Change"
                                },
                                {
                                    "order_year": "2014",
                                    "product_name": "Short-Sleeve Classic Jersey- XL",
                                    "current_sales": "918",
                                    "avg_sales": "11043",
                                    "diff_avg": "-10125",
                                    "avg_change": "Below Avg",
                                    "py_sales": "21168",
                                    "diff_py": "-20250",
                                    "py_change": "Decrease"
                                },
                                {
                                    "order_year": "2012",
                                    "product_name": "Sport-100 Helmet- Black",
                                    "current_sales": "210",
                                    "avg_sales": "24325",
                                    "diff_avg": "-24115",
                                    "avg_change": "Below Avg",
                                    "py_sales": "NULL",
                                    "diff_py": "NULL",
                                    "py_change": "No Change"
                                },
                                {
                                    "order_year": "2013",
                                    "product_name": "Sport-100 Helmet- Black",
                                    "current_sales": "69895",
                                    "avg_sales": "24325",
                                    "diff_avg": "45570",
                                    "avg_change": "Above Avg",
                                    "py_sales": "210",
                                    "diff_py": "69685",
                                    "py_change": "Increase"
                                },
                                {
                                    "order_year": "2014",
                                    "product_name": "Sport-100 Helmet- Black",
                                    "current_sales": "2870",
                                    "avg_sales": "24325",
                                    "diff_avg": "-21455",
                                    "avg_change": "Below Avg",
                                    "py_sales": "69895",
                                    "diff_py": "-67025",
                                    "py_change": "Decrease"
                                },
                                {
                                    "order_year": "2012",
                                    "product_name": "Sport-100 Helmet- Blue",
                                    "current_sales": "350",
                                    "avg_sales": "24791",
                                    "diff_avg": "-24441",
                                    "avg_change": "Below Avg",
                                    "py_sales": "NULL",
                                    "diff_py": "NULL",
                                    "py_change": "No Change"
                                },
                                {
                                    "order_year": "2013",
                                    "product_name": "Sport-100 Helmet- Blue",
                                    "current_sales": "71050",
                                    "avg_sales": "24791",
                                    "diff_avg": "46259",
                                    "avg_change": "Above Avg",
                                    "py_sales": "350",
                                    "diff_py": "70700",
                                    "py_change": "Increase"
                                },
                                {
                                    "order_year": "2014",
                                    "product_name": "Sport-100 Helmet- Blue",
                                    "current_sales": "2975",
                                    "avg_sales": "24791",
                                    "diff_avg": "-21816",
                                    "avg_change": "Below Avg",
                                    "py_sales": "71050",
                                    "diff_py": "-68075",
                                    "py_change": "Decrease"
                                },
                                {
                                    "order_year": "2012",
                                    "product_name": "Sport-100 Helmet- Red",
                                    "current_sales": "350",
                                    "avg_sales": "26016",
                                    "diff_avg": "-25666",
                                    "avg_change": "Below Avg",
                                    "py_sales": "NULL",
                                    "diff_py": "NULL",
                                    "py_change": "No Change"
                                },
                                {
                                    "order_year": "2013",
                                    "product_name": "Sport-100 Helmet- Red",
                                    "current_sales": "75145",
                                    "avg_sales": "26016",
                                    "diff_avg": "49129",
                                    "avg_change": "Above Avg",
                                    "py_sales": "350",
                                    "diff_py": "74795",
                                    "py_change": "Increase"
                                },
                                {
                                    "order_year": "2014",
                                    "product_name": "Sport-100 Helmet- Red",
                                    "current_sales": "2555",
                                    "avg_sales": "26016",
                                    "diff_avg": "-23461",
                                    "avg_change": "Below Avg",
                                    "py_sales": "75145",
                                    "diff_py": "-72590",
                                    "py_change": "Decrease"
                                },
                                {
                                    "order_year": "2012",
                                    "product_name": "Touring Tire",
                                    "current_sales": "58",
                                    "avg_sales": "9038",
                                    "diff_avg": "-8980",
                                    "avg_change": "Below Avg",
                                    "py_sales": "NULL",
                                    "diff_py": "NULL",
                                    "py_change": "No Change"
                                },
                                {
                                    "order_year": "2013",
                                    "product_name": "Touring Tire",
                                    "current_sales": "25607",
                                    "avg_sales": "9038",
                                    "diff_avg": "16569",
                                    "avg_change": "Above Avg",
                                    "py_sales": "58",
                                    "diff_py": "25549",
                                    "py_change": "Increase"
                                },
                                {
                                    "order_year": "2014",
                                    "product_name": "Touring Tire",
                                    "current_sales": "1450",
                                    "avg_sales": "9038",
                                    "diff_avg": "-7588",
                                    "avg_change": "Below Avg",
                                    "py_sales": "25607",
                                    "diff_py": "-24157",
                                    "py_change": "Decrease"
                                },
                                {
                                    "order_year": "2012",
                                    "product_name": "Touring Tire Tube",
                                    "current_sales": "10",
                                    "avg_sales": "2478",
                                    "diff_avg": "-2468",
                                    "avg_change": "Below Avg",
                                    "py_sales": "NULL",
                                    "diff_py": "NULL",
                                    "py_change": "No Change"
                                },
                                {
                                    "order_year": "2013",
                                    "product_name": "Touring Tire Tube",
                                    "current_sales": "7010",
                                    "avg_sales": "2478",
                                    "diff_avg": "4532",
                                    "avg_change": "Above Avg",
                                    "py_sales": "10",
                                    "diff_py": "7000",
                                    "py_change": "Increase"
                                },
                                {
                                    "order_year": "2014",
                                    "product_name": "Touring Tire Tube",
                                    "current_sales": "415",
                                    "avg_sales": "2478",
                                    "diff_avg": "-2063",
                                    "avg_change": "Below Avg",
                                    "py_sales": "7010",
                                    "diff_py": "-6595",
                                    "py_change": "Decrease"
                                },
                                {
                                    "order_year": "2012",
                                    "product_name": "Touring-1000 Blue- 46",
                                    "current_sales": "4768",
                                    "avg_sales": "210984",
                                    "diff_avg": "-206216",
                                    "avg_change": "Below Avg",
                                    "py_sales": "NULL",
                                    "diff_py": "NULL",
                                    "py_change": "No Change"
                                },
                                {
                                    "order_year": "2013",
                                    "product_name": "Touring-1000 Blue- 46",
                                    "current_sales": "417200",
                                    "avg_sales": "210984",
                                    "diff_avg": "206216",
                                    "avg_change": "Above Avg",
                                    "py_sales": "4768",
                                    "diff_py": "412432",
                                    "py_change": "Increase"
                                },
                                {
                                    "order_year": "2012",
                                    "product_name": "Touring-1000 Blue- 50",
                                    "current_sales": "2384",
                                    "avg_sales": "178800",
                                    "diff_avg": "-176416",
                                    "avg_change": "Below Avg",
                                    "py_sales": "NULL",
                                    "diff_py": "NULL",
                                    "py_change": "No Change"
                                },
                                {
                                    "order_year": "2013",
                                    "product_name": "Touring-1000 Blue- 50",
                                    "current_sales": "355216",
                                    "avg_sales": "178800",
                                    "diff_avg": "176416",
                                    "avg_change": "Above Avg",
                                    "py_sales": "2384",
                                    "diff_py": "352832",
                                    "py_change": "Increase"
                                },
                                {
                                    "order_year": "2013",
                                    "product_name": "Touring-1000 Blue- 54",
                                    "current_sales": "381440",
                                    "avg_sales": "381440",
                                    "diff_avg": "0",
                                    "avg_change": "Avg",
                                    "py_sales": "NULL",
                                    "diff_py": "NULL",
                                    "py_change": "No Change"
                                },
                                {
                                    "order_year": "2012",
                                    "product_name": "Touring-1000 Blue- 60",
                                    "current_sales": "2384",
                                    "avg_sales": "175224",
                                    "diff_avg": "-172840",
                                    "avg_change": "Below Avg",
                                    "py_sales": "NULL",
                                    "diff_py": "NULL",
                                    "py_change": "No Change"
                                },
                                {
                                    "order_year": "2013",
                                    "product_name": "Touring-1000 Blue- 60",
                                    "current_sales": "348064",
                                    "avg_sales": "175224",
                                    "diff_avg": "172840",
                                    "avg_change": "Above Avg",
                                    "py_sales": "2384",
                                    "diff_py": "345680",
                                    "py_change": "Increase"
                                },
                                {
                                    "order_year": "2013",
                                    "product_name": "Touring-1000 Yellow- 46",
                                    "current_sales": "410048",
                                    "avg_sales": "410048",
                                    "diff_avg": "0",
                                    "avg_change": "Avg",
                                    "py_sales": "NULL",
                                    "diff_py": "NULL",
                                    "py_change": "No Change"
                                },
                                {
                                    "order_year": "2012",
                                    "product_name": "Touring-1000 Yellow- 50",
                                    "current_sales": "4768",
                                    "avg_sales": "179992",
                                    "diff_avg": "-175224",
                                    "avg_change": "Below Avg",
                                    "py_sales": "NULL",
                                    "diff_py": "NULL",
                                    "py_change": "No Change"
                                },
                                {
                                    "order_year": "2013",
                                    "product_name": "Touring-1000 Yellow- 50",
                                    "current_sales": "355216",
                                    "avg_sales": "179992",
                                    "diff_avg": "175224",
                                    "avg_change": "Above Avg",
                                    "py_sales": "4768",
                                    "diff_py": "350448",
                                    "py_change": "Increase"
                                },
                                {
                                    "order_year": "2013",
                                    "product_name": "Touring-1000 Yellow- 54",
                                    "current_sales": "376672",
                                    "avg_sales": "376672",
                                    "diff_avg": "0",
                                    "avg_change": "Avg",
                                    "py_sales": "NULL",
                                    "diff_py": "NULL",
                                    "py_change": "No Change"
                                },
                                {
                                    "order_year": "2013",
                                    "product_name": "Touring-1000 Yellow- 60",
                                    "current_sales": "333760",
                                    "avg_sales": "333760",
                                    "diff_avg": "0",
                                    "avg_change": "Avg",
                                    "py_sales": "NULL",
                                    "diff_py": "NULL",
                                    "py_change": "No Change"
                                },
                                {
                                    "order_year": "2012",
                                    "product_name": "Touring-2000 Blue- 46",
                                    "current_sales": "2430",
                                    "avg_sales": "58927",
                                    "diff_avg": "-56497",
                                    "avg_change": "Below Avg",
                                    "py_sales": "NULL",
                                    "diff_py": "NULL",
                                    "py_change": "No Change"
                                },
                                {
                                    "order_year": "2013",
                                    "product_name": "Touring-2000 Blue- 46",
                                    "current_sales": "115425",
                                    "avg_sales": "58927",
                                    "diff_avg": "56498",
                                    "avg_change": "Above Avg",
                                    "py_sales": "2430",
                                    "diff_py": "112995",
                                    "py_change": "Increase"
                                },
                                {
                                    "order_year": "2012",
                                    "product_name": "Touring-2000 Blue- 50",
                                    "current_sales": "1215",
                                    "avg_sales": "64395",
                                    "diff_avg": "-63180",
                                    "avg_change": "Below Avg",
                                    "py_sales": "NULL",
                                    "diff_py": "NULL",
                                    "py_change": "No Change"
                                },
                                {
                                    "order_year": "2013",
                                    "product_name": "Touring-2000 Blue- 50",
                                    "current_sales": "127575",
                                    "avg_sales": "64395",
                                    "diff_avg": "63180",
                                    "avg_change": "Above Avg",
                                    "py_sales": "1215",
                                    "diff_py": "126360",
                                    "py_change": "Increase"
                                },
                                {
                                    "order_year": "2013",
                                    "product_name": "Touring-2000 Blue- 54",
                                    "current_sales": "106920",
                                    "avg_sales": "106920",
                                    "diff_avg": "0",
                                    "avg_change": "Avg",
                                    "py_sales": "NULL",
                                    "diff_py": "NULL",
                                    "py_change": "No Change"
                                },
                                {
                                    "order_year": "2012",
                                    "product_name": "Touring-2000 Blue- 60",
                                    "current_sales": "1215",
                                    "avg_sales": "49207",
                                    "diff_avg": "-47992",
                                    "avg_change": "Below Avg",
                                    "py_sales": "NULL",
                                    "diff_py": "NULL",
                                    "py_change": "No Change"
                                },
                                {
                                    "order_year": "2013",
                                    "product_name": "Touring-2000 Blue- 60",
                                    "current_sales": "97200",
                                    "avg_sales": "49207",
                                    "diff_avg": "47993",
                                    "avg_change": "Above Avg",
                                    "py_sales": "1215",
                                    "diff_py": "95985",
                                    "py_change": "Increase"
                                },
                                {
                                    "order_year": "2013",
                                    "product_name": "Touring-3000 Blue- 44",
                                    "current_sales": "39326",
                                    "avg_sales": "39326",
                                    "diff_avg": "0",
                                    "avg_change": "Avg",
                                    "py_sales": "NULL",
                                    "diff_py": "NULL",
                                    "py_change": "No Change"
                                },
                                {
                                    "order_year": "2013",
                                    "product_name": "Touring-3000 Blue- 50",
                                    "current_sales": "35616",
                                    "avg_sales": "35616",
                                    "diff_avg": "0",
                                    "avg_change": "Avg",
                                    "py_sales": "NULL",
                                    "diff_py": "NULL",
                                    "py_change": "No Change"
                                },
                                {
                                    "order_year": "2012",
                                    "product_name": "Touring-3000 Blue- 54",
                                    "current_sales": "742",
                                    "avg_sales": "20405",
                                    "diff_avg": "-19663",
                                    "avg_change": "Below Avg",
                                    "py_sales": "NULL",
                                    "diff_py": "NULL",
                                    "py_change": "No Change"
                                },
                                {
                                    "order_year": "2013",
                                    "product_name": "Touring-3000 Blue- 54",
                                    "current_sales": "40068",
                                    "avg_sales": "20405",
                                    "diff_avg": "19663",
                                    "avg_change": "Above Avg",
                                    "py_sales": "742",
                                    "diff_py": "39326",
                                    "py_change": "Increase"
                                },
                                {
                                    "order_year": "2013",
                                    "product_name": "Touring-3000 Blue- 58",
                                    "current_sales": "42294",
                                    "avg_sales": "42294",
                                    "diff_avg": "0",
                                    "avg_change": "Avg",
                                    "py_sales": "NULL",
                                    "diff_py": "NULL",
                                    "py_change": "No Change"
                                },
                                {
                                    "order_year": "2013",
                                    "product_name": "Touring-3000 Blue- 62",
                                    "current_sales": "47488",
                                    "avg_sales": "47488",
                                    "diff_avg": "0",
                                    "avg_change": "Avg",
                                    "py_sales": "NULL",
                                    "diff_py": "NULL",
                                    "py_change": "No Change"
                                },
                                {
                                    "order_year": "2013",
                                    "product_name": "Touring-3000 Yellow- 44",
                                    "current_sales": "43778",
                                    "avg_sales": "43778",
                                    "diff_avg": "0",
                                    "avg_change": "Avg",
                                    "py_sales": "NULL",
                                    "diff_py": "NULL",
                                    "py_change": "No Change"
                                },
                                {
                                    "order_year": "2013",
                                    "product_name": "Touring-3000 Yellow- 50",
                                    "current_sales": "43778",
                                    "avg_sales": "43778",
                                    "diff_avg": "0",
                                    "avg_change": "Avg",
                                    "py_sales": "NULL",
                                    "diff_py": "NULL",
                                    "py_change": "No Change"
                                },
                                {
                                    "order_year": "2013",
                                    "product_name": "Touring-3000 Yellow- 54",
                                    "current_sales": "35616",
                                    "avg_sales": "35616",
                                    "diff_avg": "0",
                                    "avg_change": "Avg",
                                    "py_sales": "NULL",
                                    "diff_py": "NULL",
                                    "py_change": "No Change"
                                },
                                {
                                    "order_year": "2012",
                                    "product_name": "Touring-3000 Yellow- 58",
                                    "current_sales": "1484",
                                    "avg_sales": "17437",
                                    "diff_avg": "-15953",
                                    "avg_change": "Below Avg",
                                    "py_sales": "NULL",
                                    "diff_py": "NULL",
                                    "py_change": "No Change"
                                },
                                {
                                    "order_year": "2013",
                                    "product_name": "Touring-3000 Yellow- 58",
                                    "current_sales": "33390",
                                    "avg_sales": "17437",
                                    "diff_avg": "15953",
                                    "avg_change": "Above Avg",
                                    "py_sales": "1484",
                                    "diff_py": "31906",
                                    "py_change": "Increase"
                                },
                                {
                                    "order_year": "2013",
                                    "product_name": "Touring-3000 Yellow- 62",
                                    "current_sales": "37100",
                                    "avg_sales": "37100",
                                    "diff_avg": "0",
                                    "avg_change": "Avg",
                                    "py_sales": "NULL",
                                    "diff_py": "NULL",
                                    "py_change": "No Change"
                                },
                                {
                                    "order_year": "2012",
                                    "product_name": "Water Bottle - 30 oz.",
                                    "current_sales": "90",
                                    "avg_sales": "7081",
                                    "diff_avg": "-6991",
                                    "avg_change": "Below Avg",
                                    "py_sales": "NULL",
                                    "diff_py": "NULL",
                                    "py_change": "No Change"
                                },
                                {
                                    "order_year": "2013",
                                    "product_name": "Water Bottle - 30 oz.",
                                    "current_sales": "20425",
                                    "avg_sales": "7081",
                                    "diff_avg": "13344",
                                    "avg_change": "Above Avg",
                                    "py_sales": "90",
                                    "diff_py": "20335",
                                    "py_change": "Increase"
                                },
                                {
                                    "order_year": "2014",
                                    "product_name": "Water Bottle - 30 oz.",
                                    "current_sales": "730",
                                    "avg_sales": "7081",
                                    "diff_avg": "-6351",
                                    "avg_change": "Below Avg",
                                    "py_sales": "20425",
                                    "diff_py": "-19695",
                                    "py_change": "Decrease"
                                },
                                {
                                    "order_year": "2013",
                                    "product_name": "Women's Mountain Shorts- L",
                                    "current_sales": "23800",
                                    "avg_sales": "12705",
                                    "diff_avg": "11095",
                                    "avg_change": "Above Avg",
                                    "py_sales": "NULL",
                                    "diff_py": "NULL",
                                    "py_change": "No Change"
                                },
                                {
                                    "order_year": "2014",
                                    "product_name": "Women's Mountain Shorts- L",
                                    "current_sales": "1610",
                                    "avg_sales": "12705",
                                    "diff_avg": "-11095",
                                    "avg_change": "Below Avg",
                                    "py_sales": "23800",
                                    "diff_py": "-22190",
                                    "py_change": "Decrease"
                                },
                                {
                                    "order_year": "2013",
                                    "product_name": "Women's Mountain Shorts- M",
                                    "current_sales": "23380",
                                    "avg_sales": "12320",
                                    "diff_avg": "11060",
                                    "avg_change": "Above Avg",
                                    "py_sales": "NULL",
                                    "diff_py": "NULL",
                                    "py_change": "No Change"
                                },
                                {
                                    "order_year": "2014",
                                    "product_name": "Women's Mountain Shorts- M",
                                    "current_sales": "1260",
                                    "avg_sales": "12320",
                                    "diff_avg": "-11060",
                                    "avg_change": "Below Avg",
                                    "py_sales": "23380",
                                    "diff_py": "-22120",
                                    "py_change": "Decrease"
                                },
                                {
                                    "order_year": "2013",
                                    "product_name": "Women's Mountain Shorts- S",
                                    "current_sales": "20230",
                                    "avg_sales": "10640",
                                    "diff_avg": "9590",
                                    "avg_change": "Above Avg",
                                    "py_sales": "NULL",
                                    "diff_py": "NULL",
                                    "py_change": "No Change"
                                },
                                {
                                    "order_year": "2014",
                                    "product_name": "Women's Mountain Shorts- S",
                                    "current_sales": "1050",
                                    "avg_sales": "10640",
                                    "diff_avg": "-9590",
                                    "avg_change": "Below Avg",
                                    "py_sales": "20230",
                                    "diff_py": "-19180",
                                    "py_change": "Decrease"
                                }
                            ]
                        },
                        "text/html": [
                            "<table>",
                            "<tr><th>order_year</th><th>product_name</th><th>current_sales</th><th>avg_sales</th><th>diff_avg</th><th>avg_change</th><th>py_sales</th><th>diff_py</th><th>py_change</th></tr>",
                            "<tr><td>2012</td><td>All-Purpose Bike Stand</td><td>159</td><td>13197</td><td>-13038</td><td>Below Avg</td><td>NULL</td><td>NULL</td><td>No Change</td></tr>",
                            "<tr><td>2013</td><td>All-Purpose Bike Stand</td><td>37683</td><td>13197</td><td>24486</td><td>Above Avg</td><td>159</td><td>37524</td><td>Increase</td></tr>",
                            "<tr><td>2014</td><td>All-Purpose Bike Stand</td><td>1749</td><td>13197</td><td>-11448</td><td>Below Avg</td><td>37683</td><td>-35934</td><td>Decrease</td></tr>",
                            "<tr><td>2012</td><td>AWC Logo Cap</td><td>72</td><td>6570</td><td>-6498</td><td>Below Avg</td><td>NULL</td><td>NULL</td><td>No Change</td></tr>",
                            "<tr><td>2013</td><td>AWC Logo Cap</td><td>18891</td><td>6570</td><td>12321</td><td>Above Avg</td><td>72</td><td>18819</td><td>Increase</td></tr>",
                            "<tr><td>2014</td><td>AWC Logo Cap</td><td>747</td><td>6570</td><td>-5823</td><td>Below Avg</td><td>18891</td><td>-18144</td><td>Decrease</td></tr>",
                            "<tr><td>2013</td><td>Bike Wash - Dissolver</td><td>6960</td><td>3636</td><td>3324</td><td>Above Avg</td><td>NULL</td><td>NULL</td><td>No Change</td></tr>",
                            "<tr><td>2014</td><td>Bike Wash - Dissolver</td><td>312</td><td>3636</td><td>-3324</td><td>Below Avg</td><td>6960</td><td>-6648</td><td>Decrease</td></tr>",
                            "<tr><td>2013</td><td>Classic Vest- L</td><td>11968</td><td>6240</td><td>5728</td><td>Above Avg</td><td>NULL</td><td>NULL</td><td>No Change</td></tr>",
                            "<tr><td>2014</td><td>Classic Vest- L</td><td>512</td><td>6240</td><td>-5728</td><td>Below Avg</td><td>11968</td><td>-11456</td><td>Decrease</td></tr>",
                            "<tr><td>2013</td><td>Classic Vest- M</td><td>11840</td><td>6368</td><td>5472</td><td>Above Avg</td><td>NULL</td><td>NULL</td><td>No Change</td></tr>",
                            "<tr><td>2014</td><td>Classic Vest- M</td><td>896</td><td>6368</td><td>-5472</td><td>Below Avg</td><td>11840</td><td>-10944</td><td>Decrease</td></tr>",
                            "<tr><td>2012</td><td>Classic Vest- S</td><td>64</td><td>3648</td><td>-3584</td><td>Below Avg</td><td>NULL</td><td>NULL</td><td>No Change</td></tr>",
                            "<tr><td>2013</td><td>Classic Vest- S</td><td>10368</td><td>3648</td><td>6720</td><td>Above Avg</td><td>64</td><td>10304</td><td>Increase</td></tr>",
                            "<tr><td>2014</td><td>Classic Vest- S</td><td>512</td><td>3648</td><td>-3136</td><td>Below Avg</td><td>10368</td><td>-9856</td><td>Decrease</td></tr>",
                            "<tr><td>2012</td><td>Fender Set - Mountain</td><td>110</td><td>15554</td><td>-15444</td><td>Below Avg</td><td>NULL</td><td>NULL</td><td>No Change</td></tr>",
                            "<tr><td>2013</td><td>Fender Set - Mountain</td><td>44484</td><td>15554</td><td>28930</td><td>Above Avg</td><td>110</td><td>44374</td><td>Increase</td></tr>",
                            "<tr><td>2014</td><td>Fender Set - Mountain</td><td>2068</td><td>15554</td><td>-13486</td><td>Below Avg</td><td>44484</td><td>-42416</td><td>Decrease</td></tr>",
                            "<tr><td>2012</td><td>Half-Finger Gloves- L</td><td>24</td><td>3544</td><td>-3520</td><td>Below Avg</td><td>NULL</td><td>NULL</td><td>No Change</td></tr>",
                            "<tr><td>2013</td><td>Half-Finger Gloves- L</td><td>10248</td><td>3544</td><td>6704</td><td>Above Avg</td><td>24</td><td>10224</td><td>Increase</td></tr>",
                            "<tr><td>2014</td><td>Half-Finger Gloves- L</td><td>360</td><td>3544</td><td>-3184</td><td>Below Avg</td><td>10248</td><td>-9888</td><td>Decrease</td></tr>",
                            "<tr><td>2012</td><td>Half-Finger Gloves- M</td><td>24</td><td>3992</td><td>-3968</td><td>Below Avg</td><td>NULL</td><td>NULL</td><td>No Change</td></tr>",
                            "<tr><td>2013</td><td>Half-Finger Gloves- M</td><td>11376</td><td>3992</td><td>7384</td><td>Above Avg</td><td>24</td><td>11352</td><td>Increase</td></tr>",
                            "<tr><td>2014</td><td>Half-Finger Gloves- M</td><td>576</td><td>3992</td><td>-3416</td><td>Below Avg</td><td>11376</td><td>-10800</td><td>Decrease</td></tr>",
                            "<tr><td>2012</td><td>Half-Finger Gloves- S</td><td>24</td><td>3896</td><td>-3872</td><td>Below Avg</td><td>NULL</td><td>NULL</td><td>No Change</td></tr>",
                            "<tr><td>2013</td><td>Half-Finger Gloves- S</td><td>11064</td><td>3896</td><td>7168</td><td>Above Avg</td><td>24</td><td>11040</td><td>Increase</td></tr>",
                            "<tr><td>2014</td><td>Half-Finger Gloves- S</td><td>600</td><td>3896</td><td>-3296</td><td>Below Avg</td><td>11064</td><td>-10464</td><td>Decrease</td></tr>",
                            "<tr><td>2013</td><td>Hitch Rack - 4-Bike</td><td>36840</td><td>19620</td><td>17220</td><td>Above Avg</td><td>NULL</td><td>NULL</td><td>No Change</td></tr>",
                            "<tr><td>2014</td><td>Hitch Rack - 4-Bike</td><td>2400</td><td>19620</td><td>-17220</td><td>Below Avg</td><td>36840</td><td>-34440</td><td>Decrease</td></tr>",
                            "<tr><td>2012</td><td>HL Mountain Tire</td><td>140</td><td>16286</td><td>-16146</td><td>Below Avg</td><td>NULL</td><td>NULL</td><td>No Change</td></tr>",
                            "<tr><td>2013</td><td>HL Mountain Tire</td><td>46935</td><td>16286</td><td>30649</td><td>Above Avg</td><td>140</td><td>46795</td><td>Increase</td></tr>",
                            "<tr><td>2014</td><td>HL Mountain Tire</td><td>1785</td><td>16286</td><td>-14501</td><td>Below Avg</td><td>46935</td><td>-45150</td><td>Decrease</td></tr>",
                            "<tr><td>2012</td><td>HL Road Tire</td><td>132</td><td>9438</td><td>-9306</td><td>Below Avg</td><td>NULL</td><td>NULL</td><td>No Change</td></tr>",
                            "<tr><td>2013</td><td>HL Road Tire</td><td>26532</td><td>9438</td><td>17094</td><td>Above Avg</td><td>132</td><td>26400</td><td>Increase</td></tr>",
                            "<tr><td>2014</td><td>HL Road Tire</td><td>1650</td><td>9438</td><td>-7788</td><td>Below Avg</td><td>26532</td><td>-24882</td><td>Decrease</td></tr>",
                            "<tr><td>2012</td><td>Hydration Pack - 70 oz.</td><td>110</td><td>13438</td><td>-13328</td><td>Below Avg</td><td>NULL</td><td>NULL</td><td>No Change</td></tr>",
                            "<tr><td>2013</td><td>Hydration Pack - 70 oz.</td><td>38940</td><td>13438</td><td>25502</td><td>Above Avg</td><td>110</td><td>38830</td><td>Increase</td></tr>",
                            "<tr><td>2014</td><td>Hydration Pack - 70 oz.</td><td>1265</td><td>13438</td><td>-12173</td><td>Below Avg</td><td>38940</td><td>-37675</td><td>Decrease</td></tr>",
                            "<tr><td>2013</td><td>LL Mountain Tire</td><td>20125</td><td>10775</td><td>9350</td><td>Above Avg</td><td>NULL</td><td>NULL</td><td>No Change</td></tr>",
                            "<tr><td>2014</td><td>LL Mountain Tire</td><td>1425</td><td>10775</td><td>-9350</td><td>Below Avg</td><td>20125</td><td>-18700</td><td>Decrease</td></tr>",
                            "<tr><td>2012</td><td>LL Road Tire</td><td>105</td><td>7301</td><td>-7196</td><td>Below Avg</td><td>NULL</td><td>NULL</td><td>No Change</td></tr>",
                            "<tr><td>2013</td><td>LL Road Tire</td><td>20622</td><td>7301</td><td>13321</td><td>Above Avg</td><td>105</td><td>20517</td><td>Increase</td></tr>",
                            "<tr><td>2014</td><td>LL Road Tire</td><td>1176</td><td>7301</td><td>-6125</td><td>Below Avg</td><td>20622</td><td>-19446</td><td>Decrease</td></tr>",
                            "<tr><td>2012</td><td>Long-Sleeve Logo Jersey- L</td><td>150</td><td>7550</td><td>-7400</td><td>Below Avg</td><td>NULL</td><td>NULL</td><td>No Change</td></tr>",
                            "<tr><td>2013</td><td>Long-Sleeve Logo Jersey- L</td><td>21550</td><td>7550</td><td>14000</td><td>Above Avg</td><td>150</td><td>21400</td><td>Increase</td></tr>",
                            "<tr><td>2014</td><td>Long-Sleeve Logo Jersey- L</td><td>950</td><td>7550</td><td>-6600</td><td>Below Avg</td><td>21550</td><td>-20600</td><td>Decrease</td></tr>",
                            "<tr><td>2012</td><td>Long-Sleeve Logo Jersey- M</td><td>50</td><td>7366</td><td>-7316</td><td>Below Avg</td><td>NULL</td><td>NULL</td><td>No Change</td></tr>",
                            "<tr><td>2013</td><td>Long-Sleeve Logo Jersey- M</td><td>20850</td><td>7366</td><td>13484</td><td>Above Avg</td><td>50</td><td>20800</td><td>Increase</td></tr>",
                            "<tr><td>2014</td><td>Long-Sleeve Logo Jersey- M</td><td>1200</td><td>7366</td><td>-6166</td><td>Below Avg</td><td>20850</td><td>-19650</td><td>Decrease</td></tr>",
                            "<tr><td>2013</td><td>Long-Sleeve Logo Jersey- S</td><td>20350</td><td>10725</td><td>9625</td><td>Above Avg</td><td>NULL</td><td>NULL</td><td>No Change</td></tr>",
                            "<tr><td>2014</td><td>Long-Sleeve Logo Jersey- S</td><td>1100</td><td>10725</td><td>-9625</td><td>Below Avg</td><td>20350</td><td>-19250</td><td>Decrease</td></tr>",
                            "<tr><td>2013</td><td>Long-Sleeve Logo Jersey- XL</td><td>19850</td><td>10350</td><td>9500</td><td>Above Avg</td><td>NULL</td><td>NULL</td><td>No Change</td></tr>",
                            "<tr><td>2014</td><td>Long-Sleeve Logo Jersey- XL</td><td>850</td><td>10350</td><td>-9500</td><td>Below Avg</td><td>19850</td><td>-19000</td><td>Decrease</td></tr>",
                            "<tr><td>2012</td><td>ML Mountain Tire</td><td>30</td><td>11600</td><td>-11570</td><td>Below Avg</td><td>NULL</td><td>NULL</td><td>No Change</td></tr>",
                            "<tr><td>2013</td><td>ML Mountain Tire</td><td>32580</td><td>11600</td><td>20980</td><td>Above Avg</td><td>30</td><td>32550</td><td>Increase</td></tr>",
                            "<tr><td>2014</td><td>ML Mountain Tire</td><td>2190</td><td>11600</td><td>-9410</td><td>Below Avg</td><td>32580</td><td>-30390</td><td>Decrease</td></tr>",
                            "<tr><td>2012</td><td>ML Road Tire</td><td>50</td><td>7708</td><td>-7658</td><td>Below Avg</td><td>NULL</td><td>NULL</td><td>No Change</td></tr>",
                            "<tr><td>2013</td><td>ML Road Tire</td><td>22275</td><td>7708</td><td>14567</td><td>Above Avg</td><td>50</td><td>22225</td><td>Increase</td></tr>",
                            "<tr><td>2014</td><td>ML Road Tire</td><td>800</td><td>7708</td><td>-6908</td><td>Below Avg</td><td>22275</td><td>-21475</td><td>Decrease</td></tr>",
                            "<tr><td>2012</td><td>Mountain Bottle Cage</td><td>110</td><td>6780</td><td>-6670</td><td>Below Avg</td><td>NULL</td><td>NULL</td><td>No Change</td></tr>",
                            "<tr><td>2013</td><td>Mountain Bottle Cage</td><td>19530</td><td>6780</td><td>12750</td><td>Above Avg</td><td>110</td><td>19420</td><td>Increase</td></tr>",
                            "<tr><td>2014</td><td>Mountain Bottle Cage</td><td>700</td><td>6780</td><td>-6080</td><td>Below Avg</td><td>19530</td><td>-18830</td><td>Decrease</td></tr>",
                            "<tr><td>2012</td><td>Mountain Tire Tube</td><td>15</td><td>5155</td><td>-5140</td><td>Below Avg</td><td>NULL</td><td>NULL</td><td>No Change</td></tr>",
                            "<tr><td>2013</td><td>Mountain Tire Tube</td><td>14620</td><td>5155</td><td>9465</td><td>Above Avg</td><td>15</td><td>14605</td><td>Increase</td></tr>",
                            "<tr><td>2014</td><td>Mountain Tire Tube</td><td>830</td><td>5155</td><td>-4325</td><td>Below Avg</td><td>14620</td><td>-13790</td><td>Decrease</td></tr>",
                            "<tr><td>2011</td><td>Mountain-100 Black- 38</td><td>165375</td><td>165375</td><td>0</td><td>Avg</td><td>NULL</td><td>NULL</td><td>No Change</td></tr>",
                            "<tr><td>2011</td><td>Mountain-100 Black- 42</td><td>151875</td><td>151875</td><td>0</td><td>Avg</td><td>NULL</td><td>NULL</td><td>No Change</td></tr>",
                            "<tr><td>2011</td><td>Mountain-100 Black- 44</td><td>202500</td><td>202500</td><td>0</td><td>Avg</td><td>NULL</td><td>NULL</td><td>No Change</td></tr>",
                            "<tr><td>2010</td><td>Mountain-100 Black- 48</td><td>3375</td><td>96187</td><td>-92812</td><td>Below Avg</td><td>NULL</td><td>NULL</td><td>No Change</td></tr>",
                            "<tr><td>2011</td><td>Mountain-100 Black- 48</td><td>189000</td><td>96187</td><td>92813</td><td>Above Avg</td><td>3375</td><td>185625</td><td>Increase</td></tr>",
                            "<tr><td>2010</td><td>Mountain-100 Silver- 38</td><td>3400</td><td>98600</td><td>-95200</td><td>Below Avg</td><td>NULL</td><td>NULL</td><td>No Change</td></tr>",
                            "<tr><td>2011</td><td>Mountain-100 Silver- 38</td><td>193800</td><td>98600</td><td>95200</td><td>Above Avg</td><td>3400</td><td>190400</td><td>Increase</td></tr>",
                            "<tr><td>2011</td><td>Mountain-100 Silver- 42</td><td>142800</td><td>142800</td><td>0</td><td>Avg</td><td>NULL</td><td>NULL</td><td>No Change</td></tr>",
                            "<tr><td>2010</td><td>Mountain-100 Silver- 44</td><td>10200</td><td>83300</td><td>-73100</td><td>Below Avg</td><td>NULL</td><td>NULL</td><td>No Change</td></tr>",
                            "<tr><td>2011</td><td>Mountain-100 Silver- 44</td><td>156400</td><td>83300</td><td>73100</td><td>Above Avg</td><td>10200</td><td>146200</td><td>Increase</td></tr>",
                            "<tr><td>2011</td><td>Mountain-100 Silver- 48</td><td>122400</td><td>122400</td><td>0</td><td>Avg</td><td>NULL</td><td>NULL</td><td>No Change</td></tr>",
                            "<tr><td>2011</td><td>Mountain-200 Black- 38</td><td>4098</td><td>430853</td><td>-426755</td><td>Below Avg</td><td>NULL</td><td>NULL</td><td>No Change</td></tr>",
                            "<tr><td>2012</td><td>Mountain-200 Black- 38</td><td>342921</td><td>430853</td><td>-87932</td><td>Below Avg</td><td>4098</td><td>338823</td><td>Increase</td></tr>",
                            "<tr><td>2013</td><td>Mountain-200 Black- 38</td><td>945540</td><td>430853</td><td>514687</td><td>Above Avg</td><td>342921</td><td>602619</td><td>Increase</td></tr>",
                            "<tr><td>2012</td><td>Mountain-200 Black- 42</td><td>392343</td><td>681564</td><td>-289221</td><td>Below Avg</td><td>NULL</td><td>NULL</td><td>No Change</td></tr>",
                            "<tr><td>2013</td><td>Mountain-200 Black- 42</td><td>970785</td><td>681564</td><td>289221</td><td>Above Avg</td><td>392343</td><td>578442</td><td>Increase</td></tr>",
                            "<tr><td>2011</td><td>Mountain-200 Black- 46</td><td>2049</td><td>457818</td><td>-455769</td><td>Below Avg</td><td>NULL</td><td>NULL</td><td>No Change</td></tr>",
                            "<tr><td>2012</td><td>Mountain-200 Black- 46</td><td>423570</td><td>457818</td><td>-34248</td><td>Below Avg</td><td>2049</td><td>421521</td><td>Increase</td></tr>",
                            "<tr><td>2013</td><td>Mountain-200 Black- 46</td><td>947835</td><td>457818</td><td>490017</td><td>Above Avg</td><td>423570</td><td>524265</td><td>Increase</td></tr>",
                            "<tr><td>2012</td><td>Mountain-200 Silver- 38</td><td>371954</td><td>669697</td><td>-297743</td><td>Below Avg</td><td>NULL</td><td>NULL</td><td>No Change</td></tr>",
                            "<tr><td>2013</td><td>Mountain-200 Silver- 38</td><td>967440</td><td>669697</td><td>297743</td><td>Above Avg</td><td>371954</td><td>595486</td><td>Increase</td></tr>",
                            "<tr><td>2011</td><td>Mountain-200 Silver- 42</td><td>2071</td><td>419122</td><td>-417051</td><td>Below Avg</td><td>NULL</td><td>NULL</td><td>No Change</td></tr>",
                            "<tr><td>2012</td><td>Mountain-200 Silver- 42</td><td>352817</td><td>419122</td><td>-66305</td><td>Below Avg</td><td>2071</td><td>350746</td><td>Increase</td></tr>",
                            "<tr><td>2013</td><td>Mountain-200 Silver- 42</td><td>902480</td><td>419122</td><td>483358</td><td>Above Avg</td><td>352817</td><td>549663</td><td>Increase</td></tr>",
                            "<tr><td>2012</td><td>Mountain-200 Silver- 46</td><td>377669</td><td>649354</td><td>-271685</td><td>Below Avg</td><td>NULL</td><td>NULL</td><td>No Change</td></tr>",
                            "<tr><td>2013</td><td>Mountain-200 Silver- 46</td><td>921040</td><td>649354</td><td>271686</td><td>Above Avg</td><td>377669</td><td>543371</td><td>Increase</td></tr>",
                            "<tr><td>2013</td><td>Mountain-400-W Silver- 38</td><td>113812</td><td>113812</td><td>0</td><td>Avg</td><td>NULL</td><td>NULL</td><td>No Change</td></tr>",
                            "<tr><td>2012</td><td>Mountain-400-W Silver- 40</td><td>769</td><td>49216</td><td>-48447</td><td>Below Avg</td><td>NULL</td><td>NULL</td><td>No Change</td></tr>",
                            "<tr><td>2013</td><td>Mountain-400-W Silver- 40</td><td>97663</td><td>49216</td><td>48447</td><td>Above Avg</td><td>769</td><td>96894</td><td>Increase</td></tr>",
                            "<tr><td>2013</td><td>Mountain-400-W Silver- 42</td><td>99201</td><td>99201</td><td>0</td><td>Avg</td><td>NULL</td><td>NULL</td><td>No Change</td></tr>",
                            "<tr><td>2013</td><td>Mountain-400-W Silver- 46</td><td>106122</td><td>106122</td><td>0</td><td>Avg</td><td>NULL</td><td>NULL</td><td>No Change</td></tr>",
                            "<tr><td>2012</td><td>Mountain-500 Black- 40</td><td>540</td><td>12960</td><td>-12420</td><td>Below Avg</td><td>NULL</td><td>NULL</td><td>No Change</td></tr>",
                            "<tr><td>2013</td><td>Mountain-500 Black- 40</td><td>25380</td><td>12960</td><td>12420</td><td>Above Avg</td><td>540</td><td>24840</td><td>Increase</td></tr>",
                            "<tr><td>2013</td><td>Mountain-500 Black- 42</td><td>26460</td><td>26460</td><td>0</td><td>Avg</td><td>NULL</td><td>NULL</td><td>No Change</td></tr>",
                            "<tr><td>2013</td><td>Mountain-500 Black- 44</td><td>31320</td><td>31320</td><td>0</td><td>Avg</td><td>NULL</td><td>NULL</td><td>No Change</td></tr>",
                            "<tr><td>2013</td><td>Mountain-500 Black- 48</td><td>30240</td><td>30240</td><td>0</td><td>Avg</td><td>NULL</td><td>NULL</td><td>No Change</td></tr>",
                            "<tr><td>2013</td><td>Mountain-500 Black- 52</td><td>22140</td><td>22140</td><td>0</td><td>Avg</td><td>NULL</td><td>NULL</td><td>No Change</td></tr>",
                            "<tr><td>2013</td><td>Mountain-500 Silver- 40</td><td>25425</td><td>25425</td><td>0</td><td>Avg</td><td>NULL</td><td>NULL</td><td>No Change</td></tr>",
                            "<tr><td>2013</td><td>Mountain-500 Silver- 42</td><td>25425</td><td>25425</td><td>0</td><td>Avg</td><td>NULL</td><td>NULL</td><td>No Change</td></tr>",
                            "<tr><td>2012</td><td>Mountain-500 Silver- 44</td><td>565</td><td>11017</td><td>-10452</td><td>Below Avg</td><td>NULL</td><td>NULL</td><td>No Change</td></tr>",
                            "<tr><td>2013</td><td>Mountain-500 Silver- 44</td><td>21470</td><td>11017</td><td>10453</td><td>Above Avg</td><td>565</td><td>20905</td><td>Increase</td></tr>",
                            "<tr><td>2013</td><td>Mountain-500 Silver- 48</td><td>28250</td><td>28250</td><td>0</td><td>Avg</td><td>NULL</td><td>NULL</td><td>No Change</td></tr>",
                            "<tr><td>2013</td><td>Mountain-500 Silver- 52</td><td>27120</td><td>27120</td><td>0</td><td>Avg</td><td>NULL</td><td>NULL</td><td>No Change</td></tr>",
                            "<tr><td>2012</td><td>Patch Kit/8 Patches</td><td>8</td><td>2126</td><td>-2118</td><td>Below Avg</td><td>NULL</td><td>NULL</td><td>No Change</td></tr>",
                            "<tr><td>2013</td><td>Patch Kit/8 Patches</td><td>6048</td><td>2126</td><td>3922</td><td>Above Avg</td><td>8</td><td>6040</td><td>Increase</td></tr>",
                            "<tr><td>2014</td><td>Patch Kit/8 Patches</td><td>322</td><td>2126</td><td>-1804</td><td>Below Avg</td><td>6048</td><td>-5726</td><td>Decrease</td></tr>",
                            "<tr><td>2012</td><td>Racing Socks- L</td><td>18</td><td>810</td><td>-792</td><td>Below Avg</td><td>NULL</td><td>NULL</td><td>No Change</td></tr>",
                            "<tr><td>2013</td><td>Racing Socks- L</td><td>2340</td><td>810</td><td>1530</td><td>Above Avg</td><td>18</td><td>2322</td><td>Increase</td></tr>",
                            "<tr><td>2014</td><td>Racing Socks- L</td><td>72</td><td>810</td><td>-738</td><td>Below Avg</td><td>2340</td><td>-2268</td><td>Decrease</td></tr>",
                            "<tr><td>2013</td><td>Racing Socks- M</td><td>2529</td><td>1341</td><td>1188</td><td>Above Avg</td><td>NULL</td><td>NULL</td><td>No Change</td></tr>",
                            "<tr><td>2014</td><td>Racing Socks- M</td><td>153</td><td>1341</td><td>-1188</td><td>Below Avg</td><td>2529</td><td>-2376</td><td>Decrease</td></tr>",
                            "<tr><td>2012</td><td>Road Bottle Cage</td><td>81</td><td>5133</td><td>-5052</td><td>Below Avg</td><td>NULL</td><td>NULL</td><td>No Change</td></tr>",
                            "<tr><td>2013</td><td>Road Bottle Cage</td><td>15237</td><td>5133</td><td>10104</td><td>Above Avg</td><td>81</td><td>15156</td><td>Increase</td></tr>",
                            "<tr><td>2014</td><td>Road Bottle Cage</td><td>81</td><td>5133</td><td>-5052</td><td>Below Avg</td><td>15237</td><td>-15156</td><td>Decrease</td></tr>",
                            "<tr><td>2012</td><td>Road Tire Tube</td><td>28</td><td>3166</td><td>-3138</td><td>Below Avg</td><td>NULL</td><td>NULL</td><td>No Change</td></tr>",
                            "<tr><td>2013</td><td>Road Tire Tube</td><td>8888</td><td>3166</td><td>5722</td><td>Above Avg</td><td>28</td><td>8860</td><td>Increase</td></tr>",
                            "<tr><td>2014</td><td>Road Tire Tube</td><td>584</td><td>3166</td><td>-2582</td><td>Below Avg</td><td>8888</td><td>-8304</td><td>Decrease</td></tr>",
                            "<tr><td>2010</td><td>Road-150 Red- 44</td><td>3578</td><td>502709</td><td>-499131</td><td>Below Avg</td><td>NULL</td><td>NULL</td><td>No Change</td></tr>",
                            "<tr><td>2011</td><td>Road-150 Red- 44</td><td>1001840</td><td>502709</td><td>499131</td><td>Above Avg</td><td>3578</td><td>998262</td><td>Increase</td></tr>",
                            "<tr><td>2010</td><td>Road-150 Red- 48</td><td>7156</td><td>602893</td><td>-595737</td><td>Below Avg</td><td>NULL</td><td>NULL</td><td>No Change</td></tr>",
                            "<tr><td>2011</td><td>Road-150 Red- 48</td><td>1198630</td><td>602893</td><td>595737</td><td>Above Avg</td><td>7156</td><td>1191474</td><td>Increase</td></tr>",
                            "<tr><td>2010</td><td>Road-150 Red- 52</td><td>3578</td><td>540278</td><td>-536700</td><td>Below Avg</td><td>NULL</td><td>NULL</td><td>No Change</td></tr>",
                            "<tr><td>2011</td><td>Road-150 Red- 52</td><td>1076978</td><td>540278</td><td>536700</td><td>Above Avg</td><td>3578</td><td>1073400</td><td>Increase</td></tr>",
                            "<tr><td>2010</td><td>Road-150 Red- 56</td><td>3578</td><td>527755</td><td>-524177</td><td>Below Avg</td><td>NULL</td><td>NULL</td><td>No Change</td></tr>",
                            "<tr><td>2011</td><td>Road-150 Red- 56</td><td>1051932</td><td>527755</td><td>524177</td><td>Above Avg</td><td>3578</td><td>1048354</td><td>Increase</td></tr>",
                            "<tr><td>2010</td><td>Road-150 Red- 62</td><td>7156</td><td>601104</td><td>-593948</td><td>Below Avg</td><td>NULL</td><td>NULL</td><td>No Change</td></tr>",
                            "<tr><td>2011</td><td>Road-150 Red- 62</td><td>1195052</td><td>601104</td><td>593948</td><td>Above Avg</td><td>7156</td><td>1187896</td><td>Increase</td></tr>",
                            "<tr><td>2011</td><td>Road-250 Black- 44</td><td>6546</td><td>209461</td><td>-202915</td><td>Below Avg</td><td>NULL</td><td>NULL</td><td>No Change</td></tr>",
                            "<tr><td>2012</td><td>Road-250 Black- 44</td><td>279818</td><td>209461</td><td>70357</td><td>Above Avg</td><td>6546</td><td>273272</td><td>Increase</td></tr>",
                            "<tr><td>2013</td><td>Road-250 Black- 44</td><td>342020</td><td>209461</td><td>132559</td><td>Above Avg</td><td>279818</td><td>62202</td><td>Increase</td></tr>",
                            "<tr><td>2012</td><td>Road-250 Black- 48</td><td>310105</td><td>345606</td><td>-35501</td><td>Below Avg</td><td>NULL</td><td>NULL</td><td>No Change</td></tr>",
                            "<tr><td>2013</td><td>Road-250 Black- 48</td><td>381108</td><td>345606</td><td>35502</td><td>Above Avg</td><td>310105</td><td>71003</td><td>Increase</td></tr>",
                            "<tr><td>2011</td><td>Road-250 Black- 52</td><td>4364</td><td>244808</td><td>-240444</td><td>Below Avg</td><td>NULL</td><td>NULL</td><td>No Change</td></tr>",
                            "<tr><td>2012</td><td>Road-250 Black- 52</td><td>378269</td><td>244808</td><td>133461</td><td>Above Avg</td><td>4364</td><td>373905</td><td>Increase</td></tr>",
                            "<tr><td>2013</td><td>Road-250 Black- 52</td><td>351792</td><td>244808</td><td>106984</td><td>Above Avg</td><td>378269</td><td>-26477</td><td>Decrease</td></tr>",
                            "<tr><td>2011</td><td>Road-250 Black- 58</td><td>2182</td><td>207342</td><td>-205160</td><td>Below Avg</td><td>NULL</td><td>NULL</td><td>No Change</td></tr>",
                            "<tr><td>2012</td><td>Road-250 Black- 58</td><td>316912</td><td>207342</td><td>109570</td><td>Above Avg</td><td>2182</td><td>314730</td><td>Increase</td></tr>",
                            "<tr><td>2013</td><td>Road-250 Black- 58</td><td>302932</td><td>207342</td><td>95590</td><td>Above Avg</td><td>316912</td><td>-13980</td><td>Decrease</td></tr>",
                            "<tr><td>2011</td><td>Road-250 Red- 44</td><td>4886</td><td>175896</td><td>-171010</td><td>Below Avg</td><td>NULL</td><td>NULL</td><td>No Change</td></tr>",
                            "<tr><td>2012</td><td>Road-250 Red- 44</td><td>346906</td><td>175896</td><td>171010</td><td>Above Avg</td><td>4886</td><td>342020</td><td>Increase</td></tr>",
                            "<tr><td>2011</td><td>Road-250 Red- 48</td><td>7329</td><td>197883</td><td>-190554</td><td>Below Avg</td><td>NULL</td><td>NULL</td><td>No Change</td></tr>",
                            "<tr><td>2012</td><td>Road-250 Red- 48</td><td>388437</td><td>197883</td><td>190554</td><td>Above Avg</td><td>7329</td><td>381108</td><td>Increase</td></tr>",
                            "<tr><td>2011</td><td>Road-250 Red- 52</td><td>2443</td><td>162459</td><td>-160016</td><td>Below Avg</td><td>NULL</td><td>NULL</td><td>No Change</td></tr>",
                            "<tr><td>2012</td><td>Road-250 Red- 52</td><td>322476</td><td>162459</td><td>160017</td><td>Above Avg</td><td>2443</td><td>320033</td><td>Increase</td></tr>",
                            "<tr><td>2011</td><td>Road-250 Red- 58</td><td>6546</td><td>234222</td><td>-227676</td><td>Below Avg</td><td>NULL</td><td>NULL</td><td>No Change</td></tr>",
                            "<tr><td>2012</td><td>Road-250 Red- 58</td><td>376087</td><td>234222</td><td>141865</td><td>Above Avg</td><td>6546</td><td>369541</td><td>Increase</td></tr>",
                            "<tr><td>2013</td><td>Road-250 Red- 58</td><td>320033</td><td>234222</td><td>85811</td><td>Above Avg</td><td>376087</td><td>-56054</td><td>Decrease</td></tr>",
                            "<tr><td>2012</td><td>Road-350-W Yellow- 40</td><td>1701</td><td>209223</td><td>-207522</td><td>Below Avg</td><td>NULL</td><td>NULL</td><td>No Change</td></tr>",
                            "<tr><td>2013</td><td>Road-350-W Yellow- 40</td><td>416745</td><td>209223</td><td>207522</td><td>Above Avg</td><td>1701</td><td>415044</td><td>Increase</td></tr>",
                            "<tr><td>2012</td><td>Road-350-W Yellow- 42</td><td>5103</td><td>199867</td><td>-194764</td><td>Below Avg</td><td>NULL</td><td>NULL</td><td>No Change</td></tr>",
                            "<tr><td>2013</td><td>Road-350-W Yellow- 42</td><td>394632</td><td>199867</td><td>194765</td><td>Above Avg</td><td>5103</td><td>389529</td><td>Increase</td></tr>",
                            "<tr><td>2013</td><td>Road-350-W Yellow- 44</td><td>367416</td><td>367416</td><td>0</td><td>Avg</td><td>NULL</td><td>NULL</td><td>No Change</td></tr>",
                            "<tr><td>2012</td><td>Road-350-W Yellow- 48</td><td>1701</td><td>197316</td><td>-195615</td><td>Below Avg</td><td>NULL</td><td>NULL</td><td>No Change</td></tr>",
                            "<tr><td>2013</td><td>Road-350-W Yellow- 48</td><td>392931</td><td>197316</td><td>195615</td><td>Above Avg</td><td>1701</td><td>391230</td><td>Increase</td></tr>",
                            "<tr><td>2011</td><td>Road-550-W Yellow- 38</td><td>1000</td><td>97920</td><td>-96920</td><td>Below Avg</td><td>NULL</td><td>NULL</td><td>No Change</td></tr>",
                            "<tr><td>2012</td><td>Road-550-W Yellow- 38</td><td>71000</td><td>97920</td><td>-26920</td><td>Below Avg</td><td>1000</td><td>70000</td><td>Increase</td></tr>",
                            "<tr><td>2013</td><td>Road-550-W Yellow- 38</td><td>221760</td><td>97920</td><td>123840</td><td>Above Avg</td><td>71000</td><td>150760</td><td>Increase</td></tr>",
                            "<tr><td>2012</td><td>Road-550-W Yellow- 40</td><td>68120</td><td>144940</td><td>-76820</td><td>Below Avg</td><td>NULL</td><td>NULL</td><td>No Change</td></tr>",
                            "<tr><td>2013</td><td>Road-550-W Yellow- 40</td><td>221760</td><td>144940</td><td>76820</td><td>Above Avg</td><td>68120</td><td>153640</td><td>Increase</td></tr>",
                            "<tr><td>2011</td><td>Road-550-W Yellow- 42</td><td>1000</td><td>111480</td><td>-110480</td><td>Below Avg</td><td>NULL</td><td>NULL</td><td>No Change</td></tr>",
                            "<tr><td>2012</td><td>Road-550-W Yellow- 42</td><td>68000</td><td>111480</td><td>-43480</td><td>Below Avg</td><td>1000</td><td>67000</td><td>Increase</td></tr>",
                            "<tr><td>2013</td><td>Road-550-W Yellow- 42</td><td>265440</td><td>111480</td><td>153960</td><td>Above Avg</td><td>68000</td><td>197440</td><td>Increase</td></tr>",
                            "<tr><td>2012</td><td>Road-550-W Yellow- 44</td><td>78120</td><td>156100</td><td>-77980</td><td>Below Avg</td><td>NULL</td><td>NULL</td><td>No Change</td></tr>",
                            "<tr><td>2013</td><td>Road-550-W Yellow- 44</td><td>234080</td><td>156100</td><td>77980</td><td>Above Avg</td><td>78120</td><td>155960</td><td>Increase</td></tr>",
                            "<tr><td>2012</td><td>Road-550-W Yellow- 48</td><td>74240</td><td>141840</td><td>-67600</td><td>Below Avg</td><td>NULL</td><td>NULL</td><td>No Change</td></tr>",
                            "<tr><td>2013</td><td>Road-550-W Yellow- 48</td><td>209440</td><td>141840</td><td>67600</td><td>Above Avg</td><td>74240</td><td>135200</td><td>Increase</td></tr>",
                            "<tr><td>2011</td><td>Road-650 Black- 44</td><td>14679</td><td>23782</td><td>-9103</td><td>Below Avg</td><td>NULL</td><td>NULL</td><td>No Change</td></tr>",
                            "<tr><td>2012</td><td>Road-650 Black- 44</td><td>32886</td><td>23782</td><td>9104</td><td>Above Avg</td><td>14679</td><td>18207</td><td>Increase</td></tr>",
                            "<tr><td>2011</td><td>Road-650 Black- 48</td><td>11883</td><td>22776</td><td>-10893</td><td>Below Avg</td><td>NULL</td><td>NULL</td><td>No Change</td></tr>",
                            "<tr><td>2012</td><td>Road-650 Black- 48</td><td>33669</td><td>22776</td><td>10893</td><td>Above Avg</td><td>11883</td><td>21786</td><td>Increase</td></tr>",
                            "<tr><td>2011</td><td>Road-650 Black- 52</td><td>23067</td><td>33457</td><td>-10390</td><td>Below Avg</td><td>NULL</td><td>NULL</td><td>No Change</td></tr>",
                            "<tr><td>2012</td><td>Road-650 Black- 52</td><td>43848</td><td>33457</td><td>10391</td><td>Above Avg</td><td>23067</td><td>20781</td><td>Increase</td></tr>",
                            "<tr><td>2011</td><td>Road-650 Black- 58</td><td>12582</td><td>28998</td><td>-16416</td><td>Below Avg</td><td>NULL</td><td>NULL</td><td>No Change</td></tr>",
                            "<tr><td>2012</td><td>Road-650 Black- 58</td><td>45414</td><td>28998</td><td>16416</td><td>Above Avg</td><td>12582</td><td>32832</td><td>Increase</td></tr>",
                            "<tr><td>2011</td><td>Road-650 Black- 60</td><td>19572</td><td>28578</td><td>-9006</td><td>Below Avg</td><td>NULL</td><td>NULL</td><td>No Change</td></tr>",
                            "<tr><td>2012</td><td>Road-650 Black- 60</td><td>37584</td><td>28578</td><td>9006</td><td>Above Avg</td><td>19572</td><td>18012</td><td>Increase</td></tr>",
                            "<tr><td>2010</td><td>Road-650 Black- 62</td><td>699</td><td>16349</td><td>-15650</td><td>Below Avg</td><td>NULL</td><td>NULL</td><td>No Change</td></tr>",
                            "<tr><td>2011</td><td>Road-650 Black- 62</td><td>14679</td><td>16349</td><td>-1670</td><td>Below Avg</td><td>699</td><td>13980</td><td>Increase</td></tr>",
                            "<tr><td>2012</td><td>Road-650 Black- 62</td><td>33669</td><td>16349</td><td>17320</td><td>Above Avg</td><td>14679</td><td>18990</td><td>Increase</td></tr>",
                            "<tr><td>2011</td><td>Road-650 Red- 44</td><td>15378</td><td>27264</td><td>-11886</td><td>Below Avg</td><td>NULL</td><td>NULL</td><td>No Change</td></tr>",
                            "<tr><td>2012</td><td>Road-650 Red- 44</td><td>39150</td><td>27264</td><td>11886</td><td>Above Avg</td><td>15378</td><td>23772</td><td>Increase</td></tr>",
                            "<tr><td>2011</td><td>Road-650 Red- 48</td><td>18957</td><td>33360</td><td>-14403</td><td>Below Avg</td><td>NULL</td><td>NULL</td><td>No Change</td></tr>",
                            "<tr><td>2012</td><td>Road-650 Red- 48</td><td>47763</td><td>33360</td><td>14403</td><td>Above Avg</td><td>18957</td><td>28806</td><td>Increase</td></tr>",
                            "<tr><td>2010</td><td>Road-650 Red- 52</td><td>699</td><td>15361</td><td>-14662</td><td>Below Avg</td><td>NULL</td><td>NULL</td><td>No Change</td></tr>",
                            "<tr><td>2011</td><td>Road-650 Red- 52</td><td>14064</td><td>15361</td><td>-1297</td><td>Below Avg</td><td>699</td><td>13365</td><td>Increase</td></tr>",
                            "<tr><td>2012</td><td>Road-650 Red- 52</td><td>31320</td><td>15361</td><td>15959</td><td>Above Avg</td><td>14064</td><td>17256</td><td>Increase</td></tr>",
                            "<tr><td>2011</td><td>Road-650 Red- 58</td><td>13281</td><td>28173</td><td>-14892</td><td>Below Avg</td><td>NULL</td><td>NULL</td><td>No Change</td></tr>",
                            "<tr><td>2012</td><td>Road-650 Red- 58</td><td>43065</td><td>28173</td><td>14892</td><td>Above Avg</td><td>13281</td><td>29784</td><td>Increase</td></tr>",
                            "<tr><td>2011</td><td>Road-650 Red- 60</td><td>11883</td><td>20035</td><td>-8152</td><td>Below Avg</td><td>NULL</td><td>NULL</td><td>No Change</td></tr>",
                            "<tr><td>2012</td><td>Road-650 Red- 60</td><td>28188</td><td>20035</td><td>8153</td><td>Above Avg</td><td>11883</td><td>16305</td><td>Increase</td></tr>",
                            "<tr><td>2011</td><td>Road-650 Red- 62</td><td>11967</td><td>28690</td><td>-16723</td><td>Below Avg</td><td>NULL</td><td>NULL</td><td>No Change</td></tr>",
                            "<tr><td>2012</td><td>Road-650 Red- 62</td><td>45414</td><td>28690</td><td>16724</td><td>Above Avg</td><td>11967</td><td>33447</td><td>Increase</td></tr>",
                            "<tr><td>2012</td><td>Road-750 Black- 44</td><td>1620</td><td>97200</td><td>-95580</td><td>Below Avg</td><td>NULL</td><td>NULL</td><td>No Change</td></tr>",
                            "<tr><td>2013</td><td>Road-750 Black- 44</td><td>192780</td><td>97200</td><td>95580</td><td>Above Avg</td><td>1620</td><td>191160</td><td>Increase</td></tr>",
                            "<tr><td>2012</td><td>Road-750 Black- 48</td><td>1080</td><td>98010</td><td>-96930</td><td>Below Avg</td><td>NULL</td><td>NULL</td><td>No Change</td></tr>",
                            "<tr><td>2013</td><td>Road-750 Black- 48</td><td>194940</td><td>98010</td><td>96930</td><td>Above Avg</td><td>1080</td><td>193860</td><td>Increase</td></tr>",
                            "<tr><td>2012</td><td>Road-750 Black- 52</td><td>2160</td><td>104220</td><td>-102060</td><td>Below Avg</td><td>NULL</td><td>NULL</td><td>No Change</td></tr>",
                            "<tr><td>2013</td><td>Road-750 Black- 52</td><td>206280</td><td>104220</td><td>102060</td><td>Above Avg</td><td>2160</td><td>204120</td><td>Increase</td></tr>",
                            "<tr><td>2012</td><td>Road-750 Black- 58</td><td>1080</td><td>90180</td><td>-89100</td><td>Below Avg</td><td>NULL</td><td>NULL</td><td>No Change</td></tr>",
                            "<tr><td>2013</td><td>Road-750 Black- 58</td><td>179280</td><td>90180</td><td>89100</td><td>Above Avg</td><td>1080</td><td>178200</td><td>Increase</td></tr>",
                            "<tr><td>2012</td><td>Short-Sleeve Classic Jersey- L</td><td>108</td><td>6732</td><td>-6624</td><td>Below Avg</td><td>NULL</td><td>NULL</td><td>No Change</td></tr>",
                            "<tr><td>2013</td><td>Short-Sleeve Classic Jersey- L</td><td>19764</td><td>6732</td><td>13032</td><td>Above Avg</td><td>108</td><td>19656</td><td>Increase</td></tr>",
                            "<tr><td>2014</td><td>Short-Sleeve Classic Jersey- L</td><td>324</td><td>6732</td><td>-6408</td><td>Below Avg</td><td>19764</td><td>-19440</td><td>Decrease</td></tr>",
                            "<tr><td>2012</td><td>Short-Sleeve Classic Jersey- M</td><td>54</td><td>7326</td><td>-7272</td><td>Below Avg</td><td>NULL</td><td>NULL</td><td>No Change</td></tr>",
                            "<tr><td>2013</td><td>Short-Sleeve Classic Jersey- M</td><td>20790</td><td>7326</td><td>13464</td><td>Above Avg</td><td>54</td><td>20736</td><td>Increase</td></tr>",
                            "<tr><td>2014</td><td>Short-Sleeve Classic Jersey- M</td><td>1134</td><td>7326</td><td>-6192</td><td>Below Avg</td><td>20790</td><td>-19656</td><td>Decrease</td></tr>",
                            "<tr><td>2012</td><td>Short-Sleeve Classic Jersey- S</td><td>54</td><td>7308</td><td>-7254</td><td>Below Avg</td><td>NULL</td><td>NULL</td><td>No Change</td></tr>",
                            "<tr><td>2013</td><td>Short-Sleeve Classic Jersey- S</td><td>21384</td><td>7308</td><td>14076</td><td>Above Avg</td><td>54</td><td>21330</td><td>Increase</td></tr>",
                            "<tr><td>2014</td><td>Short-Sleeve Classic Jersey- S</td><td>486</td><td>7308</td><td>-6822</td><td>Below Avg</td><td>21384</td><td>-20898</td><td>Decrease</td></tr>",
                            "<tr><td>2013</td><td>Short-Sleeve Classic Jersey- XL</td><td>21168</td><td>11043</td><td>10125</td><td>Above Avg</td><td>NULL</td><td>NULL</td><td>No Change</td></tr>",
                            "<tr><td>2014</td><td>Short-Sleeve Classic Jersey- XL</td><td>918</td><td>11043</td><td>-10125</td><td>Below Avg</td><td>21168</td><td>-20250</td><td>Decrease</td></tr>",
                            "<tr><td>2012</td><td>Sport-100 Helmet- Black</td><td>210</td><td>24325</td><td>-24115</td><td>Below Avg</td><td>NULL</td><td>NULL</td><td>No Change</td></tr>",
                            "<tr><td>2013</td><td>Sport-100 Helmet- Black</td><td>69895</td><td>24325</td><td>45570</td><td>Above Avg</td><td>210</td><td>69685</td><td>Increase</td></tr>",
                            "<tr><td>2014</td><td>Sport-100 Helmet- Black</td><td>2870</td><td>24325</td><td>-21455</td><td>Below Avg</td><td>69895</td><td>-67025</td><td>Decrease</td></tr>",
                            "<tr><td>2012</td><td>Sport-100 Helmet- Blue</td><td>350</td><td>24791</td><td>-24441</td><td>Below Avg</td><td>NULL</td><td>NULL</td><td>No Change</td></tr>",
                            "<tr><td>2013</td><td>Sport-100 Helmet- Blue</td><td>71050</td><td>24791</td><td>46259</td><td>Above Avg</td><td>350</td><td>70700</td><td>Increase</td></tr>",
                            "<tr><td>2014</td><td>Sport-100 Helmet- Blue</td><td>2975</td><td>24791</td><td>-21816</td><td>Below Avg</td><td>71050</td><td>-68075</td><td>Decrease</td></tr>",
                            "<tr><td>2012</td><td>Sport-100 Helmet- Red</td><td>350</td><td>26016</td><td>-25666</td><td>Below Avg</td><td>NULL</td><td>NULL</td><td>No Change</td></tr>",
                            "<tr><td>2013</td><td>Sport-100 Helmet- Red</td><td>75145</td><td>26016</td><td>49129</td><td>Above Avg</td><td>350</td><td>74795</td><td>Increase</td></tr>",
                            "<tr><td>2014</td><td>Sport-100 Helmet- Red</td><td>2555</td><td>26016</td><td>-23461</td><td>Below Avg</td><td>75145</td><td>-72590</td><td>Decrease</td></tr>",
                            "<tr><td>2012</td><td>Touring Tire</td><td>58</td><td>9038</td><td>-8980</td><td>Below Avg</td><td>NULL</td><td>NULL</td><td>No Change</td></tr>",
                            "<tr><td>2013</td><td>Touring Tire</td><td>25607</td><td>9038</td><td>16569</td><td>Above Avg</td><td>58</td><td>25549</td><td>Increase</td></tr>",
                            "<tr><td>2014</td><td>Touring Tire</td><td>1450</td><td>9038</td><td>-7588</td><td>Below Avg</td><td>25607</td><td>-24157</td><td>Decrease</td></tr>",
                            "<tr><td>2012</td><td>Touring Tire Tube</td><td>10</td><td>2478</td><td>-2468</td><td>Below Avg</td><td>NULL</td><td>NULL</td><td>No Change</td></tr>",
                            "<tr><td>2013</td><td>Touring Tire Tube</td><td>7010</td><td>2478</td><td>4532</td><td>Above Avg</td><td>10</td><td>7000</td><td>Increase</td></tr>",
                            "<tr><td>2014</td><td>Touring Tire Tube</td><td>415</td><td>2478</td><td>-2063</td><td>Below Avg</td><td>7010</td><td>-6595</td><td>Decrease</td></tr>",
                            "<tr><td>2012</td><td>Touring-1000 Blue- 46</td><td>4768</td><td>210984</td><td>-206216</td><td>Below Avg</td><td>NULL</td><td>NULL</td><td>No Change</td></tr>",
                            "<tr><td>2013</td><td>Touring-1000 Blue- 46</td><td>417200</td><td>210984</td><td>206216</td><td>Above Avg</td><td>4768</td><td>412432</td><td>Increase</td></tr>",
                            "<tr><td>2012</td><td>Touring-1000 Blue- 50</td><td>2384</td><td>178800</td><td>-176416</td><td>Below Avg</td><td>NULL</td><td>NULL</td><td>No Change</td></tr>",
                            "<tr><td>2013</td><td>Touring-1000 Blue- 50</td><td>355216</td><td>178800</td><td>176416</td><td>Above Avg</td><td>2384</td><td>352832</td><td>Increase</td></tr>",
                            "<tr><td>2013</td><td>Touring-1000 Blue- 54</td><td>381440</td><td>381440</td><td>0</td><td>Avg</td><td>NULL</td><td>NULL</td><td>No Change</td></tr>",
                            "<tr><td>2012</td><td>Touring-1000 Blue- 60</td><td>2384</td><td>175224</td><td>-172840</td><td>Below Avg</td><td>NULL</td><td>NULL</td><td>No Change</td></tr>",
                            "<tr><td>2013</td><td>Touring-1000 Blue- 60</td><td>348064</td><td>175224</td><td>172840</td><td>Above Avg</td><td>2384</td><td>345680</td><td>Increase</td></tr>",
                            "<tr><td>2013</td><td>Touring-1000 Yellow- 46</td><td>410048</td><td>410048</td><td>0</td><td>Avg</td><td>NULL</td><td>NULL</td><td>No Change</td></tr>",
                            "<tr><td>2012</td><td>Touring-1000 Yellow- 50</td><td>4768</td><td>179992</td><td>-175224</td><td>Below Avg</td><td>NULL</td><td>NULL</td><td>No Change</td></tr>",
                            "<tr><td>2013</td><td>Touring-1000 Yellow- 50</td><td>355216</td><td>179992</td><td>175224</td><td>Above Avg</td><td>4768</td><td>350448</td><td>Increase</td></tr>",
                            "<tr><td>2013</td><td>Touring-1000 Yellow- 54</td><td>376672</td><td>376672</td><td>0</td><td>Avg</td><td>NULL</td><td>NULL</td><td>No Change</td></tr>",
                            "<tr><td>2013</td><td>Touring-1000 Yellow- 60</td><td>333760</td><td>333760</td><td>0</td><td>Avg</td><td>NULL</td><td>NULL</td><td>No Change</td></tr>",
                            "<tr><td>2012</td><td>Touring-2000 Blue- 46</td><td>2430</td><td>58927</td><td>-56497</td><td>Below Avg</td><td>NULL</td><td>NULL</td><td>No Change</td></tr>",
                            "<tr><td>2013</td><td>Touring-2000 Blue- 46</td><td>115425</td><td>58927</td><td>56498</td><td>Above Avg</td><td>2430</td><td>112995</td><td>Increase</td></tr>",
                            "<tr><td>2012</td><td>Touring-2000 Blue- 50</td><td>1215</td><td>64395</td><td>-63180</td><td>Below Avg</td><td>NULL</td><td>NULL</td><td>No Change</td></tr>",
                            "<tr><td>2013</td><td>Touring-2000 Blue- 50</td><td>127575</td><td>64395</td><td>63180</td><td>Above Avg</td><td>1215</td><td>126360</td><td>Increase</td></tr>",
                            "<tr><td>2013</td><td>Touring-2000 Blue- 54</td><td>106920</td><td>106920</td><td>0</td><td>Avg</td><td>NULL</td><td>NULL</td><td>No Change</td></tr>",
                            "<tr><td>2012</td><td>Touring-2000 Blue- 60</td><td>1215</td><td>49207</td><td>-47992</td><td>Below Avg</td><td>NULL</td><td>NULL</td><td>No Change</td></tr>",
                            "<tr><td>2013</td><td>Touring-2000 Blue- 60</td><td>97200</td><td>49207</td><td>47993</td><td>Above Avg</td><td>1215</td><td>95985</td><td>Increase</td></tr>",
                            "<tr><td>2013</td><td>Touring-3000 Blue- 44</td><td>39326</td><td>39326</td><td>0</td><td>Avg</td><td>NULL</td><td>NULL</td><td>No Change</td></tr>",
                            "<tr><td>2013</td><td>Touring-3000 Blue- 50</td><td>35616</td><td>35616</td><td>0</td><td>Avg</td><td>NULL</td><td>NULL</td><td>No Change</td></tr>",
                            "<tr><td>2012</td><td>Touring-3000 Blue- 54</td><td>742</td><td>20405</td><td>-19663</td><td>Below Avg</td><td>NULL</td><td>NULL</td><td>No Change</td></tr>",
                            "<tr><td>2013</td><td>Touring-3000 Blue- 54</td><td>40068</td><td>20405</td><td>19663</td><td>Above Avg</td><td>742</td><td>39326</td><td>Increase</td></tr>",
                            "<tr><td>2013</td><td>Touring-3000 Blue- 58</td><td>42294</td><td>42294</td><td>0</td><td>Avg</td><td>NULL</td><td>NULL</td><td>No Change</td></tr>",
                            "<tr><td>2013</td><td>Touring-3000 Blue- 62</td><td>47488</td><td>47488</td><td>0</td><td>Avg</td><td>NULL</td><td>NULL</td><td>No Change</td></tr>",
                            "<tr><td>2013</td><td>Touring-3000 Yellow- 44</td><td>43778</td><td>43778</td><td>0</td><td>Avg</td><td>NULL</td><td>NULL</td><td>No Change</td></tr>",
                            "<tr><td>2013</td><td>Touring-3000 Yellow- 50</td><td>43778</td><td>43778</td><td>0</td><td>Avg</td><td>NULL</td><td>NULL</td><td>No Change</td></tr>",
                            "<tr><td>2013</td><td>Touring-3000 Yellow- 54</td><td>35616</td><td>35616</td><td>0</td><td>Avg</td><td>NULL</td><td>NULL</td><td>No Change</td></tr>",
                            "<tr><td>2012</td><td>Touring-3000 Yellow- 58</td><td>1484</td><td>17437</td><td>-15953</td><td>Below Avg</td><td>NULL</td><td>NULL</td><td>No Change</td></tr>",
                            "<tr><td>2013</td><td>Touring-3000 Yellow- 58</td><td>33390</td><td>17437</td><td>15953</td><td>Above Avg</td><td>1484</td><td>31906</td><td>Increase</td></tr>",
                            "<tr><td>2013</td><td>Touring-3000 Yellow- 62</td><td>37100</td><td>37100</td><td>0</td><td>Avg</td><td>NULL</td><td>NULL</td><td>No Change</td></tr>",
                            "<tr><td>2012</td><td>Water Bottle - 30 oz.</td><td>90</td><td>7081</td><td>-6991</td><td>Below Avg</td><td>NULL</td><td>NULL</td><td>No Change</td></tr>",
                            "<tr><td>2013</td><td>Water Bottle - 30 oz.</td><td>20425</td><td>7081</td><td>13344</td><td>Above Avg</td><td>90</td><td>20335</td><td>Increase</td></tr>",
                            "<tr><td>2014</td><td>Water Bottle - 30 oz.</td><td>730</td><td>7081</td><td>-6351</td><td>Below Avg</td><td>20425</td><td>-19695</td><td>Decrease</td></tr>",
                            "<tr><td>2013</td><td>Women&#39;s Mountain Shorts- L</td><td>23800</td><td>12705</td><td>11095</td><td>Above Avg</td><td>NULL</td><td>NULL</td><td>No Change</td></tr>",
                            "<tr><td>2014</td><td>Women&#39;s Mountain Shorts- L</td><td>1610</td><td>12705</td><td>-11095</td><td>Below Avg</td><td>23800</td><td>-22190</td><td>Decrease</td></tr>",
                            "<tr><td>2013</td><td>Women&#39;s Mountain Shorts- M</td><td>23380</td><td>12320</td><td>11060</td><td>Above Avg</td><td>NULL</td><td>NULL</td><td>No Change</td></tr>",
                            "<tr><td>2014</td><td>Women&#39;s Mountain Shorts- M</td><td>1260</td><td>12320</td><td>-11060</td><td>Below Avg</td><td>23380</td><td>-22120</td><td>Decrease</td></tr>",
                            "<tr><td>2013</td><td>Women&#39;s Mountain Shorts- S</td><td>20230</td><td>10640</td><td>9590</td><td>Above Avg</td><td>NULL</td><td>NULL</td><td>No Change</td></tr>",
                            "<tr><td>2014</td><td>Women&#39;s Mountain Shorts- S</td><td>1050</td><td>10640</td><td>-9590</td><td>Below Avg</td><td>20230</td><td>-19180</td><td>Decrease</td></tr>",
                            "</table>"
                        ]
                    }
                },
                {
                    "output_type": "execute_result",
                    "metadata": {},
                    "execution_count": 2,
                    "data": {
                        "application/vnd.dataresource+json": {
                            "schema": {
                                "fields": [
                                    {
                                        "name": "cost_range"
                                    },
                                    {
                                        "name": "total_products"
                                    }
                                ]
                            },
                            "data": [
                                {
                                    "cost_range": "Below 100",
                                    "total_products": "110"
                                },
                                {
                                    "cost_range": "100-500",
                                    "total_products": "101"
                                },
                                {
                                    "cost_range": "500-1000",
                                    "total_products": "45"
                                },
                                {
                                    "cost_range": "Above 1000",
                                    "total_products": "39"
                                }
                            ]
                        },
                        "text/html": [
                            "<table>",
                            "<tr><th>cost_range</th><th>total_products</th></tr>",
                            "<tr><td>Below 100</td><td>110</td></tr>",
                            "<tr><td>100-500</td><td>101</td></tr>",
                            "<tr><td>500-1000</td><td>45</td></tr>",
                            "<tr><td>Above 1000</td><td>39</td></tr>",
                            "</table>"
                        ]
                    }
                },
                {
                    "output_type": "execute_result",
                    "metadata": {},
                    "execution_count": 2,
                    "data": {
                        "application/vnd.dataresource+json": {
                            "schema": {
                                "fields": [
                                    {
                                        "name": "customer_segment"
                                    },
                                    {
                                        "name": "total_customers"
                                    }
                                ]
                            },
                            "data": [
                                {
                                    "customer_segment": "New",
                                    "total_customers": "14631"
                                },
                                {
                                    "customer_segment": "Regular",
                                    "total_customers": "2198"
                                },
                                {
                                    "customer_segment": "VIP",
                                    "total_customers": "1655"
                                }
                            ]
                        },
                        "text/html": [
                            "<table>",
                            "<tr><th>customer_segment</th><th>total_customers</th></tr>",
                            "<tr><td>New</td><td>14631</td></tr>",
                            "<tr><td>Regular</td><td>2198</td></tr>",
                            "<tr><td>VIP</td><td>1655</td></tr>",
                            "</table>"
                        ]
                    }
                },
                {
                    "output_type": "execute_result",
                    "metadata": {},
                    "execution_count": 2,
                    "data": {
                        "application/vnd.dataresource+json": {
                            "schema": {
                                "fields": [
                                    {
                                        "name": "category"
                                    },
                                    {
                                        "name": "total_sales"
                                    },
                                    {
                                        "name": "overall_sales"
                                    },
                                    {
                                        "name": "percentage_of_total"
                                    }
                                ]
                            },
                            "data": [
                                {
                                    "category": "Bikes",
                                    "total_sales": "28316272",
                                    "overall_sales": "29356250",
                                    "percentage_of_total": "96.46"
                                },
                                {
                                    "category": "Accessories",
                                    "total_sales": "700262",
                                    "overall_sales": "29356250",
                                    "percentage_of_total": "2.39"
                                },
                                {
                                    "category": "Clothing",
                                    "total_sales": "339716",
                                    "overall_sales": "29356250",
                                    "percentage_of_total": "1.16"
                                }
                            ]
                        },
                        "text/html": [
                            "<table>",
                            "<tr><th>category</th><th>total_sales</th><th>overall_sales</th><th>percentage_of_total</th></tr>",
                            "<tr><td>Bikes</td><td>28316272</td><td>29356250</td><td>96.46</td></tr>",
                            "<tr><td>Accessories</td><td>700262</td><td>29356250</td><td>2.39</td></tr>",
                            "<tr><td>Clothing</td><td>339716</td><td>29356250</td><td>1.16</td></tr>",
                            "</table>"
                        ]
                    }
                }
            ],
            "execution_count": 2
        }
    ]
}